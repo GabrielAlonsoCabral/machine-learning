{
 "cells": [
  {
   "cell_type": "markdown",
   "metadata": {},
   "source": [
    "# 0.0) Introdução.\n",
    "\n",
    "Através de um DataFrame de diversas cidades, através de algumas variáveis criaremos um modelo de previsão de crimes na cidade."
   ]
  },
  {
   "cell_type": "code",
   "execution_count": 1,
   "metadata": {},
   "outputs": [],
   "source": [
    "import pandas as pd\n",
    "import numpy as np\n",
    "import matplotlib.pyplot as plt\n",
    "from sklearn.linear_model import LinearRegression\n",
    "from sklearn.neighbors import KNeighborsRegressor"
   ]
  },
  {
   "cell_type": "code",
   "execution_count": 2,
   "metadata": {},
   "outputs": [
    {
     "data": {
      "text/html": [
       "<div>\n",
       "<style scoped>\n",
       "    .dataframe tbody tr th:only-of-type {\n",
       "        vertical-align: middle;\n",
       "    }\n",
       "\n",
       "    .dataframe tbody tr th {\n",
       "        vertical-align: top;\n",
       "    }\n",
       "\n",
       "    .dataframe thead th {\n",
       "        text-align: right;\n",
       "    }\n",
       "</style>\n",
       "<table border=\"1\" class=\"dataframe\">\n",
       "  <thead>\n",
       "    <tr style=\"text-align: right;\">\n",
       "      <th></th>\n",
       "      <th>ind_pop_cid</th>\n",
       "      <th>perc_pol</th>\n",
       "      <th>taxa_crim</th>\n",
       "      <th>nivel_ed</th>\n",
       "      <th>crimes</th>\n",
       "    </tr>\n",
       "  </thead>\n",
       "  <tbody>\n",
       "    <tr>\n",
       "      <th>0</th>\n",
       "      <td>1.0</td>\n",
       "      <td>7.185471</td>\n",
       "      <td>62.082693</td>\n",
       "      <td>10.0</td>\n",
       "      <td>77</td>\n",
       "    </tr>\n",
       "    <tr>\n",
       "      <th>1</th>\n",
       "      <td>1.0</td>\n",
       "      <td>24.456750</td>\n",
       "      <td>88.244380</td>\n",
       "      <td>6.0</td>\n",
       "      <td>202</td>\n",
       "    </tr>\n",
       "    <tr>\n",
       "      <th>2</th>\n",
       "      <td>1.0</td>\n",
       "      <td>19.791772</td>\n",
       "      <td>94.930257</td>\n",
       "      <td>1.0</td>\n",
       "      <td>348</td>\n",
       "    </tr>\n",
       "    <tr>\n",
       "      <th>3</th>\n",
       "      <td>4.0</td>\n",
       "      <td>10.089496</td>\n",
       "      <td>41.791507</td>\n",
       "      <td>6.0</td>\n",
       "      <td>114</td>\n",
       "    </tr>\n",
       "    <tr>\n",
       "      <th>4</th>\n",
       "      <td>3.0</td>\n",
       "      <td>34.697495</td>\n",
       "      <td>67.615795</td>\n",
       "      <td>1.0</td>\n",
       "      <td>47</td>\n",
       "    </tr>\n",
       "  </tbody>\n",
       "</table>\n",
       "</div>"
      ],
      "text/plain": [
       "   ind_pop_cid   perc_pol  taxa_crim  nivel_ed  crimes\n",
       "0          1.0   7.185471  62.082693      10.0      77\n",
       "1          1.0  24.456750  88.244380       6.0     202\n",
       "2          1.0  19.791772  94.930257       1.0     348\n",
       "3          4.0  10.089496  41.791507       6.0     114\n",
       "4          3.0  34.697495  67.615795       1.0      47"
      ]
     },
     "execution_count": 2,
     "metadata": {},
     "output_type": "execute_result"
    }
   ],
   "source": [
    "df=pd.read_csv('dataframe_exercicio_modulo_8.csv')\n",
    "df.head()"
   ]
  },
  {
   "cell_type": "code",
   "execution_count": 3,
   "metadata": {},
   "outputs": [
    {
     "data": {
      "text/plain": [
       "(2460, 5)"
      ]
     },
     "execution_count": 3,
     "metadata": {},
     "output_type": "execute_result"
    }
   ],
   "source": [
    "df.shape"
   ]
  },
  {
   "cell_type": "markdown",
   "metadata": {},
   "source": [
    "# 1.0 ) Dividindo o dataframe.\n",
    "\n",
    "Antes de analisa-lo faremos a divisão 50/25/25 isto é: 50% para treino, 25% para validação e 25% para testar."
   ]
  },
  {
   "cell_type": "code",
   "execution_count": 4,
   "metadata": {},
   "outputs": [],
   "source": [
    "df_train=df[0:int(df.shape[0]*0.5)]\n",
    "df_valid=df[int(df.shape[0]*0.5):int(df.shape[0]*0.75)]\n",
    "df_test=df[int(df.shape[0]*0.75):int(df.shape[0]*1)+1]"
   ]
  },
  {
   "cell_type": "code",
   "execution_count": 5,
   "metadata": {},
   "outputs": [
    {
     "data": {
      "text/plain": [
       "(1230, 5)"
      ]
     },
     "execution_count": 5,
     "metadata": {},
     "output_type": "execute_result"
    }
   ],
   "source": [
    "df_train.shape"
   ]
  },
  {
   "cell_type": "code",
   "execution_count": 6,
   "metadata": {},
   "outputs": [
    {
     "data": {
      "text/plain": [
       "(615, 5)"
      ]
     },
     "execution_count": 6,
     "metadata": {},
     "output_type": "execute_result"
    }
   ],
   "source": [
    "df_valid.shape"
   ]
  },
  {
   "cell_type": "code",
   "execution_count": 7,
   "metadata": {},
   "outputs": [
    {
     "data": {
      "text/plain": [
       "(615, 5)"
      ]
     },
     "execution_count": 7,
     "metadata": {},
     "output_type": "execute_result"
    }
   ],
   "source": [
    "df_test.shape"
   ]
  },
  {
   "cell_type": "markdown",
   "metadata": {},
   "source": [
    "# 2.0) Escolhendo uma única variável para a previsão.\n",
    "\n",
    "Para isso será necessário estudarmos cada uma das variáveis e trata-las, se necessário.\n",
    "Entender qual é mais interessante através de modelos estatísticos e manipulaçoes algébricas."
   ]
  },
  {
   "cell_type": "code",
   "execution_count": 8,
   "metadata": {},
   "outputs": [
    {
     "name": "stdout",
     "output_type": "stream",
     "text": [
      "<class 'pandas.core.frame.DataFrame'>\n",
      "RangeIndex: 2460 entries, 0 to 2459\n",
      "Data columns (total 5 columns):\n",
      " #   Column       Non-Null Count  Dtype  \n",
      "---  ------       --------------  -----  \n",
      " 0   ind_pop_cid  2460 non-null   float64\n",
      " 1   perc_pol     2460 non-null   float64\n",
      " 2   taxa_crim    2460 non-null   float64\n",
      " 3   nivel_ed     2460 non-null   float64\n",
      " 4   crimes       2460 non-null   int64  \n",
      "dtypes: float64(4), int64(1)\n",
      "memory usage: 96.2 KB\n"
     ]
    }
   ],
   "source": [
    "df.info()"
   ]
  },
  {
   "cell_type": "code",
   "execution_count": 9,
   "metadata": {},
   "outputs": [
    {
     "data": {
      "text/html": [
       "<div>\n",
       "<style scoped>\n",
       "    .dataframe tbody tr th:only-of-type {\n",
       "        vertical-align: middle;\n",
       "    }\n",
       "\n",
       "    .dataframe tbody tr th {\n",
       "        vertical-align: top;\n",
       "    }\n",
       "\n",
       "    .dataframe thead th {\n",
       "        text-align: right;\n",
       "    }\n",
       "</style>\n",
       "<table border=\"1\" class=\"dataframe\">\n",
       "  <thead>\n",
       "    <tr style=\"text-align: right;\">\n",
       "      <th></th>\n",
       "      <th>ind_pop_cid</th>\n",
       "      <th>perc_pol</th>\n",
       "      <th>taxa_crim</th>\n",
       "      <th>nivel_ed</th>\n",
       "      <th>crimes</th>\n",
       "    </tr>\n",
       "  </thead>\n",
       "  <tbody>\n",
       "    <tr>\n",
       "      <th>count</th>\n",
       "      <td>2460.000000</td>\n",
       "      <td>2460.000000</td>\n",
       "      <td>2460.000000</td>\n",
       "      <td>2460.000000</td>\n",
       "      <td>2460.000000</td>\n",
       "    </tr>\n",
       "    <tr>\n",
       "      <th>mean</th>\n",
       "      <td>3.080488</td>\n",
       "      <td>16.032527</td>\n",
       "      <td>64.945933</td>\n",
       "      <td>5.093089</td>\n",
       "      <td>177.607724</td>\n",
       "    </tr>\n",
       "    <tr>\n",
       "      <th>std</th>\n",
       "      <td>1.423109</td>\n",
       "      <td>10.466474</td>\n",
       "      <td>23.551127</td>\n",
       "      <td>2.827254</td>\n",
       "      <td>119.851061</td>\n",
       "    </tr>\n",
       "    <tr>\n",
       "      <th>min</th>\n",
       "      <td>1.000000</td>\n",
       "      <td>0.014848</td>\n",
       "      <td>0.644731</td>\n",
       "      <td>1.000000</td>\n",
       "      <td>0.000000</td>\n",
       "    </tr>\n",
       "    <tr>\n",
       "      <th>25%</th>\n",
       "      <td>2.000000</td>\n",
       "      <td>7.093529</td>\n",
       "      <td>47.604707</td>\n",
       "      <td>3.000000</td>\n",
       "      <td>77.000000</td>\n",
       "    </tr>\n",
       "    <tr>\n",
       "      <th>50%</th>\n",
       "      <td>3.000000</td>\n",
       "      <td>14.843907</td>\n",
       "      <td>68.809210</td>\n",
       "      <td>5.000000</td>\n",
       "      <td>157.000000</td>\n",
       "    </tr>\n",
       "    <tr>\n",
       "      <th>75%</th>\n",
       "      <td>4.000000</td>\n",
       "      <td>23.669780</td>\n",
       "      <td>84.670920</td>\n",
       "      <td>7.000000</td>\n",
       "      <td>265.000000</td>\n",
       "    </tr>\n",
       "    <tr>\n",
       "      <th>max</th>\n",
       "      <td>5.000000</td>\n",
       "      <td>45.147573</td>\n",
       "      <td>99.997355</td>\n",
       "      <td>10.000000</td>\n",
       "      <td>529.000000</td>\n",
       "    </tr>\n",
       "  </tbody>\n",
       "</table>\n",
       "</div>"
      ],
      "text/plain": [
       "       ind_pop_cid     perc_pol    taxa_crim     nivel_ed       crimes\n",
       "count  2460.000000  2460.000000  2460.000000  2460.000000  2460.000000\n",
       "mean      3.080488    16.032527    64.945933     5.093089   177.607724\n",
       "std       1.423109    10.466474    23.551127     2.827254   119.851061\n",
       "min       1.000000     0.014848     0.644731     1.000000     0.000000\n",
       "25%       2.000000     7.093529    47.604707     3.000000    77.000000\n",
       "50%       3.000000    14.843907    68.809210     5.000000   157.000000\n",
       "75%       4.000000    23.669780    84.670920     7.000000   265.000000\n",
       "max       5.000000    45.147573    99.997355    10.000000   529.000000"
      ]
     },
     "execution_count": 9,
     "metadata": {},
     "output_type": "execute_result"
    }
   ],
   "source": [
    "df.describe()"
   ]
  },
  {
   "cell_type": "markdown",
   "metadata": {},
   "source": [
    "Analisando os números, estas variáveis aparentemente já estão tratadas, não possui dados nulos e nenhum outlier que não faça sentido. \n",
    "\n",
    "Vemos que existe um outlier na variável crimes, onde o maximo foi 529, porém ainda assim ele é condizente."
   ]
  },
  {
   "cell_type": "markdown",
   "metadata": {},
   "source": [
    "# 2.1) Estudando as correlações das variáveis.\n"
   ]
  },
  {
   "cell_type": "markdown",
   "metadata": {},
   "source": [
    " **ind_pop_cid e crimes** :\n",
    " "
   ]
  },
  {
   "cell_type": "code",
   "execution_count": 10,
   "metadata": {},
   "outputs": [
    {
     "data": {
      "text/plain": [
       "0.056637406445672306"
      ]
     },
     "execution_count": 10,
     "metadata": {},
     "output_type": "execute_result"
    }
   ],
   "source": [
    "df_train['ind_pop_cid'].corr(df_train.crimes)"
   ]
  },
  {
   "cell_type": "code",
   "execution_count": 11,
   "metadata": {},
   "outputs": [
    {
     "name": "stdout",
     "output_type": "stream",
     "text": [
      "Correlação de ind_pop_cid e crimes 0.056637406445672306\n",
      "Correlação de perc_pol e crimes -0.3796420869323822\n",
      "Correlação de taxa_crim e crimes 0.5823365049451648\n",
      "Correlação de nivel_ed e crimes -0.19953906090618267\n",
      "Correlação de crimes e crimes 1.0\n"
     ]
    }
   ],
   "source": [
    "for variavel in df_train.columns:\n",
    "    print('Correlação de %s e crimes'%variavel, df_train['%s'%variavel].corr(df_train.crimes))"
   ]
  },
  {
   "cell_type": "markdown",
   "metadata": {},
   "source": [
    "A variável **taxa_crim** foi a que performou melhor no estudo de correlaçao com a nossa variável target.\n",
    "Portanto, partirei desta variável para gerar o modelo de previsão com variável única."
   ]
  },
  {
   "cell_type": "markdown",
   "metadata": {},
   "source": [
    "# 3.0 ) Visualizando a relação de taxa_crim e crimes."
   ]
  },
  {
   "cell_type": "code",
   "execution_count": 12,
   "metadata": {},
   "outputs": [
    {
     "data": {
      "image/png": "[encoded data removed]",
      "text/plain": [
       "<Figure size 1080x360 with 1 Axes>"
      ]
     },
     "metadata": {
      "needs_background": "light"
     },
     "output_type": "display_data"
    }
   ],
   "source": [
    "plt.figure(figsize=[15,5])\n",
    "plt.grid(True)\n",
    "plt.scatter(x=df_train['taxa_crim'],y=df_train.crimes)\n",
    "plt.xlabel('taxa_crim',fontweight='bold',fontsize=15)\n",
    "plt.xticks(np.arange(0, 101, step=5))\n",
    "plt.ylabel('crimes',fontweight='bold',fontsize=15)\n",
    "plt.yticks(rotation=0)\n",
    "\n",
    "plt.show()"
   ]
  },
  {
   "cell_type": "markdown",
   "metadata": {},
   "source": [
    " # 3.1) Gerando um regressão linear.\n",
    " \n",
    "Vamos gerar uma regressão linear a fim de gerarmos uma reta que melhor interprete os dados.\n",
    "\n",
    "Através do resultado dela, poderemos até usa-la como um modelo de predição."
   ]
  },
  {
   "cell_type": "code",
   "execution_count": 13,
   "metadata": {},
   "outputs": [],
   "source": [
    "lr=LinearRegression()"
   ]
  },
  {
   "cell_type": "code",
   "execution_count": 14,
   "metadata": {},
   "outputs": [],
   "source": [
    "x_train01=df_train['taxa_crim'].values.reshape(-1,1)\n",
    "y_target01=df_train['crimes']\n"
   ]
  },
  {
   "cell_type": "code",
   "execution_count": 15,
   "metadata": {},
   "outputs": [
    {
     "data": {
      "text/plain": [
       "LinearRegression()"
      ]
     },
     "execution_count": 15,
     "metadata": {},
     "output_type": "execute_result"
    }
   ],
   "source": [
    "lr.fit(x_train01,y_target01)"
   ]
  },
  {
   "cell_type": "code",
   "execution_count": 16,
   "metadata": {},
   "outputs": [],
   "source": [
    "y_pred01=lr.predict(x_train01)\n"
   ]
  },
  {
   "cell_type": "markdown",
   "metadata": {},
   "source": [
    "# 3.2) Mensurando a assertividade através do RMSE."
   ]
  },
  {
   "cell_type": "code",
   "execution_count": 17,
   "metadata": {},
   "outputs": [],
   "source": [
    "def RMSE(y,y_pred):\n",
    "    \n",
    "    return np.mean(((y-y_pred)**2)**0.5)"
   ]
  },
  {
   "cell_type": "code",
   "execution_count": 18,
   "metadata": {},
   "outputs": [
    {
     "data": {
      "text/plain": [
       "78.31392716037304"
      ]
     },
     "execution_count": 18,
     "metadata": {},
     "output_type": "execute_result"
    }
   ],
   "source": [
    "RMSE(y=df_train['crimes'],y_pred=y_pred01)"
   ]
  },
  {
   "cell_type": "markdown",
   "metadata": {},
   "source": [
    "Com um RMSE de 78.32, aparentemente esta variável taxa_crim apresentou um bom resultado(pelo menos durante o treino).\n"
   ]
  },
  {
   "cell_type": "markdown",
   "metadata": {},
   "source": [
    "# 3.3 ) Visualizando a regressão."
   ]
  },
  {
   "cell_type": "code",
   "execution_count": 19,
   "metadata": {},
   "outputs": [
    {
     "data": {
      "image/png": "[encoded data removed]",
      "text/plain": [
       "<Figure size 1080x360 with 1 Axes>"
      ]
     },
     "metadata": {
      "needs_background": "light"
     },
     "output_type": "display_data"
    }
   ],
   "source": [
    "plt.figure(figsize=[15,5])\n",
    "plt.grid(True)\n",
    "\n",
    "plt.title('RMSE: %s'%round(RMSE(y=df_train['crimes'],y_pred=y_pred01),2))\n",
    "plt.scatter(x=df_train['taxa_crim'],y=df_train.crimes)\n",
    "plt.plot(x_train01,y_pred01,c='red')\n",
    "plt.xlabel('taxa_crim',fontweight='bold',fontsize=15)\n",
    "plt.xticks(np.arange(0, 101, step=5))\n",
    "plt.ylabel('crimes',fontweight='bold',fontsize=15)\n",
    "plt.yticks(rotation=0)\n",
    "\n",
    "plt.show()"
   ]
  },
  {
   "cell_type": "markdown",
   "metadata": {},
   "source": [
    "# 3.4) Validando nosso modelo de predição por regressão.\n",
    "\n",
    "Agora usaremos nossa relação entre as variáveis taxa_crim e crimes no nosso df_valid."
   ]
  },
  {
   "cell_type": "code",
   "execution_count": 20,
   "metadata": {},
   "outputs": [],
   "source": [
    "x_valid01=df_valid['taxa_crim'].values.reshape(-1,1)\n",
    "y_target02=df_valid['crimes']"
   ]
  },
  {
   "cell_type": "code",
   "execution_count": 21,
   "metadata": {},
   "outputs": [
    {
     "data": {
      "text/plain": [
       "LinearRegression()"
      ]
     },
     "execution_count": 21,
     "metadata": {},
     "output_type": "execute_result"
    }
   ],
   "source": [
    "lr.fit(x_valid01,y_target02)"
   ]
  },
  {
   "cell_type": "code",
   "execution_count": 22,
   "metadata": {},
   "outputs": [],
   "source": [
    "y_pred02=lr.predict(x_valid01)"
   ]
  },
  {
   "cell_type": "code",
   "execution_count": 23,
   "metadata": {},
   "outputs": [
    {
     "data": {
      "text/plain": [
       "80.96500522056249"
      ]
     },
     "execution_count": 23,
     "metadata": {},
     "output_type": "execute_result"
    }
   ],
   "source": [
    "RMSE(y=y_target02,y_pred=y_pred02)"
   ]
  },
  {
   "cell_type": "markdown",
   "metadata": {},
   "source": [
    "Com um RMSE bem próximo ao do nosso modelo de treino, de fato nosso modelo de regressão aparenta estar perfomando bem.\n",
    "\n",
    "No treino teve um RMSE de 78.32 e agora na validação teve um RMSE de 80.97."
   ]
  },
  {
   "cell_type": "markdown",
   "metadata": {},
   "source": [
    "# 3.5 Visualizando a validação."
   ]
  },
  {
   "cell_type": "code",
   "execution_count": 24,
   "metadata": {},
   "outputs": [
    {
     "data": {
      "image/png": "[encoded data removed]",
      "text/plain": [
       "<Figure size 1080x360 with 1 Axes>"
      ]
     },
     "metadata": {
      "needs_background": "light"
     },
     "output_type": "display_data"
    }
   ],
   "source": [
    "plt.figure(figsize=[15,5])\n",
    "plt.grid(True)\n",
    "\n",
    "plt.title('RMSE: %s'%round(RMSE(y=df_valid['crimes'],y_pred=y_pred02),2))\n",
    "plt.scatter(x=df_valid['taxa_crim'],y=df_valid.crimes)\n",
    "plt.plot(x_valid01,y_pred02,c='red')\n",
    "plt.xlabel('taxa_crim',fontweight='bold',fontsize=15)\n",
    "plt.xticks(np.arange(0, 101, step=5))\n",
    "plt.ylabel('crimes',fontweight='bold',fontsize=15)\n",
    "plt.yticks(rotation=0)\n",
    "\n",
    "plt.show()"
   ]
  },
  {
   "cell_type": "code",
   "execution_count": 25,
   "metadata": {},
   "outputs": [
    {
     "data": {
      "text/html": [
       "<div>\n",
       "<style scoped>\n",
       "    .dataframe tbody tr th:only-of-type {\n",
       "        vertical-align: middle;\n",
       "    }\n",
       "\n",
       "    .dataframe tbody tr th {\n",
       "        vertical-align: top;\n",
       "    }\n",
       "\n",
       "    .dataframe thead th {\n",
       "        text-align: right;\n",
       "    }\n",
       "</style>\n",
       "<table border=\"1\" class=\"dataframe\">\n",
       "  <thead>\n",
       "    <tr style=\"text-align: right;\">\n",
       "      <th></th>\n",
       "      <th>crimes</th>\n",
       "      <th>crimes_predict</th>\n",
       "    </tr>\n",
       "  </thead>\n",
       "  <tbody>\n",
       "    <tr>\n",
       "      <th>1230</th>\n",
       "      <td>205</td>\n",
       "      <td>261.103435</td>\n",
       "    </tr>\n",
       "    <tr>\n",
       "      <th>1231</th>\n",
       "      <td>24</td>\n",
       "      <td>74.532102</td>\n",
       "    </tr>\n",
       "    <tr>\n",
       "      <th>1232</th>\n",
       "      <td>329</td>\n",
       "      <td>252.292368</td>\n",
       "    </tr>\n",
       "    <tr>\n",
       "      <th>1233</th>\n",
       "      <td>123</td>\n",
       "      <td>94.349595</td>\n",
       "    </tr>\n",
       "    <tr>\n",
       "      <th>1234</th>\n",
       "      <td>214</td>\n",
       "      <td>126.429646</td>\n",
       "    </tr>\n",
       "    <tr>\n",
       "      <th>1235</th>\n",
       "      <td>147</td>\n",
       "      <td>182.371550</td>\n",
       "    </tr>\n",
       "    <tr>\n",
       "      <th>1236</th>\n",
       "      <td>247</td>\n",
       "      <td>230.029838</td>\n",
       "    </tr>\n",
       "    <tr>\n",
       "      <th>1237</th>\n",
       "      <td>215</td>\n",
       "      <td>158.149729</td>\n",
       "    </tr>\n",
       "    <tr>\n",
       "      <th>1238</th>\n",
       "      <td>172</td>\n",
       "      <td>192.346732</td>\n",
       "    </tr>\n",
       "    <tr>\n",
       "      <th>1239</th>\n",
       "      <td>384</td>\n",
       "      <td>235.480886</td>\n",
       "    </tr>\n",
       "  </tbody>\n",
       "</table>\n",
       "</div>"
      ],
      "text/plain": [
       "      crimes  crimes_predict\n",
       "1230     205      261.103435\n",
       "1231      24       74.532102\n",
       "1232     329      252.292368\n",
       "1233     123       94.349595\n",
       "1234     214      126.429646\n",
       "1235     147      182.371550\n",
       "1236     247      230.029838\n",
       "1237     215      158.149729\n",
       "1238     172      192.346732\n",
       "1239     384      235.480886"
      ]
     },
     "execution_count": 25,
     "metadata": {},
     "output_type": "execute_result"
    }
   ],
   "source": [
    "df_aux01=pd.DataFrame({'crimes':df_valid['crimes'],'crimes_predict':y_pred02})\n",
    "df_aux01.head(10)"
   ]
  },
  {
   "cell_type": "markdown",
   "metadata": {},
   "source": [
    " Olhando par a par, vimos que o modelo não fez previsões tão boas assim, vamos olhar através do modelo de KNN para ver se alcançamos resultados melhores."
   ]
  },
  {
   "cell_type": "markdown",
   "metadata": {},
   "source": [
    "# 4.0 ) KNN\n",
    "\n",
    "Usaremos o metódo KNN no dataframe de treino,  escolheremos aquele que performar melhor para o dataframe de validação."
   ]
  },
  {
   "cell_type": "code",
   "execution_count": 26,
   "metadata": {},
   "outputs": [],
   "source": [
    "x_train02=df_train['taxa_crim'].values.reshape(-1,1)\n"
   ]
  },
  {
   "cell_type": "code",
   "execution_count": 27,
   "metadata": {},
   "outputs": [
    {
     "name": "stdout",
     "output_type": "stream",
     "text": [
      "O RMSE 0.0 foi de  para 1 vizinhos. \n",
      "\n",
      "O RMSE 54.48 foi de  para 2 vizinhos. \n",
      "\n",
      "O RMSE 62.13 foi de  para 3 vizinhos. \n",
      "\n",
      "O RMSE 65.96 foi de  para 4 vizinhos. \n",
      "\n",
      "O RMSE 68.86 foi de  para 5 vizinhos. \n",
      "\n",
      "O RMSE 70.53 foi de  para 6 vizinhos. \n",
      "\n",
      "O RMSE 71.59 foi de  para 7 vizinhos. \n",
      "\n",
      "O RMSE 72.68 foi de  para 8 vizinhos. \n",
      "\n",
      "O RMSE 73.77 foi de  para 9 vizinhos. \n",
      "\n",
      "O RMSE 74.41 foi de  para 10 vizinhos. \n",
      "\n",
      "O RMSE 74.7 foi de  para 11 vizinhos. \n",
      "\n",
      "O RMSE 75.07 foi de  para 12 vizinhos. \n",
      "\n",
      "O RMSE 75.33 foi de  para 13 vizinhos. \n",
      "\n",
      "O RMSE 75.49 foi de  para 14 vizinhos. \n",
      "\n",
      "O RMSE 75.91 foi de  para 15 vizinhos. \n",
      "\n",
      "O RMSE 75.87 foi de  para 16 vizinhos. \n",
      "\n",
      "O RMSE 75.96 foi de  para 17 vizinhos. \n",
      "\n",
      "O RMSE 76.07 foi de  para 18 vizinhos. \n",
      "\n",
      "O RMSE 76.31 foi de  para 19 vizinhos. \n",
      "\n",
      "O RMSE 76.73 foi de  para 20 vizinhos. \n",
      "\n",
      "O RMSE 76.75 foi de  para 21 vizinhos. \n",
      "\n",
      "O RMSE 76.72 foi de  para 22 vizinhos. \n",
      "\n",
      "O RMSE 76.86 foi de  para 23 vizinhos. \n",
      "\n",
      "O RMSE 76.99 foi de  para 24 vizinhos. \n",
      "\n",
      "O RMSE 76.93 foi de  para 25 vizinhos. \n",
      "\n",
      "O RMSE 76.94 foi de  para 26 vizinhos. \n",
      "\n",
      "O RMSE 77.08 foi de  para 27 vizinhos. \n",
      "\n",
      "O RMSE 77.15 foi de  para 28 vizinhos. \n",
      "\n",
      "O RMSE 77.09 foi de  para 29 vizinhos. \n",
      "\n",
      "O RMSE 77.17 foi de  para 30 vizinhos. \n",
      "\n",
      "O RMSE 77.25 foi de  para 31 vizinhos. \n",
      "\n",
      "O RMSE 77.31 foi de  para 32 vizinhos. \n",
      "\n",
      "O RMSE 77.33 foi de  para 33 vizinhos. \n",
      "\n",
      "O RMSE 77.48 foi de  para 34 vizinhos. \n",
      "\n",
      "O RMSE 77.52 foi de  para 35 vizinhos. \n",
      "\n",
      "O RMSE 77.53 foi de  para 36 vizinhos. \n",
      "\n",
      "O RMSE 77.58 foi de  para 37 vizinhos. \n",
      "\n",
      "O RMSE 77.63 foi de  para 38 vizinhos. \n",
      "\n",
      "O RMSE 77.55 foi de  para 39 vizinhos. \n",
      "\n",
      "O RMSE 77.55 foi de  para 40 vizinhos. \n",
      "\n",
      "O RMSE 77.63 foi de  para 41 vizinhos. \n",
      "\n",
      "O RMSE 77.68 foi de  para 42 vizinhos. \n",
      "\n",
      "O RMSE 77.76 foi de  para 43 vizinhos. \n",
      "\n",
      "O RMSE 77.86 foi de  para 44 vizinhos. \n",
      "\n",
      "O RMSE 77.86 foi de  para 45 vizinhos. \n",
      "\n",
      "O RMSE 77.79 foi de  para 46 vizinhos. \n",
      "\n",
      "O RMSE 77.8 foi de  para 47 vizinhos. \n",
      "\n",
      "O RMSE 77.92 foi de  para 48 vizinhos. \n",
      "\n",
      "O RMSE 77.94 foi de  para 49 vizinhos. \n",
      "\n",
      "O RMSE 77.96 foi de  para 50 vizinhos. \n",
      "\n",
      "O RMSE 77.98 foi de  para 51 vizinhos. \n",
      "\n",
      "O RMSE 77.93 foi de  para 52 vizinhos. \n",
      "\n",
      "O RMSE 77.91 foi de  para 53 vizinhos. \n",
      "\n",
      "O RMSE 77.94 foi de  para 54 vizinhos. \n",
      "\n",
      "O RMSE 78.03 foi de  para 55 vizinhos. \n",
      "\n",
      "O RMSE 77.98 foi de  para 56 vizinhos. \n",
      "\n",
      "O RMSE 78.02 foi de  para 57 vizinhos. \n",
      "\n",
      "O RMSE 78.05 foi de  para 58 vizinhos. \n",
      "\n",
      "O RMSE 78.09 foi de  para 59 vizinhos. \n",
      "\n",
      "O RMSE 78.12 foi de  para 60 vizinhos. \n",
      "\n",
      "O RMSE 78.16 foi de  para 61 vizinhos. \n",
      "\n",
      "O RMSE 78.16 foi de  para 62 vizinhos. \n",
      "\n",
      "O RMSE 78.19 foi de  para 63 vizinhos. \n",
      "\n",
      "O RMSE 78.25 foi de  para 64 vizinhos. \n",
      "\n",
      "O RMSE 78.22 foi de  para 65 vizinhos. \n",
      "\n",
      "O RMSE 78.19 foi de  para 66 vizinhos. \n",
      "\n",
      "O RMSE 78.22 foi de  para 67 vizinhos. \n",
      "\n",
      "O RMSE 78.22 foi de  para 68 vizinhos. \n",
      "\n",
      "O RMSE 78.29 foi de  para 69 vizinhos. \n",
      "\n",
      "O RMSE 78.21 foi de  para 70 vizinhos. \n",
      "\n",
      "O RMSE 78.18 foi de  para 71 vizinhos. \n",
      "\n",
      "O RMSE 78.15 foi de  para 72 vizinhos. \n",
      "\n",
      "O RMSE 78.17 foi de  para 73 vizinhos. \n",
      "\n",
      "O RMSE 78.16 foi de  para 74 vizinhos. \n",
      "\n",
      "O RMSE 78.15 foi de  para 75 vizinhos. \n",
      "\n",
      "O RMSE 78.19 foi de  para 76 vizinhos. \n",
      "\n",
      "O RMSE 78.22 foi de  para 77 vizinhos. \n",
      "\n",
      "O RMSE 78.2 foi de  para 78 vizinhos. \n",
      "\n",
      "O RMSE 78.25 foi de  para 79 vizinhos. \n",
      "\n",
      "O RMSE 78.18 foi de  para 80 vizinhos. \n",
      "\n",
      "O RMSE 78.22 foi de  para 81 vizinhos. \n",
      "\n",
      "O RMSE 78.28 foi de  para 82 vizinhos. \n",
      "\n",
      "O RMSE 78.25 foi de  para 83 vizinhos. \n",
      "\n",
      "O RMSE 78.23 foi de  para 84 vizinhos. \n",
      "\n",
      "O RMSE 78.3 foi de  para 85 vizinhos. \n",
      "\n",
      "O RMSE 78.3 foi de  para 86 vizinhos. \n",
      "\n",
      "O RMSE 78.33 foi de  para 87 vizinhos. \n",
      "\n",
      "O RMSE 78.3 foi de  para 88 vizinhos. \n",
      "\n",
      "O RMSE 78.26 foi de  para 89 vizinhos. \n",
      "\n",
      "O RMSE 78.28 foi de  para 90 vizinhos. \n",
      "\n",
      "O RMSE 78.3 foi de  para 91 vizinhos. \n",
      "\n",
      "O RMSE 78.33 foi de  para 92 vizinhos. \n",
      "\n",
      "O RMSE 78.32 foi de  para 93 vizinhos. \n",
      "\n",
      "O RMSE 78.37 foi de  para 94 vizinhos. \n",
      "\n",
      "O RMSE 78.37 foi de  para 95 vizinhos. \n",
      "\n",
      "O RMSE 78.39 foi de  para 96 vizinhos. \n",
      "\n",
      "O RMSE 78.44 foi de  para 97 vizinhos. \n",
      "\n",
      "O RMSE 78.46 foi de  para 98 vizinhos. \n",
      "\n",
      "O RMSE 78.48 foi de  para 99 vizinhos. \n",
      "\n"
     ]
    }
   ],
   "source": [
    "for vizinho in range(1,100):\n",
    "    knn=KNeighborsRegressor(n_neighbors=vizinho)\n",
    "    knn.fit(x_train02,y_target01)\n",
    "    y_pred03=knn.predict(x_train02)\n",
    "    rmse_aprox=round(RMSE(y=y_target01,y_pred=y_pred03),2)\n",
    "    print('O RMSE %s foi de '%rmse_aprox,'para',vizinho,'vizinhos.','\\n')\n"
   ]
  },
  {
   "cell_type": "markdown",
   "metadata": {},
   "source": [
    "Notamos neste loop que a tendência do RMSE foi crescente junto com o crescimento da quantidade de vizinhos abordados.\n",
    "\n",
    "Aquele que performou melhor foi com 2 vizinhos."
   ]
  },
  {
   "cell_type": "markdown",
   "metadata": {},
   "source": [
    "# 4.1 ) Validando a hipótese.\n",
    "\n",
    "Nossa hipótese é de que o modelo está performando melhor com 2 vizinhos. \n",
    "\n",
    "Vamos validar isto através do dataframe de validação."
   ]
  },
  {
   "cell_type": "code",
   "execution_count": 28,
   "metadata": {},
   "outputs": [
    {
     "name": "stdout",
     "output_type": "stream",
     "text": [
      "O RMSE 0.0 foi de  para 1 vizinhos. \n",
      "\n",
      "O RMSE 53.22 foi de  para 2 vizinhos. \n",
      "\n",
      "O RMSE 61.65 foi de  para 3 vizinhos. \n",
      "\n",
      "O RMSE 65.49 foi de  para 4 vizinhos. \n",
      "\n",
      "O RMSE 68.79 foi de  para 5 vizinhos. \n",
      "\n",
      "O RMSE 70.76 foi de  para 6 vizinhos. \n",
      "\n",
      "O RMSE 71.84 foi de  para 7 vizinhos. \n",
      "\n",
      "O RMSE 72.51 foi de  para 8 vizinhos. \n",
      "\n",
      "O RMSE 73.32 foi de  para 9 vizinhos. \n",
      "\n",
      "O RMSE 73.72 foi de  para 10 vizinhos. \n",
      "\n",
      "O RMSE 73.98 foi de  para 11 vizinhos. \n",
      "\n",
      "O RMSE 74.24 foi de  para 12 vizinhos. \n",
      "\n",
      "O RMSE 73.97 foi de  para 13 vizinhos. \n",
      "\n",
      "O RMSE 74.46 foi de  para 14 vizinhos. \n",
      "\n",
      "O RMSE 75.18 foi de  para 15 vizinhos. \n",
      "\n",
      "O RMSE 75.33 foi de  para 16 vizinhos. \n",
      "\n",
      "O RMSE 75.59 foi de  para 17 vizinhos. \n",
      "\n",
      "O RMSE 75.66 foi de  para 18 vizinhos. \n",
      "\n",
      "O RMSE 75.77 foi de  para 19 vizinhos. \n",
      "\n",
      "O RMSE 76.34 foi de  para 20 vizinhos. \n",
      "\n",
      "O RMSE 76.08 foi de  para 21 vizinhos. \n",
      "\n",
      "O RMSE 76.26 foi de  para 22 vizinhos. \n",
      "\n",
      "O RMSE 76.33 foi de  para 23 vizinhos. \n",
      "\n",
      "O RMSE 76.37 foi de  para 24 vizinhos. \n",
      "\n",
      "O RMSE 76.44 foi de  para 25 vizinhos. \n",
      "\n",
      "O RMSE 76.67 foi de  para 26 vizinhos. \n",
      "\n",
      "O RMSE 76.63 foi de  para 27 vizinhos. \n",
      "\n",
      "O RMSE 76.86 foi de  para 28 vizinhos. \n",
      "\n",
      "O RMSE 76.85 foi de  para 29 vizinhos. \n",
      "\n",
      "O RMSE 77.19 foi de  para 30 vizinhos. \n",
      "\n",
      "O RMSE 77.3 foi de  para 31 vizinhos. \n",
      "\n",
      "O RMSE 77.3 foi de  para 32 vizinhos. \n",
      "\n",
      "O RMSE 77.28 foi de  para 33 vizinhos. \n",
      "\n",
      "O RMSE 77.32 foi de  para 34 vizinhos. \n",
      "\n",
      "O RMSE 77.52 foi de  para 35 vizinhos. \n",
      "\n",
      "O RMSE 77.98 foi de  para 36 vizinhos. \n",
      "\n",
      "O RMSE 77.89 foi de  para 37 vizinhos. \n",
      "\n",
      "O RMSE 77.88 foi de  para 38 vizinhos. \n",
      "\n",
      "O RMSE 77.92 foi de  para 39 vizinhos. \n",
      "\n",
      "O RMSE 77.92 foi de  para 40 vizinhos. \n",
      "\n",
      "O RMSE 77.84 foi de  para 41 vizinhos. \n",
      "\n",
      "O RMSE 77.88 foi de  para 42 vizinhos. \n",
      "\n",
      "O RMSE 77.91 foi de  para 43 vizinhos. \n",
      "\n",
      "O RMSE 77.98 foi de  para 44 vizinhos. \n",
      "\n",
      "O RMSE 78.09 foi de  para 45 vizinhos. \n",
      "\n",
      "O RMSE 78.15 foi de  para 46 vizinhos. \n",
      "\n",
      "O RMSE 78.26 foi de  para 47 vizinhos. \n",
      "\n",
      "O RMSE 78.31 foi de  para 48 vizinhos. \n",
      "\n",
      "O RMSE 78.38 foi de  para 49 vizinhos. \n",
      "\n",
      "O RMSE 78.55 foi de  para 50 vizinhos. \n",
      "\n",
      "O RMSE 78.54 foi de  para 51 vizinhos. \n",
      "\n",
      "O RMSE 78.55 foi de  para 52 vizinhos. \n",
      "\n",
      "O RMSE 78.5 foi de  para 53 vizinhos. \n",
      "\n",
      "O RMSE 78.52 foi de  para 54 vizinhos. \n",
      "\n",
      "O RMSE 78.57 foi de  para 55 vizinhos. \n",
      "\n",
      "O RMSE 78.59 foi de  para 56 vizinhos. \n",
      "\n",
      "O RMSE 78.58 foi de  para 57 vizinhos. \n",
      "\n",
      "O RMSE 78.55 foi de  para 58 vizinhos. \n",
      "\n",
      "O RMSE 78.6 foi de  para 59 vizinhos. \n",
      "\n",
      "O RMSE 78.64 foi de  para 60 vizinhos. \n",
      "\n",
      "O RMSE 78.62 foi de  para 61 vizinhos. \n",
      "\n",
      "O RMSE 78.65 foi de  para 62 vizinhos. \n",
      "\n",
      "O RMSE 78.56 foi de  para 63 vizinhos. \n",
      "\n",
      "O RMSE 78.61 foi de  para 64 vizinhos. \n",
      "\n",
      "O RMSE 78.55 foi de  para 65 vizinhos. \n",
      "\n",
      "O RMSE 78.67 foi de  para 66 vizinhos. \n",
      "\n",
      "O RMSE 78.66 foi de  para 67 vizinhos. \n",
      "\n",
      "O RMSE 78.7 foi de  para 68 vizinhos. \n",
      "\n",
      "O RMSE 78.72 foi de  para 69 vizinhos. \n",
      "\n",
      "O RMSE 78.7 foi de  para 70 vizinhos. \n",
      "\n",
      "O RMSE 78.7 foi de  para 71 vizinhos. \n",
      "\n",
      "O RMSE 78.64 foi de  para 72 vizinhos. \n",
      "\n",
      "O RMSE 78.73 foi de  para 73 vizinhos. \n",
      "\n",
      "O RMSE 78.67 foi de  para 74 vizinhos. \n",
      "\n",
      "O RMSE 78.78 foi de  para 75 vizinhos. \n",
      "\n",
      "O RMSE 78.78 foi de  para 76 vizinhos. \n",
      "\n",
      "O RMSE 78.83 foi de  para 77 vizinhos. \n",
      "\n",
      "O RMSE 78.93 foi de  para 78 vizinhos. \n",
      "\n",
      "O RMSE 78.96 foi de  para 79 vizinhos. \n",
      "\n",
      "O RMSE 79.0 foi de  para 80 vizinhos. \n",
      "\n",
      "O RMSE 79.1 foi de  para 81 vizinhos. \n",
      "\n",
      "O RMSE 79.15 foi de  para 82 vizinhos. \n",
      "\n",
      "O RMSE 79.13 foi de  para 83 vizinhos. \n",
      "\n",
      "O RMSE 79.2 foi de  para 84 vizinhos. \n",
      "\n",
      "O RMSE 79.14 foi de  para 85 vizinhos. \n",
      "\n",
      "O RMSE 79.11 foi de  para 86 vizinhos. \n",
      "\n",
      "O RMSE 79.22 foi de  para 87 vizinhos. \n",
      "\n",
      "O RMSE 79.28 foi de  para 88 vizinhos. \n",
      "\n",
      "O RMSE 79.3 foi de  para 89 vizinhos. \n",
      "\n",
      "O RMSE 79.29 foi de  para 90 vizinhos. \n",
      "\n",
      "O RMSE 79.29 foi de  para 91 vizinhos. \n",
      "\n",
      "O RMSE 79.27 foi de  para 92 vizinhos. \n",
      "\n",
      "O RMSE 79.31 foi de  para 93 vizinhos. \n",
      "\n",
      "O RMSE 79.36 foi de  para 94 vizinhos. \n",
      "\n",
      "O RMSE 79.42 foi de  para 95 vizinhos. \n",
      "\n",
      "O RMSE 79.43 foi de  para 96 vizinhos. \n",
      "\n",
      "O RMSE 79.43 foi de  para 97 vizinhos. \n",
      "\n",
      "O RMSE 79.4 foi de  para 98 vizinhos. \n",
      "\n",
      "O RMSE 79.45 foi de  para 99 vizinhos. \n",
      "\n"
     ]
    }
   ],
   "source": [
    "for vizinho in range(1,100):\n",
    "    knn=KNeighborsRegressor(n_neighbors=vizinho)\n",
    "    knn.fit(x_valid01,y_target02)\n",
    "    y_pred04=knn.predict(x_valid01)\n",
    "    rmse_aprox=round(RMSE(y=y_target02,y_pred=y_pred04),2)\n",
    "    print('O RMSE %s foi de '%rmse_aprox,'para',vizinho,'vizinhos.','\\n')"
   ]
  },
  {
   "cell_type": "markdown",
   "metadata": {},
   "source": [
    "De fato, a hipotése que com 2 vizinhos o RMSE estava sendo mais efetivo foi verdadeiro no dataframe de validação.\n",
    "\n",
    "Inclusive, recebendo um RMSE menor do que utilizando a regressão linear,\n",
    "53.22 comparado a 80.97."
   ]
  },
  {
   "cell_type": "markdown",
   "metadata": {},
   "source": [
    "# 4.2) Visualizando a validação."
   ]
  },
  {
   "cell_type": "code",
   "execution_count": 29,
   "metadata": {},
   "outputs": [],
   "source": [
    "knn=KNeighborsRegressor(n_neighbors=2)"
   ]
  },
  {
   "cell_type": "code",
   "execution_count": 30,
   "metadata": {},
   "outputs": [
    {
     "data": {
      "text/plain": [
       "KNeighborsRegressor(n_neighbors=2)"
      ]
     },
     "execution_count": 30,
     "metadata": {},
     "output_type": "execute_result"
    }
   ],
   "source": [
    "knn.fit(x_valid01,y_target02)"
   ]
  },
  {
   "cell_type": "code",
   "execution_count": 31,
   "metadata": {},
   "outputs": [],
   "source": [
    "y_pred04=knn.predict(x_valid01)"
   ]
  },
  {
   "cell_type": "code",
   "execution_count": 32,
   "metadata": {},
   "outputs": [
    {
     "data": {
      "text/html": [
       "<div>\n",
       "<style scoped>\n",
       "    .dataframe tbody tr th:only-of-type {\n",
       "        vertical-align: middle;\n",
       "    }\n",
       "\n",
       "    .dataframe tbody tr th {\n",
       "        vertical-align: top;\n",
       "    }\n",
       "\n",
       "    .dataframe thead th {\n",
       "        text-align: right;\n",
       "    }\n",
       "</style>\n",
       "<table border=\"1\" class=\"dataframe\">\n",
       "  <thead>\n",
       "    <tr style=\"text-align: right;\">\n",
       "      <th></th>\n",
       "      <th>crimes</th>\n",
       "      <th>crimes_predict</th>\n",
       "    </tr>\n",
       "  </thead>\n",
       "  <tbody>\n",
       "    <tr>\n",
       "      <th>1230</th>\n",
       "      <td>205</td>\n",
       "      <td>265.0</td>\n",
       "    </tr>\n",
       "    <tr>\n",
       "      <th>1231</th>\n",
       "      <td>24</td>\n",
       "      <td>104.0</td>\n",
       "    </tr>\n",
       "    <tr>\n",
       "      <th>1232</th>\n",
       "      <td>329</td>\n",
       "      <td>381.0</td>\n",
       "    </tr>\n",
       "    <tr>\n",
       "      <th>1233</th>\n",
       "      <td>123</td>\n",
       "      <td>79.5</td>\n",
       "    </tr>\n",
       "    <tr>\n",
       "      <th>1234</th>\n",
       "      <td>214</td>\n",
       "      <td>169.0</td>\n",
       "    </tr>\n",
       "    <tr>\n",
       "      <th>1235</th>\n",
       "      <td>147</td>\n",
       "      <td>202.5</td>\n",
       "    </tr>\n",
       "    <tr>\n",
       "      <th>1236</th>\n",
       "      <td>247</td>\n",
       "      <td>235.0</td>\n",
       "    </tr>\n",
       "    <tr>\n",
       "      <th>1237</th>\n",
       "      <td>215</td>\n",
       "      <td>221.5</td>\n",
       "    </tr>\n",
       "    <tr>\n",
       "      <th>1238</th>\n",
       "      <td>172</td>\n",
       "      <td>129.0</td>\n",
       "    </tr>\n",
       "    <tr>\n",
       "      <th>1239</th>\n",
       "      <td>384</td>\n",
       "      <td>236.5</td>\n",
       "    </tr>\n",
       "  </tbody>\n",
       "</table>\n",
       "</div>"
      ],
      "text/plain": [
       "      crimes  crimes_predict\n",
       "1230     205           265.0\n",
       "1231      24           104.0\n",
       "1232     329           381.0\n",
       "1233     123            79.5\n",
       "1234     214           169.0\n",
       "1235     147           202.5\n",
       "1236     247           235.0\n",
       "1237     215           221.5\n",
       "1238     172           129.0\n",
       "1239     384           236.5"
      ]
     },
     "execution_count": 32,
     "metadata": {},
     "output_type": "execute_result"
    }
   ],
   "source": [
    "df_aux02=pd.DataFrame({'crimes':df_valid['crimes'],'crimes_predict':y_pred04})\n",
    "df_aux02.head(10)\n"
   ]
  },
  {
   "cell_type": "markdown",
   "metadata": {},
   "source": [
    "É apenas ao olhar para os resultados, visualizamos que o modelo 02 atravésdo KNN e com 2 vizinhos, performou muito bem.\n",
    "\n",
    "Mas é interessante conseguir mensurar o quão melhor foi."
   ]
  },
  {
   "cell_type": "markdown",
   "metadata": {},
   "source": [
    "# 5.0) Mensurando a assertividade.\n",
    "\n",
    "Geraremos uma espécie de **\"outlier\"** para identificar se o valor previsto foi dentro do estimado.\n",
    "\n",
    "Estabeleceremos uma **margem de erro** de 20%\n",
    "\n",
    "Por exemplo: Caso o valor real fosse de 100 e o estimado ficasse entre 80 e 120, ele estaria dentro desta margem de erro.\n",
    "\n",
    "Logo, seria um valor aceitavel.\n",
    "\n",
    "\n"
   ]
  },
  {
   "cell_type": "code",
   "execution_count": 33,
   "metadata": {},
   "outputs": [],
   "source": [
    "margens=[]\n",
    "for x in range(df_aux02.shape[0]):\n",
    "    margem_minima=df_aux02.crimes.tolist()[x] -0.2*df_aux02.crimes.tolist()[x]\n",
    "    margem_maxima=df_aux02.crimes.tolist()[x] + 0.2*df_aux02.crimes.tolist()[x]\n",
    "    if margem_minima<=df_aux02['crimes_predict'].tolist()[x]<=margem_maxima:\n",
    "\n",
    "        margens.append(1)\n",
    "    else: \n",
    "        margens.append(0)\n",
    "\n",
    "\n",
    "\n",
    "\n"
   ]
  },
  {
   "cell_type": "code",
   "execution_count": 34,
   "metadata": {},
   "outputs": [],
   "source": [
    "df_aux02_2=pd.DataFrame({'crimes':df_valid['crimes'],'crimes_predict':y_pred04,'Aceitabilidade':margens})\n"
   ]
  },
  {
   "cell_type": "code",
   "execution_count": 35,
   "metadata": {},
   "outputs": [
    {
     "data": {
      "text/html": [
       "<div>\n",
       "<style scoped>\n",
       "    .dataframe tbody tr th:only-of-type {\n",
       "        vertical-align: middle;\n",
       "    }\n",
       "\n",
       "    .dataframe tbody tr th {\n",
       "        vertical-align: top;\n",
       "    }\n",
       "\n",
       "    .dataframe thead th {\n",
       "        text-align: right;\n",
       "    }\n",
       "</style>\n",
       "<table border=\"1\" class=\"dataframe\">\n",
       "  <thead>\n",
       "    <tr style=\"text-align: right;\">\n",
       "      <th></th>\n",
       "      <th>crimes</th>\n",
       "      <th>crimes_predict</th>\n",
       "      <th>Aceitabilidade</th>\n",
       "    </tr>\n",
       "  </thead>\n",
       "  <tbody>\n",
       "    <tr>\n",
       "      <th>1230</th>\n",
       "      <td>205</td>\n",
       "      <td>265.0</td>\n",
       "      <td>0</td>\n",
       "    </tr>\n",
       "    <tr>\n",
       "      <th>1231</th>\n",
       "      <td>24</td>\n",
       "      <td>104.0</td>\n",
       "      <td>0</td>\n",
       "    </tr>\n",
       "    <tr>\n",
       "      <th>1232</th>\n",
       "      <td>329</td>\n",
       "      <td>381.0</td>\n",
       "      <td>1</td>\n",
       "    </tr>\n",
       "    <tr>\n",
       "      <th>1233</th>\n",
       "      <td>123</td>\n",
       "      <td>79.5</td>\n",
       "      <td>0</td>\n",
       "    </tr>\n",
       "    <tr>\n",
       "      <th>1234</th>\n",
       "      <td>214</td>\n",
       "      <td>169.0</td>\n",
       "      <td>0</td>\n",
       "    </tr>\n",
       "    <tr>\n",
       "      <th>1235</th>\n",
       "      <td>147</td>\n",
       "      <td>202.5</td>\n",
       "      <td>0</td>\n",
       "    </tr>\n",
       "    <tr>\n",
       "      <th>1236</th>\n",
       "      <td>247</td>\n",
       "      <td>235.0</td>\n",
       "      <td>1</td>\n",
       "    </tr>\n",
       "    <tr>\n",
       "      <th>1237</th>\n",
       "      <td>215</td>\n",
       "      <td>221.5</td>\n",
       "      <td>1</td>\n",
       "    </tr>\n",
       "    <tr>\n",
       "      <th>1238</th>\n",
       "      <td>172</td>\n",
       "      <td>129.0</td>\n",
       "      <td>0</td>\n",
       "    </tr>\n",
       "    <tr>\n",
       "      <th>1239</th>\n",
       "      <td>384</td>\n",
       "      <td>236.5</td>\n",
       "      <td>0</td>\n",
       "    </tr>\n",
       "  </tbody>\n",
       "</table>\n",
       "</div>"
      ],
      "text/plain": [
       "      crimes  crimes_predict  Aceitabilidade\n",
       "1230     205           265.0               0\n",
       "1231      24           104.0               0\n",
       "1232     329           381.0               1\n",
       "1233     123            79.5               0\n",
       "1234     214           169.0               0\n",
       "1235     147           202.5               0\n",
       "1236     247           235.0               1\n",
       "1237     215           221.5               1\n",
       "1238     172           129.0               0\n",
       "1239     384           236.5               0"
      ]
     },
     "execution_count": 35,
     "metadata": {},
     "output_type": "execute_result"
    }
   ],
   "source": [
    "df_aux02_2.head(10)"
   ]
  },
  {
   "cell_type": "code",
   "execution_count": 36,
   "metadata": {},
   "outputs": [],
   "source": [
    "margens2=[]\n",
    "for x in range(df_aux01.shape[0]):\n",
    "    margem_minima=df_aux01.crimes.tolist()[x] -0.2*df_aux01.crimes.tolist()[x]\n",
    "    margem_maxima=df_aux01.crimes.tolist()[x] + 0.2*df_aux01.crimes.tolist()[x]\n",
    "    if margem_minima<=df_aux01['crimes_predict'].tolist()[x]<=margem_maxima:\n",
    "\n",
    "        margens2.append(1)\n",
    "    else: \n",
    "        margens2.append(0)\n"
   ]
  },
  {
   "cell_type": "code",
   "execution_count": 37,
   "metadata": {},
   "outputs": [],
   "source": [
    "df_aux01_2=pd.DataFrame({'crimes':df_valid['crimes'],'crimes_predict':y_pred02,'Aceitabilidade':margens2})\n"
   ]
  },
  {
   "cell_type": "code",
   "execution_count": 38,
   "metadata": {},
   "outputs": [
    {
     "data": {
      "text/html": [
       "<div>\n",
       "<style scoped>\n",
       "    .dataframe tbody tr th:only-of-type {\n",
       "        vertical-align: middle;\n",
       "    }\n",
       "\n",
       "    .dataframe tbody tr th {\n",
       "        vertical-align: top;\n",
       "    }\n",
       "\n",
       "    .dataframe thead th {\n",
       "        text-align: right;\n",
       "    }\n",
       "</style>\n",
       "<table border=\"1\" class=\"dataframe\">\n",
       "  <thead>\n",
       "    <tr style=\"text-align: right;\">\n",
       "      <th></th>\n",
       "      <th>crimes</th>\n",
       "      <th>crimes_predict</th>\n",
       "      <th>Aceitabilidade</th>\n",
       "    </tr>\n",
       "  </thead>\n",
       "  <tbody>\n",
       "    <tr>\n",
       "      <th>1230</th>\n",
       "      <td>205</td>\n",
       "      <td>261.103435</td>\n",
       "      <td>0</td>\n",
       "    </tr>\n",
       "    <tr>\n",
       "      <th>1231</th>\n",
       "      <td>24</td>\n",
       "      <td>74.532102</td>\n",
       "      <td>0</td>\n",
       "    </tr>\n",
       "    <tr>\n",
       "      <th>1232</th>\n",
       "      <td>329</td>\n",
       "      <td>252.292368</td>\n",
       "      <td>0</td>\n",
       "    </tr>\n",
       "    <tr>\n",
       "      <th>1233</th>\n",
       "      <td>123</td>\n",
       "      <td>94.349595</td>\n",
       "      <td>0</td>\n",
       "    </tr>\n",
       "    <tr>\n",
       "      <th>1234</th>\n",
       "      <td>214</td>\n",
       "      <td>126.429646</td>\n",
       "      <td>0</td>\n",
       "    </tr>\n",
       "    <tr>\n",
       "      <th>1235</th>\n",
       "      <td>147</td>\n",
       "      <td>182.371550</td>\n",
       "      <td>0</td>\n",
       "    </tr>\n",
       "    <tr>\n",
       "      <th>1236</th>\n",
       "      <td>247</td>\n",
       "      <td>230.029838</td>\n",
       "      <td>1</td>\n",
       "    </tr>\n",
       "    <tr>\n",
       "      <th>1237</th>\n",
       "      <td>215</td>\n",
       "      <td>158.149729</td>\n",
       "      <td>0</td>\n",
       "    </tr>\n",
       "    <tr>\n",
       "      <th>1238</th>\n",
       "      <td>172</td>\n",
       "      <td>192.346732</td>\n",
       "      <td>1</td>\n",
       "    </tr>\n",
       "    <tr>\n",
       "      <th>1239</th>\n",
       "      <td>384</td>\n",
       "      <td>235.480886</td>\n",
       "      <td>0</td>\n",
       "    </tr>\n",
       "  </tbody>\n",
       "</table>\n",
       "</div>"
      ],
      "text/plain": [
       "      crimes  crimes_predict  Aceitabilidade\n",
       "1230     205      261.103435               0\n",
       "1231      24       74.532102               0\n",
       "1232     329      252.292368               0\n",
       "1233     123       94.349595               0\n",
       "1234     214      126.429646               0\n",
       "1235     147      182.371550               0\n",
       "1236     247      230.029838               1\n",
       "1237     215      158.149729               0\n",
       "1238     172      192.346732               1\n",
       "1239     384      235.480886               0"
      ]
     },
     "execution_count": 38,
     "metadata": {},
     "output_type": "execute_result"
    }
   ],
   "source": [
    "df_aux01_2.head(10)"
   ]
  },
  {
   "cell_type": "markdown",
   "metadata": {},
   "source": [
    "# 5.1) Verificando a aceitabilidade do modelo."
   ]
  },
  {
   "cell_type": "code",
   "execution_count": 39,
   "metadata": {},
   "outputs": [
    {
     "name": "stdout",
     "output_type": "stream",
     "text": [
      "Taxa de assertividade: 23.25 %\n"
     ]
    }
   ],
   "source": [
    "print('Taxa de assertividade:',round(df_aux01_2['Aceitabilidade'].sum()/df_aux01_2.shape[0],4)*100,'%')"
   ]
  },
  {
   "cell_type": "code",
   "execution_count": 40,
   "metadata": {},
   "outputs": [
    {
     "name": "stdout",
     "output_type": "stream",
     "text": [
      "Taxa de assertividade: 39.51 %\n"
     ]
    }
   ],
   "source": [
    "print('Taxa de assertividade:',round(df_aux02_2['Aceitabilidade'].sum()/df_aux02_2.shape[0],4)*100,'%')"
   ]
  },
  {
   "cell_type": "markdown",
   "metadata": {},
   "source": [
    "De fato, o nosso modelo de KNN, com 2 vizinhos ele possuiu uma Assertividade maior.\n",
    "\n",
    "Em outras palavras, os valores estimados por ele com uma margem de erro de 20% foi mais assertivo do que o do primeiro modelo baseado em regressão linear."
   ]
  },
  {
   "cell_type": "markdown",
   "metadata": {},
   "source": [
    "# 6.0 ) Hands on !\n",
    "\n",
    "Agora que já validamos nossa hipótese vamos ver o quão assertivo nosso modelo será na pratica.\n",
    "\n",
    "Vamos para o nosso dataframe de teste."
   ]
  },
  {
   "cell_type": "code",
   "execution_count": 41,
   "metadata": {},
   "outputs": [],
   "source": [
    "x_test01=df_test['taxa_crim'].values.reshape(-1,1)\n",
    "y_target03=df_test['crimes']"
   ]
  },
  {
   "cell_type": "code",
   "execution_count": 42,
   "metadata": {},
   "outputs": [],
   "source": [
    "knn=KNeighborsRegressor(n_neighbors=2)"
   ]
  },
  {
   "cell_type": "code",
   "execution_count": 43,
   "metadata": {},
   "outputs": [
    {
     "data": {
      "text/plain": [
       "KNeighborsRegressor(n_neighbors=2)"
      ]
     },
     "execution_count": 43,
     "metadata": {},
     "output_type": "execute_result"
    }
   ],
   "source": [
    "knn.fit(x_test01,y_target03)"
   ]
  },
  {
   "cell_type": "code",
   "execution_count": 44,
   "metadata": {},
   "outputs": [],
   "source": [
    "y_pred05=knn.predict(x_test01)"
   ]
  },
  {
   "cell_type": "code",
   "execution_count": 45,
   "metadata": {},
   "outputs": [
    {
     "data": {
      "text/plain": [
       "53.30650406504065"
      ]
     },
     "execution_count": 45,
     "metadata": {},
     "output_type": "execute_result"
    }
   ],
   "source": [
    "RMSE(y=y_target03,y_pred=y_pred05)"
   ]
  },
  {
   "cell_type": "markdown",
   "metadata": {},
   "source": [
    "Nosso modelo apresentou um RMSE no dataframe de teste em 53.30, isto foi bem próximo ao que foi checado no dataframe de validação."
   ]
  },
  {
   "cell_type": "markdown",
   "metadata": {},
   "source": [
    "# 6.1 ) Resultado!!"
   ]
  },
  {
   "cell_type": "code",
   "execution_count": 46,
   "metadata": {},
   "outputs": [],
   "source": [
    "df_aux03=pd.DataFrame({'crimes':df_test['crimes'],'crimes_predict':y_pred05})"
   ]
  },
  {
   "cell_type": "code",
   "execution_count": 47,
   "metadata": {},
   "outputs": [],
   "source": [
    "margens3=[]\n",
    "for x in range(df_aux01.shape[0]):\n",
    "    margem_minima=df_aux03.crimes.tolist()[x] -0.2*df_aux03.crimes.tolist()[x]\n",
    "    margem_maxima=df_aux03.crimes.tolist()[x] + 0.2*df_aux03.crimes.tolist()[x]\n",
    "    if margem_minima<=df_aux03['crimes_predict'].tolist()[x]<=margem_maxima:\n",
    "\n",
    "        margens3.append(1)\n",
    "    else: \n",
    "        margens3.append(0)\n"
   ]
  },
  {
   "cell_type": "code",
   "execution_count": 48,
   "metadata": {},
   "outputs": [],
   "source": [
    "df_aux03_2=pd.DataFrame({'crimes':df_test['crimes'],'crimes_predict':y_pred05,'Aceitabilidade':margens3})"
   ]
  },
  {
   "cell_type": "code",
   "execution_count": 49,
   "metadata": {},
   "outputs": [
    {
     "data": {
      "text/html": [
       "<div>\n",
       "<style scoped>\n",
       "    .dataframe tbody tr th:only-of-type {\n",
       "        vertical-align: middle;\n",
       "    }\n",
       "\n",
       "    .dataframe tbody tr th {\n",
       "        vertical-align: top;\n",
       "    }\n",
       "\n",
       "    .dataframe thead th {\n",
       "        text-align: right;\n",
       "    }\n",
       "</style>\n",
       "<table border=\"1\" class=\"dataframe\">\n",
       "  <thead>\n",
       "    <tr style=\"text-align: right;\">\n",
       "      <th></th>\n",
       "      <th>crimes</th>\n",
       "      <th>crimes_predict</th>\n",
       "      <th>Aceitabilidade</th>\n",
       "    </tr>\n",
       "  </thead>\n",
       "  <tbody>\n",
       "    <tr>\n",
       "      <th>1950</th>\n",
       "      <td>25</td>\n",
       "      <td>185.0</td>\n",
       "      <td>0</td>\n",
       "    </tr>\n",
       "    <tr>\n",
       "      <th>1951</th>\n",
       "      <td>330</td>\n",
       "      <td>184.5</td>\n",
       "      <td>0</td>\n",
       "    </tr>\n",
       "    <tr>\n",
       "      <th>1952</th>\n",
       "      <td>152</td>\n",
       "      <td>123.0</td>\n",
       "      <td>1</td>\n",
       "    </tr>\n",
       "    <tr>\n",
       "      <th>1953</th>\n",
       "      <td>50</td>\n",
       "      <td>248.0</td>\n",
       "      <td>0</td>\n",
       "    </tr>\n",
       "    <tr>\n",
       "      <th>1954</th>\n",
       "      <td>263</td>\n",
       "      <td>242.5</td>\n",
       "      <td>1</td>\n",
       "    </tr>\n",
       "    <tr>\n",
       "      <th>1955</th>\n",
       "      <td>21</td>\n",
       "      <td>93.5</td>\n",
       "      <td>0</td>\n",
       "    </tr>\n",
       "    <tr>\n",
       "      <th>1956</th>\n",
       "      <td>97</td>\n",
       "      <td>278.0</td>\n",
       "      <td>0</td>\n",
       "    </tr>\n",
       "    <tr>\n",
       "      <th>1957</th>\n",
       "      <td>168</td>\n",
       "      <td>261.0</td>\n",
       "      <td>0</td>\n",
       "    </tr>\n",
       "    <tr>\n",
       "      <th>1958</th>\n",
       "      <td>58</td>\n",
       "      <td>74.0</td>\n",
       "      <td>0</td>\n",
       "    </tr>\n",
       "    <tr>\n",
       "      <th>1959</th>\n",
       "      <td>1</td>\n",
       "      <td>66.0</td>\n",
       "      <td>0</td>\n",
       "    </tr>\n",
       "    <tr>\n",
       "      <th>1960</th>\n",
       "      <td>96</td>\n",
       "      <td>123.5</td>\n",
       "      <td>0</td>\n",
       "    </tr>\n",
       "    <tr>\n",
       "      <th>1961</th>\n",
       "      <td>61</td>\n",
       "      <td>141.0</td>\n",
       "      <td>0</td>\n",
       "    </tr>\n",
       "    <tr>\n",
       "      <th>1962</th>\n",
       "      <td>148</td>\n",
       "      <td>110.0</td>\n",
       "      <td>0</td>\n",
       "    </tr>\n",
       "    <tr>\n",
       "      <th>1963</th>\n",
       "      <td>260</td>\n",
       "      <td>257.5</td>\n",
       "      <td>1</td>\n",
       "    </tr>\n",
       "    <tr>\n",
       "      <th>1964</th>\n",
       "      <td>344</td>\n",
       "      <td>241.5</td>\n",
       "      <td>0</td>\n",
       "    </tr>\n",
       "  </tbody>\n",
       "</table>\n",
       "</div>"
      ],
      "text/plain": [
       "      crimes  crimes_predict  Aceitabilidade\n",
       "1950      25           185.0               0\n",
       "1951     330           184.5               0\n",
       "1952     152           123.0               1\n",
       "1953      50           248.0               0\n",
       "1954     263           242.5               1\n",
       "1955      21            93.5               0\n",
       "1956      97           278.0               0\n",
       "1957     168           261.0               0\n",
       "1958      58            74.0               0\n",
       "1959       1            66.0               0\n",
       "1960      96           123.5               0\n",
       "1961      61           141.0               0\n",
       "1962     148           110.0               0\n",
       "1963     260           257.5               1\n",
       "1964     344           241.5               0"
      ]
     },
     "execution_count": 49,
     "metadata": {},
     "output_type": "execute_result"
    }
   ],
   "source": [
    "df_aux03_2[105:120]"
   ]
  },
  {
   "cell_type": "code",
   "execution_count": 50,
   "metadata": {},
   "outputs": [
    {
     "name": "stdout",
     "output_type": "stream",
     "text": [
      "Taxa de assertividade: 37.89 %\n"
     ]
    }
   ],
   "source": [
    "print('Taxa de assertividade:',round(df_aux03_2.Aceitabilidade.sum()/df_aux03_2.shape[0],4)*100,'%')"
   ]
  },
  {
   "cell_type": "markdown",
   "metadata": {},
   "source": [
    "Realmente, nosso modelo de predição possuiu uma assertividade de 37.89% e teve um comportamento muito semelhante ao validado no dataframe de validação.\n",
    "\n",
    "Portanto, pode-se dizer que não está sofrendo de underfitting nem de overfitting."
   ]
  },
  {
   "cell_type": "markdown",
   "metadata": {},
   "source": [
    "# 7.0 ) Trabalhando com multivariáveis.\n",
    "\n",
    "Será feito a escolha de mais algumas variáveis para se trabalhar, e nao apenas uma, como foi no caso anterior.\n",
    "\n",
    "De forma intuitiva, acredito que ao trabalhar com multivariáveis aumente a taxa de assertividade de 37,89% para um número superior a este.\n",
    "\n",
    "Apesar desta hipotése parecer verídica devemos trabalhar para checar a veracidade!\n",
    "\n",
    "Hands on!!"
   ]
  },
  {
   "cell_type": "markdown",
   "metadata": {},
   "source": [
    " # 7.1 ) Selecionando as variáveis. \n",
    " \n"
   ]
  },
  {
   "cell_type": "code",
   "execution_count": 53,
   "metadata": {},
   "outputs": [
    {
     "data": {
      "text/plain": [
       "Index(['ind_pop_cid', 'perc_pol', 'taxa_crim', 'nivel_ed', 'crimes'], dtype='object')"
      ]
     },
     "execution_count": 53,
     "metadata": {},
     "output_type": "execute_result"
    }
   ],
   "source": [
    "df_train.columns"
   ]
  },
  {
   "cell_type": "code",
   "execution_count": 60,
   "metadata": {},
   "outputs": [],
   "source": [
    "x_trainm01=df_train[['ind_pop_cid',\"perc_pol\",'taxa_crim','nivel_ed']]\n",
    "y_target03=df_train[['crimes']]"
   ]
  },
  {
   "cell_type": "markdown",
   "metadata": {},
   "source": [
    "# 8.0 ) Estruturando o KNN de treino.\n",
    "\n",
    "Vamos treinar nosso KNN e descobrir qual é a melhor escolha para a variável n_neighbors em KNeighborsRegressor"
   ]
  },
  {
   "cell_type": "code",
   "execution_count": 61,
   "metadata": {},
   "outputs": [
    {
     "name": "stdout",
     "output_type": "stream",
     "text": [
      "O RMSE crimes    0.0\n",
      "dtype: float64 foi de  para 1 vizinhos. \n",
      "\n",
      "O RMSE crimes    18.09\n",
      "dtype: float64 foi de  para 2 vizinhos. \n",
      "\n",
      "O RMSE crimes    20.59\n",
      "dtype: float64 foi de  para 3 vizinhos. \n",
      "\n",
      "O RMSE crimes    22.24\n",
      "dtype: float64 foi de  para 4 vizinhos. \n",
      "\n",
      "O RMSE crimes    23.31\n",
      "dtype: float64 foi de  para 5 vizinhos. \n",
      "\n",
      "O RMSE crimes    23.7\n",
      "dtype: float64 foi de  para 6 vizinhos. \n",
      "\n",
      "O RMSE crimes    24.16\n",
      "dtype: float64 foi de  para 7 vizinhos. \n",
      "\n",
      "O RMSE crimes    24.61\n",
      "dtype: float64 foi de  para 8 vizinhos. \n",
      "\n",
      "O RMSE crimes    24.94\n",
      "dtype: float64 foi de  para 9 vizinhos. \n",
      "\n",
      "O RMSE crimes    25.21\n",
      "dtype: float64 foi de  para 10 vizinhos. \n",
      "\n",
      "O RMSE crimes    25.71\n",
      "dtype: float64 foi de  para 11 vizinhos. \n",
      "\n",
      "O RMSE crimes    25.93\n",
      "dtype: float64 foi de  para 12 vizinhos. \n",
      "\n",
      "O RMSE crimes    26.3\n",
      "dtype: float64 foi de  para 13 vizinhos. \n",
      "\n",
      "O RMSE crimes    26.59\n",
      "dtype: float64 foi de  para 14 vizinhos. \n",
      "\n",
      "O RMSE crimes    26.74\n",
      "dtype: float64 foi de  para 15 vizinhos. \n",
      "\n",
      "O RMSE crimes    26.98\n",
      "dtype: float64 foi de  para 16 vizinhos. \n",
      "\n",
      "O RMSE crimes    27.19\n",
      "dtype: float64 foi de  para 17 vizinhos. \n",
      "\n",
      "O RMSE crimes    27.37\n",
      "dtype: float64 foi de  para 18 vizinhos. \n",
      "\n",
      "O RMSE crimes    27.66\n",
      "dtype: float64 foi de  para 19 vizinhos. \n",
      "\n",
      "O RMSE crimes    27.83\n",
      "dtype: float64 foi de  para 20 vizinhos. \n",
      "\n",
      "O RMSE crimes    28.01\n",
      "dtype: float64 foi de  para 21 vizinhos. \n",
      "\n",
      "O RMSE crimes    28.09\n",
      "dtype: float64 foi de  para 22 vizinhos. \n",
      "\n",
      "O RMSE crimes    28.3\n",
      "dtype: float64 foi de  para 23 vizinhos. \n",
      "\n",
      "O RMSE crimes    28.49\n",
      "dtype: float64 foi de  para 24 vizinhos. \n",
      "\n",
      "O RMSE crimes    28.67\n",
      "dtype: float64 foi de  para 25 vizinhos. \n",
      "\n",
      "O RMSE crimes    28.83\n",
      "dtype: float64 foi de  para 26 vizinhos. \n",
      "\n",
      "O RMSE crimes    28.98\n",
      "dtype: float64 foi de  para 27 vizinhos. \n",
      "\n",
      "O RMSE crimes    29.05\n",
      "dtype: float64 foi de  para 28 vizinhos. \n",
      "\n",
      "O RMSE crimes    29.31\n",
      "dtype: float64 foi de  para 29 vizinhos. \n",
      "\n",
      "O RMSE crimes    29.48\n",
      "dtype: float64 foi de  para 30 vizinhos. \n",
      "\n",
      "O RMSE crimes    29.69\n",
      "dtype: float64 foi de  para 31 vizinhos. \n",
      "\n",
      "O RMSE crimes    29.86\n",
      "dtype: float64 foi de  para 32 vizinhos. \n",
      "\n",
      "O RMSE crimes    30.08\n",
      "dtype: float64 foi de  para 33 vizinhos. \n",
      "\n",
      "O RMSE crimes    30.25\n",
      "dtype: float64 foi de  para 34 vizinhos. \n",
      "\n",
      "O RMSE crimes    30.48\n",
      "dtype: float64 foi de  para 35 vizinhos. \n",
      "\n",
      "O RMSE crimes    30.7\n",
      "dtype: float64 foi de  para 36 vizinhos. \n",
      "\n",
      "O RMSE crimes    30.93\n",
      "dtype: float64 foi de  para 37 vizinhos. \n",
      "\n",
      "O RMSE crimes    31.14\n",
      "dtype: float64 foi de  para 38 vizinhos. \n",
      "\n",
      "O RMSE crimes    31.37\n",
      "dtype: float64 foi de  para 39 vizinhos. \n",
      "\n",
      "O RMSE crimes    31.64\n",
      "dtype: float64 foi de  para 40 vizinhos. \n",
      "\n",
      "O RMSE crimes    31.88\n",
      "dtype: float64 foi de  para 41 vizinhos. \n",
      "\n",
      "O RMSE crimes    32.0\n",
      "dtype: float64 foi de  para 42 vizinhos. \n",
      "\n",
      "O RMSE crimes    32.18\n",
      "dtype: float64 foi de  para 43 vizinhos. \n",
      "\n",
      "O RMSE crimes    32.29\n",
      "dtype: float64 foi de  para 44 vizinhos. \n",
      "\n",
      "O RMSE crimes    32.49\n",
      "dtype: float64 foi de  para 45 vizinhos. \n",
      "\n",
      "O RMSE crimes    32.65\n",
      "dtype: float64 foi de  para 46 vizinhos. \n",
      "\n",
      "O RMSE crimes    32.82\n",
      "dtype: float64 foi de  para 47 vizinhos. \n",
      "\n",
      "O RMSE crimes    33.02\n",
      "dtype: float64 foi de  para 48 vizinhos. \n",
      "\n",
      "O RMSE crimes    33.18\n",
      "dtype: float64 foi de  para 49 vizinhos. \n",
      "\n",
      "O RMSE crimes    33.35\n",
      "dtype: float64 foi de  para 50 vizinhos. \n",
      "\n",
      "O RMSE crimes    33.58\n",
      "dtype: float64 foi de  para 51 vizinhos. \n",
      "\n",
      "O RMSE crimes    33.73\n",
      "dtype: float64 foi de  para 52 vizinhos. \n",
      "\n",
      "O RMSE crimes    33.87\n",
      "dtype: float64 foi de  para 53 vizinhos. \n",
      "\n",
      "O RMSE crimes    34.09\n",
      "dtype: float64 foi de  para 54 vizinhos. \n",
      "\n",
      "O RMSE crimes    34.21\n",
      "dtype: float64 foi de  para 55 vizinhos. \n",
      "\n",
      "O RMSE crimes    34.41\n",
      "dtype: float64 foi de  para 56 vizinhos. \n",
      "\n",
      "O RMSE crimes    34.6\n",
      "dtype: float64 foi de  para 57 vizinhos. \n",
      "\n",
      "O RMSE crimes    34.78\n",
      "dtype: float64 foi de  para 58 vizinhos. \n",
      "\n",
      "O RMSE crimes    34.92\n",
      "dtype: float64 foi de  para 59 vizinhos. \n",
      "\n",
      "O RMSE crimes    35.04\n",
      "dtype: float64 foi de  para 60 vizinhos. \n",
      "\n",
      "O RMSE crimes    35.2\n",
      "dtype: float64 foi de  para 61 vizinhos. \n",
      "\n",
      "O RMSE crimes    35.38\n",
      "dtype: float64 foi de  para 62 vizinhos. \n",
      "\n",
      "O RMSE crimes    35.52\n",
      "dtype: float64 foi de  para 63 vizinhos. \n",
      "\n",
      "O RMSE crimes    35.68\n",
      "dtype: float64 foi de  para 64 vizinhos. \n",
      "\n",
      "O RMSE crimes    35.82\n",
      "dtype: float64 foi de  para 65 vizinhos. \n",
      "\n",
      "O RMSE crimes    35.98\n",
      "dtype: float64 foi de  para 66 vizinhos. \n",
      "\n",
      "O RMSE crimes    36.16\n",
      "dtype: float64 foi de  para 67 vizinhos. \n",
      "\n",
      "O RMSE crimes    36.27\n",
      "dtype: float64 foi de  para 68 vizinhos. \n",
      "\n",
      "O RMSE crimes    36.42\n",
      "dtype: float64 foi de  para 69 vizinhos. \n",
      "\n",
      "O RMSE crimes    36.6\n",
      "dtype: float64 foi de  para 70 vizinhos. \n",
      "\n",
      "O RMSE crimes    36.75\n",
      "dtype: float64 foi de  para 71 vizinhos. \n",
      "\n",
      "O RMSE crimes    36.88\n",
      "dtype: float64 foi de  para 72 vizinhos. \n",
      "\n",
      "O RMSE crimes    37.01\n",
      "dtype: float64 foi de  para 73 vizinhos. \n",
      "\n",
      "O RMSE crimes    37.14\n",
      "dtype: float64 foi de  para 74 vizinhos. \n",
      "\n",
      "O RMSE crimes    37.27\n",
      "dtype: float64 foi de  para 75 vizinhos. \n",
      "\n",
      "O RMSE crimes    37.4\n",
      "dtype: float64 foi de  para 76 vizinhos. \n",
      "\n",
      "O RMSE crimes    37.55\n",
      "dtype: float64 foi de  para 77 vizinhos. \n",
      "\n",
      "O RMSE crimes    37.63\n",
      "dtype: float64 foi de  para 78 vizinhos. \n",
      "\n",
      "O RMSE crimes    37.78\n",
      "dtype: float64 foi de  para 79 vizinhos. \n",
      "\n",
      "O RMSE crimes    37.9\n",
      "dtype: float64 foi de  para 80 vizinhos. \n",
      "\n",
      "O RMSE crimes    38.05\n",
      "dtype: float64 foi de  para 81 vizinhos. \n",
      "\n",
      "O RMSE crimes    38.16\n",
      "dtype: float64 foi de  para 82 vizinhos. \n",
      "\n",
      "O RMSE crimes    38.32\n",
      "dtype: float64 foi de  para 83 vizinhos. \n",
      "\n",
      "O RMSE crimes    38.45\n",
      "dtype: float64 foi de  para 84 vizinhos. \n",
      "\n",
      "O RMSE crimes    38.55\n",
      "dtype: float64 foi de  para 85 vizinhos. \n",
      "\n",
      "O RMSE crimes    38.68\n",
      "dtype: float64 foi de  para 86 vizinhos. \n",
      "\n",
      "O RMSE crimes    38.79\n",
      "dtype: float64 foi de  para 87 vizinhos. \n",
      "\n",
      "O RMSE crimes    38.92\n",
      "dtype: float64 foi de  para 88 vizinhos. \n",
      "\n",
      "O RMSE crimes    39.04\n",
      "dtype: float64 foi de  para 89 vizinhos. \n",
      "\n",
      "O RMSE crimes    39.16\n",
      "dtype: float64 foi de  para 90 vizinhos. \n",
      "\n",
      "O RMSE crimes    39.29\n",
      "dtype: float64 foi de  para 91 vizinhos. \n",
      "\n",
      "O RMSE crimes    39.4\n",
      "dtype: float64 foi de  para 92 vizinhos. \n",
      "\n",
      "O RMSE crimes    39.52\n",
      "dtype: float64 foi de  para 93 vizinhos. \n",
      "\n",
      "O RMSE crimes    39.64\n",
      "dtype: float64 foi de  para 94 vizinhos. \n",
      "\n",
      "O RMSE crimes    39.72\n",
      "dtype: float64 foi de  para 95 vizinhos. \n",
      "\n",
      "O RMSE crimes    39.77\n",
      "dtype: float64 foi de  para 96 vizinhos. \n",
      "\n",
      "O RMSE crimes    39.86\n",
      "dtype: float64 foi de  para 97 vizinhos. \n",
      "\n",
      "O RMSE crimes    39.92\n",
      "dtype: float64 foi de  para 98 vizinhos. \n",
      "\n",
      "O RMSE crimes    40.01\n",
      "dtype: float64 foi de  para 99 vizinhos. \n",
      "\n"
     ]
    }
   ],
   "source": [
    "for vizinho in range(1,100):\n",
    "    knn=KNeighborsRegressor(n_neighbors=vizinho)\n",
    "    knn.fit(x_trainm01,y_target03)\n",
    "    y_pred06=knn.predict(x_trainm01)\n",
    "    rmse_aprox=round(RMSE(y=y_target03,y_pred=y_pred06),2)\n",
    "    print('O RMSE %s foi de '%rmse_aprox,'para',vizinho,'vizinhos.','\\n')"
   ]
  },
  {
   "cell_type": "markdown",
   "metadata": {},
   "source": [
    "Como já visto anterior no modelo variável preditória a melhor escolha foi com n_neighbors=2, e além disso,\n",
    "conforme n_neighbors aumentava o RMSE diminuia.\n",
    "\n",
    "Apesar disto, validaremos tal hipótese no modelo de validação.\n",
    "\n",
    "Apenas dando ênfase--> RMSE()=18.09 no modelo de treino."
   ]
  },
  {
   "cell_type": "markdown",
   "metadata": {},
   "source": [
    "# 8.1 ) Validando."
   ]
  },
  {
   "cell_type": "code",
   "execution_count": 70,
   "metadata": {},
   "outputs": [],
   "source": [
    "x_validm01=df_valid[['ind_pop_cid',\"perc_pol\",'taxa_crim','nivel_ed']]\n",
    "y_target04=df_valid[['crimes']]"
   ]
  },
  {
   "cell_type": "code",
   "execution_count": 71,
   "metadata": {},
   "outputs": [
    {
     "name": "stdout",
     "output_type": "stream",
     "text": [
      "O RMSE crimes    0.0\n",
      "dtype: float64 foi de  para 1 vizinhos. \n",
      "\n",
      "O RMSE crimes    19.19\n",
      "dtype: float64 foi de  para 2 vizinhos. \n",
      "\n",
      "O RMSE crimes    22.14\n",
      "dtype: float64 foi de  para 3 vizinhos. \n",
      "\n",
      "O RMSE crimes    23.56\n",
      "dtype: float64 foi de  para 4 vizinhos. \n",
      "\n",
      "O RMSE crimes    24.38\n",
      "dtype: float64 foi de  para 5 vizinhos. \n",
      "\n",
      "O RMSE crimes    25.52\n",
      "dtype: float64 foi de  para 6 vizinhos. \n",
      "\n",
      "O RMSE crimes    26.32\n",
      "dtype: float64 foi de  para 7 vizinhos. \n",
      "\n",
      "O RMSE crimes    27.01\n",
      "dtype: float64 foi de  para 8 vizinhos. \n",
      "\n",
      "O RMSE crimes    27.4\n",
      "dtype: float64 foi de  para 9 vizinhos. \n",
      "\n",
      "O RMSE crimes    28.07\n",
      "dtype: float64 foi de  para 10 vizinhos. \n",
      "\n",
      "O RMSE crimes    28.95\n",
      "dtype: float64 foi de  para 11 vizinhos. \n",
      "\n",
      "O RMSE crimes    29.35\n",
      "dtype: float64 foi de  para 12 vizinhos. \n",
      "\n",
      "O RMSE crimes    29.52\n",
      "dtype: float64 foi de  para 13 vizinhos. \n",
      "\n",
      "O RMSE crimes    29.76\n",
      "dtype: float64 foi de  para 14 vizinhos. \n",
      "\n",
      "O RMSE crimes    30.35\n",
      "dtype: float64 foi de  para 15 vizinhos. \n",
      "\n",
      "O RMSE crimes    30.77\n",
      "dtype: float64 foi de  para 16 vizinhos. \n",
      "\n",
      "O RMSE crimes    31.1\n",
      "dtype: float64 foi de  para 17 vizinhos. \n",
      "\n",
      "O RMSE crimes    31.74\n",
      "dtype: float64 foi de  para 18 vizinhos. \n",
      "\n",
      "O RMSE crimes    32.16\n",
      "dtype: float64 foi de  para 19 vizinhos. \n",
      "\n",
      "O RMSE crimes    32.46\n",
      "dtype: float64 foi de  para 20 vizinhos. \n",
      "\n",
      "O RMSE crimes    32.69\n",
      "dtype: float64 foi de  para 21 vizinhos. \n",
      "\n",
      "O RMSE crimes    33.09\n",
      "dtype: float64 foi de  para 22 vizinhos. \n",
      "\n",
      "O RMSE crimes    33.2\n",
      "dtype: float64 foi de  para 23 vizinhos. \n",
      "\n",
      "O RMSE crimes    33.51\n",
      "dtype: float64 foi de  para 24 vizinhos. \n",
      "\n",
      "O RMSE crimes    33.83\n",
      "dtype: float64 foi de  para 25 vizinhos. \n",
      "\n",
      "O RMSE crimes    34.09\n",
      "dtype: float64 foi de  para 26 vizinhos. \n",
      "\n",
      "O RMSE crimes    34.41\n",
      "dtype: float64 foi de  para 27 vizinhos. \n",
      "\n",
      "O RMSE crimes    34.8\n",
      "dtype: float64 foi de  para 28 vizinhos. \n",
      "\n",
      "O RMSE crimes    35.19\n",
      "dtype: float64 foi de  para 29 vizinhos. \n",
      "\n",
      "O RMSE crimes    35.35\n",
      "dtype: float64 foi de  para 30 vizinhos. \n",
      "\n",
      "O RMSE crimes    35.51\n",
      "dtype: float64 foi de  para 31 vizinhos. \n",
      "\n",
      "O RMSE crimes    35.8\n",
      "dtype: float64 foi de  para 32 vizinhos. \n",
      "\n",
      "O RMSE crimes    36.0\n",
      "dtype: float64 foi de  para 33 vizinhos. \n",
      "\n",
      "O RMSE crimes    36.27\n",
      "dtype: float64 foi de  para 34 vizinhos. \n",
      "\n",
      "O RMSE crimes    36.51\n",
      "dtype: float64 foi de  para 35 vizinhos. \n",
      "\n",
      "O RMSE crimes    36.82\n",
      "dtype: float64 foi de  para 36 vizinhos. \n",
      "\n",
      "O RMSE crimes    37.07\n",
      "dtype: float64 foi de  para 37 vizinhos. \n",
      "\n",
      "O RMSE crimes    37.26\n",
      "dtype: float64 foi de  para 38 vizinhos. \n",
      "\n",
      "O RMSE crimes    37.41\n",
      "dtype: float64 foi de  para 39 vizinhos. \n",
      "\n",
      "O RMSE crimes    37.68\n",
      "dtype: float64 foi de  para 40 vizinhos. \n",
      "\n",
      "O RMSE crimes    37.87\n",
      "dtype: float64 foi de  para 41 vizinhos. \n",
      "\n",
      "O RMSE crimes    38.16\n",
      "dtype: float64 foi de  para 42 vizinhos. \n",
      "\n",
      "O RMSE crimes    38.35\n",
      "dtype: float64 foi de  para 43 vizinhos. \n",
      "\n",
      "O RMSE crimes    38.61\n",
      "dtype: float64 foi de  para 44 vizinhos. \n",
      "\n",
      "O RMSE crimes    38.83\n",
      "dtype: float64 foi de  para 45 vizinhos. \n",
      "\n",
      "O RMSE crimes    39.04\n",
      "dtype: float64 foi de  para 46 vizinhos. \n",
      "\n",
      "O RMSE crimes    39.22\n",
      "dtype: float64 foi de  para 47 vizinhos. \n",
      "\n",
      "O RMSE crimes    39.45\n",
      "dtype: float64 foi de  para 48 vizinhos. \n",
      "\n",
      "O RMSE crimes    39.68\n",
      "dtype: float64 foi de  para 49 vizinhos. \n",
      "\n",
      "O RMSE crimes    39.83\n",
      "dtype: float64 foi de  para 50 vizinhos. \n",
      "\n",
      "O RMSE crimes    40.02\n",
      "dtype: float64 foi de  para 51 vizinhos. \n",
      "\n",
      "O RMSE crimes    40.18\n",
      "dtype: float64 foi de  para 52 vizinhos. \n",
      "\n",
      "O RMSE crimes    40.27\n",
      "dtype: float64 foi de  para 53 vizinhos. \n",
      "\n",
      "O RMSE crimes    40.53\n",
      "dtype: float64 foi de  para 54 vizinhos. \n",
      "\n",
      "O RMSE crimes    40.72\n",
      "dtype: float64 foi de  para 55 vizinhos. \n",
      "\n",
      "O RMSE crimes    40.98\n",
      "dtype: float64 foi de  para 56 vizinhos. \n",
      "\n",
      "O RMSE crimes    41.19\n",
      "dtype: float64 foi de  para 57 vizinhos. \n",
      "\n",
      "O RMSE crimes    41.37\n",
      "dtype: float64 foi de  para 58 vizinhos. \n",
      "\n",
      "O RMSE crimes    41.53\n",
      "dtype: float64 foi de  para 59 vizinhos. \n",
      "\n",
      "O RMSE crimes    41.81\n",
      "dtype: float64 foi de  para 60 vizinhos. \n",
      "\n",
      "O RMSE crimes    41.91\n",
      "dtype: float64 foi de  para 61 vizinhos. \n",
      "\n",
      "O RMSE crimes    42.09\n",
      "dtype: float64 foi de  para 62 vizinhos. \n",
      "\n",
      "O RMSE crimes    42.31\n",
      "dtype: float64 foi de  para 63 vizinhos. \n",
      "\n",
      "O RMSE crimes    42.45\n",
      "dtype: float64 foi de  para 64 vizinhos. \n",
      "\n",
      "O RMSE crimes    42.54\n",
      "dtype: float64 foi de  para 65 vizinhos. \n",
      "\n",
      "O RMSE crimes    42.78\n",
      "dtype: float64 foi de  para 66 vizinhos. \n",
      "\n",
      "O RMSE crimes    42.91\n",
      "dtype: float64 foi de  para 67 vizinhos. \n",
      "\n",
      "O RMSE crimes    43.07\n",
      "dtype: float64 foi de  para 68 vizinhos. \n",
      "\n",
      "O RMSE crimes    43.24\n",
      "dtype: float64 foi de  para 69 vizinhos. \n",
      "\n",
      "O RMSE crimes    43.4\n",
      "dtype: float64 foi de  para 70 vizinhos. \n",
      "\n",
      "O RMSE crimes    43.6\n",
      "dtype: float64 foi de  para 71 vizinhos. \n",
      "\n",
      "O RMSE crimes    43.87\n",
      "dtype: float64 foi de  para 72 vizinhos. \n",
      "\n",
      "O RMSE crimes    44.02\n",
      "dtype: float64 foi de  para 73 vizinhos. \n",
      "\n",
      "O RMSE crimes    44.12\n",
      "dtype: float64 foi de  para 74 vizinhos. \n",
      "\n",
      "O RMSE crimes    44.28\n",
      "dtype: float64 foi de  para 75 vizinhos. \n",
      "\n",
      "O RMSE crimes    44.49\n",
      "dtype: float64 foi de  para 76 vizinhos. \n",
      "\n",
      "O RMSE crimes    44.65\n",
      "dtype: float64 foi de  para 77 vizinhos. \n",
      "\n",
      "O RMSE crimes    44.79\n",
      "dtype: float64 foi de  para 78 vizinhos. \n",
      "\n",
      "O RMSE crimes    44.88\n",
      "dtype: float64 foi de  para 79 vizinhos. \n",
      "\n",
      "O RMSE crimes    45.06\n",
      "dtype: float64 foi de  para 80 vizinhos. \n",
      "\n",
      "O RMSE crimes    45.16\n",
      "dtype: float64 foi de  para 81 vizinhos. \n",
      "\n",
      "O RMSE crimes    45.29\n",
      "dtype: float64 foi de  para 82 vizinhos. \n",
      "\n",
      "O RMSE crimes    45.47\n",
      "dtype: float64 foi de  para 83 vizinhos. \n",
      "\n",
      "O RMSE crimes    45.68\n",
      "dtype: float64 foi de  para 84 vizinhos. \n",
      "\n",
      "O RMSE crimes    45.85\n",
      "dtype: float64 foi de  para 85 vizinhos. \n",
      "\n",
      "O RMSE crimes    45.98\n",
      "dtype: float64 foi de  para 86 vizinhos. \n",
      "\n",
      "O RMSE crimes    46.15\n",
      "dtype: float64 foi de  para 87 vizinhos. \n",
      "\n",
      "O RMSE crimes    46.31\n",
      "dtype: float64 foi de  para 88 vizinhos. \n",
      "\n",
      "O RMSE crimes    46.52\n",
      "dtype: float64 foi de  para 89 vizinhos. \n",
      "\n",
      "O RMSE crimes    46.62\n",
      "dtype: float64 foi de  para 90 vizinhos. \n",
      "\n",
      "O RMSE crimes    46.74\n",
      "dtype: float64 foi de  para 91 vizinhos. \n",
      "\n",
      "O RMSE crimes    46.83\n",
      "dtype: float64 foi de  para 92 vizinhos. \n",
      "\n",
      "O RMSE crimes    46.99\n",
      "dtype: float64 foi de  para 93 vizinhos. \n",
      "\n",
      "O RMSE crimes    47.12\n",
      "dtype: float64 foi de  para 94 vizinhos. \n",
      "\n",
      "O RMSE crimes    47.19\n",
      "dtype: float64 foi de  para 95 vizinhos. \n",
      "\n",
      "O RMSE crimes    47.3\n",
      "dtype: float64 foi de  para 96 vizinhos. \n",
      "\n",
      "O RMSE crimes    47.46\n",
      "dtype: float64 foi de  para 97 vizinhos. \n",
      "\n",
      "O RMSE crimes    47.59\n",
      "dtype: float64 foi de  para 98 vizinhos. \n",
      "\n",
      "O RMSE crimes    47.75\n",
      "dtype: float64 foi de  para 99 vizinhos. \n",
      "\n"
     ]
    }
   ],
   "source": [
    "for vizinho in range(1,100):\n",
    "    knn=KNeighborsRegressor(n_neighbors=vizinho)\n",
    "    knn.fit(x_validm01,y_target03)\n",
    "    y_pred07=knn.predict(x_validm01)\n",
    "    rmse_aprox=round(RMSE(y=y_target03,y_pred=y_pred07),2)\n",
    "    print('O RMSE %s foi de '%rmse_aprox,'para',vizinho,'vizinhos.','\\n')"
   ]
  },
  {
   "cell_type": "markdown",
   "metadata": {},
   "source": [
    "De fato, a hipótese de que o RMSE aumentava com o n_neighbors estava correta, e a melhor escolha foi n_neighbors=2.\n",
    "\n",
    "RMSE=19.19 no dataframe de validação comparado a 18.09 no dataframe de treino.\n",
    "\n",
    "Portanto, aparenta estar condizente com a realidade."
   ]
  },
  {
   "cell_type": "markdown",
   "metadata": {},
   "source": [
    "# 9.0 ) Dataframe de teste.\n",
    "\n",
    "Agora que já selecionamos as variáveis e seus termos auxiliares, partiremos testar nosso modelo."
   ]
  },
  {
   "cell_type": "code",
   "execution_count": 72,
   "metadata": {},
   "outputs": [],
   "source": [
    "x_testm01=df_test[['ind_pop_cid',\"perc_pol\",'taxa_crim','nivel_ed']]\n",
    "y_target04=df_test[['crimes']]"
   ]
  },
  {
   "cell_type": "code",
   "execution_count": 74,
   "metadata": {},
   "outputs": [],
   "source": [
    "knn=KNeighborsRegressor(n_neighbors=2)\n"
   ]
  },
  {
   "cell_type": "code",
   "execution_count": 75,
   "metadata": {},
   "outputs": [
    {
     "data": {
      "text/plain": [
       "KNeighborsRegressor(n_neighbors=2)"
      ]
     },
     "execution_count": 75,
     "metadata": {},
     "output_type": "execute_result"
    }
   ],
   "source": [
    "knn.fit(x_testm01,y_target04)"
   ]
  },
  {
   "cell_type": "code",
   "execution_count": 76,
   "metadata": {},
   "outputs": [],
   "source": [
    "y_pred08=knn.predict(x_testm01)"
   ]
  },
  {
   "cell_type": "code",
   "execution_count": 77,
   "metadata": {},
   "outputs": [
    {
     "data": {
      "text/plain": [
       "crimes    18.782927\n",
       "dtype: float64"
      ]
     },
     "execution_count": 77,
     "metadata": {},
     "output_type": "execute_result"
    }
   ],
   "source": [
    "RMSE(y=y_target04,y_pred=y_pred08)"
   ]
  },
  {
   "cell_type": "markdown",
   "metadata": {},
   "source": [
    "Chegando num RMSE de 18.78 no DataFrame de teste, aparenta que o nosso modelo teve uma precisão bastante interessante.\n",
    "\n",
    "Ficando próximo aos valores vistos em treino e validação."
   ]
  },
  {
   "cell_type": "markdown",
   "metadata": {},
   "source": [
    "# 9.1 ) Visualizando e comparando.\n",
    "\n",
    "Faremos uma comparação entre o modelo de multivariável e o de variável única.\n",
    "\n",
    "Além disso, visualizaremos ambos."
   ]
  },
  {
   "cell_type": "code",
   "execution_count": 84,
   "metadata": {},
   "outputs": [],
   "source": [
    "armazenamento=[]\n",
    "for x in y_pred08:\n",
    "    armazenamento.append(x)"
   ]
  },
  {
   "cell_type": "code",
   "execution_count": 85,
   "metadata": {},
   "outputs": [],
   "source": [
    "df_aux04=pd.DataFrame({'crimes':df_test['crimes'],'crimes_predict':armazenamento})"
   ]
  },
  {
   "cell_type": "code",
   "execution_count": 86,
   "metadata": {},
   "outputs": [],
   "source": [
    "margens4=[]\n",
    "for x in range(df_aux01.shape[0]):\n",
    "    margem_minima=df_aux04.crimes.tolist()[x] -0.2*df_aux04.crimes.tolist()[x]\n",
    "    margem_maxima=df_aux04.crimes.tolist()[x] + 0.2*df_aux04.crimes.tolist()[x]\n",
    "    if margem_minima<=df_aux04['crimes_predict'].tolist()[x]<=margem_maxima:\n",
    "\n",
    "        margens4.append(1)\n",
    "    else: \n",
    "        margens4.append(0)"
   ]
  },
  {
   "cell_type": "code",
   "execution_count": 87,
   "metadata": {},
   "outputs": [],
   "source": [
    "df_aux04_2=pd.DataFrame({'crimes':df_test['crimes'],'crimes_predict':armazenamento,'Aceitabilidade':margens4})"
   ]
  },
  {
   "cell_type": "code",
   "execution_count": 89,
   "metadata": {},
   "outputs": [
    {
     "data": {
      "text/html": [
       "<div>\n",
       "<style scoped>\n",
       "    .dataframe tbody tr th:only-of-type {\n",
       "        vertical-align: middle;\n",
       "    }\n",
       "\n",
       "    .dataframe tbody tr th {\n",
       "        vertical-align: top;\n",
       "    }\n",
       "\n",
       "    .dataframe thead th {\n",
       "        text-align: right;\n",
       "    }\n",
       "</style>\n",
       "<table border=\"1\" class=\"dataframe\">\n",
       "  <thead>\n",
       "    <tr style=\"text-align: right;\">\n",
       "      <th></th>\n",
       "      <th>crimes</th>\n",
       "      <th>crimes_predict</th>\n",
       "      <th>Aceitabilidade</th>\n",
       "    </tr>\n",
       "  </thead>\n",
       "  <tbody>\n",
       "    <tr>\n",
       "      <th>1845</th>\n",
       "      <td>75</td>\n",
       "      <td>[65.0]</td>\n",
       "      <td>1</td>\n",
       "    </tr>\n",
       "    <tr>\n",
       "      <th>1846</th>\n",
       "      <td>40</td>\n",
       "      <td>[39.5]</td>\n",
       "      <td>1</td>\n",
       "    </tr>\n",
       "    <tr>\n",
       "      <th>1847</th>\n",
       "      <td>28</td>\n",
       "      <td>[49.0]</td>\n",
       "      <td>0</td>\n",
       "    </tr>\n",
       "    <tr>\n",
       "      <th>1848</th>\n",
       "      <td>211</td>\n",
       "      <td>[246.0]</td>\n",
       "      <td>1</td>\n",
       "    </tr>\n",
       "    <tr>\n",
       "      <th>1849</th>\n",
       "      <td>312</td>\n",
       "      <td>[357.0]</td>\n",
       "      <td>1</td>\n",
       "    </tr>\n",
       "    <tr>\n",
       "      <th>1850</th>\n",
       "      <td>161</td>\n",
       "      <td>[185.0]</td>\n",
       "      <td>1</td>\n",
       "    </tr>\n",
       "    <tr>\n",
       "      <th>1851</th>\n",
       "      <td>29</td>\n",
       "      <td>[63.0]</td>\n",
       "      <td>0</td>\n",
       "    </tr>\n",
       "    <tr>\n",
       "      <th>1852</th>\n",
       "      <td>319</td>\n",
       "      <td>[300.0]</td>\n",
       "      <td>1</td>\n",
       "    </tr>\n",
       "    <tr>\n",
       "      <th>1853</th>\n",
       "      <td>119</td>\n",
       "      <td>[133.0]</td>\n",
       "      <td>1</td>\n",
       "    </tr>\n",
       "    <tr>\n",
       "      <th>1854</th>\n",
       "      <td>399</td>\n",
       "      <td>[395.0]</td>\n",
       "      <td>1</td>\n",
       "    </tr>\n",
       "  </tbody>\n",
       "</table>\n",
       "</div>"
      ],
      "text/plain": [
       "      crimes crimes_predict  Aceitabilidade\n",
       "1845      75         [65.0]               1\n",
       "1846      40         [39.5]               1\n",
       "1847      28         [49.0]               0\n",
       "1848     211        [246.0]               1\n",
       "1849     312        [357.0]               1\n",
       "1850     161        [185.0]               1\n",
       "1851      29         [63.0]               0\n",
       "1852     319        [300.0]               1\n",
       "1853     119        [133.0]               1\n",
       "1854     399        [395.0]               1"
      ]
     },
     "execution_count": 89,
     "metadata": {},
     "output_type": "execute_result"
    }
   ],
   "source": [
    "df_aux04_2.head(10)"
   ]
  },
  {
   "cell_type": "code",
   "execution_count": 94,
   "metadata": {},
   "outputs": [
    {
     "name": "stdout",
     "output_type": "stream",
     "text": [
      "Modelo de variável única\n",
      "Taxa de assertividade: 37.89 %\n"
     ]
    }
   ],
   "source": [
    "print('Modelo de variável única')\n",
    "print('Taxa de assertividade:',round(df_aux03_2.Aceitabilidade.sum()/df_aux03_2.shape[0],4)*100,'%')"
   ]
  },
  {
   "cell_type": "code",
   "execution_count": 95,
   "metadata": {},
   "outputs": [
    {
     "name": "stdout",
     "output_type": "stream",
     "text": [
      "Modelo de multivariáveis\n",
      "Taxa de assertividade: 72.2 %\n"
     ]
    }
   ],
   "source": [
    "print('Modelo de multivariáveis')\n",
    "print('Taxa de assertividade:',round(df_aux04_2.Aceitabilidade.sum()/df_aux04_2.shape[0],4)*100,'%')"
   ]
  },
  {
   "cell_type": "markdown",
   "metadata": {},
   "source": [
    "Realmente! \n",
    "\n",
    "O modelo com multivariavéis apresentou uma taxa de assertividade superior ao de variável única.\n",
    "\n",
    "Nossa hipótese foi validada!\n",
    "\n"
   ]
  },
  {
   "cell_type": "markdown",
   "metadata": {},
   "source": [
    "# 10.0)  Conclusão\n",
    "\n",
    "Através do nosso modelo baseado em todas as variáveis disponiveis no DataFrame obtemos um índice de acertos, relativamente alto, possuindo uma taxa de assertividade de 72.2% sendo usado uma margem de erro de 20%.\n",
    "\n",
    "Portanto, o modelo que deve seguir em produção é o último apresentado, visto que, este possuiu uma assertividade extremamente superior, 37.89% comparado a 72.2%."
   ]
  }
 ],
 "metadata": {
  "kernelspec": {
   "display_name": "Python 3",
   "language": "python",
   "name": "python3"
  },
  "language_info": {
   "codemirror_mode": {
    "name": "ipython",
    "version": 3
   },
   "file_extension": ".py",
   "mimetype": "text/x-python",
   "name": "python",
   "nbconvert_exporter": "python",
   "pygments_lexer": "ipython3",
   "version": "3.8.5"
  }
 },
 "nbformat": 4,
 "nbformat_minor": 4
}
