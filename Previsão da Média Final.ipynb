{
 "cells": [
  {
   "cell_type": "code",
   "execution_count": 1,
   "metadata": {},
   "outputs": [],
   "source": [
    "import pandas as pd\n",
    "import numpy as np\n",
    "import matplotlib.pyplot as plt\n",
    "import seaborn as sns"
   ]
  },
  {
   "cell_type": "markdown",
   "metadata": {},
   "source": [
    "# 1.0 Visualização rápida.\n",
    "\n",
    "Faremos uma visualização rápidas nas variáveis presentes no DataFrame.\n",
    "Através delas teremos insights e possíveis tomadas de decisões.\n",
    "\n",
    "Além disso, esta simples visualização  nos permitirá identificar boas variáveis preditoras e possíveis caminhos a tomar.\n",
    "\n",
    "\n"
   ]
  },
  {
   "cell_type": "code",
   "execution_count": 2,
   "metadata": {},
   "outputs": [],
   "source": [
    "df=pd.read_csv('dataframe_exercicio_modulo_9.csv')"
   ]
  },
  {
   "cell_type": "code",
   "execution_count": 3,
   "metadata": {},
   "outputs": [
    {
     "data": {
      "text/html": [
       "<div>\n",
       "<style scoped>\n",
       "    .dataframe tbody tr th:only-of-type {\n",
       "        vertical-align: middle;\n",
       "    }\n",
       "\n",
       "    .dataframe tbody tr th {\n",
       "        vertical-align: top;\n",
       "    }\n",
       "\n",
       "    .dataframe thead th {\n",
       "        text-align: right;\n",
       "    }\n",
       "</style>\n",
       "<table border=\"1\" class=\"dataframe\">\n",
       "  <thead>\n",
       "    <tr style=\"text-align: right;\">\n",
       "      <th></th>\n",
       "      <th>sex</th>\n",
       "      <th>age</th>\n",
       "      <th>famsize</th>\n",
       "      <th>Pstatus</th>\n",
       "      <th>traveltime</th>\n",
       "      <th>studytime</th>\n",
       "      <th>schoolsup</th>\n",
       "      <th>famsup</th>\n",
       "      <th>paid</th>\n",
       "      <th>activities</th>\n",
       "      <th>internet</th>\n",
       "      <th>romantic</th>\n",
       "      <th>famrel</th>\n",
       "      <th>freetime</th>\n",
       "      <th>goout</th>\n",
       "      <th>absences</th>\n",
       "      <th>G3</th>\n",
       "    </tr>\n",
       "  </thead>\n",
       "  <tbody>\n",
       "    <tr>\n",
       "      <th>0</th>\n",
       "      <td>F</td>\n",
       "      <td>18</td>\n",
       "      <td>GT3</td>\n",
       "      <td>A</td>\n",
       "      <td>2</td>\n",
       "      <td>2</td>\n",
       "      <td>yes</td>\n",
       "      <td>no</td>\n",
       "      <td>no</td>\n",
       "      <td>no</td>\n",
       "      <td>no</td>\n",
       "      <td>no</td>\n",
       "      <td>4</td>\n",
       "      <td>3</td>\n",
       "      <td>4</td>\n",
       "      <td>6</td>\n",
       "      <td>6</td>\n",
       "    </tr>\n",
       "    <tr>\n",
       "      <th>1</th>\n",
       "      <td>F</td>\n",
       "      <td>17</td>\n",
       "      <td>GT3</td>\n",
       "      <td>T</td>\n",
       "      <td>1</td>\n",
       "      <td>2</td>\n",
       "      <td>no</td>\n",
       "      <td>yes</td>\n",
       "      <td>no</td>\n",
       "      <td>no</td>\n",
       "      <td>yes</td>\n",
       "      <td>no</td>\n",
       "      <td>5</td>\n",
       "      <td>3</td>\n",
       "      <td>3</td>\n",
       "      <td>4</td>\n",
       "      <td>6</td>\n",
       "    </tr>\n",
       "    <tr>\n",
       "      <th>2</th>\n",
       "      <td>F</td>\n",
       "      <td>15</td>\n",
       "      <td>LE3</td>\n",
       "      <td>T</td>\n",
       "      <td>1</td>\n",
       "      <td>2</td>\n",
       "      <td>yes</td>\n",
       "      <td>no</td>\n",
       "      <td>yes</td>\n",
       "      <td>no</td>\n",
       "      <td>yes</td>\n",
       "      <td>no</td>\n",
       "      <td>4</td>\n",
       "      <td>3</td>\n",
       "      <td>2</td>\n",
       "      <td>10</td>\n",
       "      <td>10</td>\n",
       "    </tr>\n",
       "    <tr>\n",
       "      <th>3</th>\n",
       "      <td>F</td>\n",
       "      <td>15</td>\n",
       "      <td>GT3</td>\n",
       "      <td>T</td>\n",
       "      <td>1</td>\n",
       "      <td>3</td>\n",
       "      <td>no</td>\n",
       "      <td>yes</td>\n",
       "      <td>yes</td>\n",
       "      <td>yes</td>\n",
       "      <td>yes</td>\n",
       "      <td>yes</td>\n",
       "      <td>3</td>\n",
       "      <td>2</td>\n",
       "      <td>2</td>\n",
       "      <td>2</td>\n",
       "      <td>15</td>\n",
       "    </tr>\n",
       "    <tr>\n",
       "      <th>4</th>\n",
       "      <td>F</td>\n",
       "      <td>16</td>\n",
       "      <td>GT3</td>\n",
       "      <td>T</td>\n",
       "      <td>1</td>\n",
       "      <td>2</td>\n",
       "      <td>no</td>\n",
       "      <td>yes</td>\n",
       "      <td>yes</td>\n",
       "      <td>no</td>\n",
       "      <td>no</td>\n",
       "      <td>no</td>\n",
       "      <td>4</td>\n",
       "      <td>3</td>\n",
       "      <td>2</td>\n",
       "      <td>4</td>\n",
       "      <td>10</td>\n",
       "    </tr>\n",
       "  </tbody>\n",
       "</table>\n",
       "</div>"
      ],
      "text/plain": [
       "  sex  age famsize Pstatus  traveltime  studytime schoolsup famsup paid  \\\n",
       "0   F   18     GT3       A           2          2       yes     no   no   \n",
       "1   F   17     GT3       T           1          2        no    yes   no   \n",
       "2   F   15     LE3       T           1          2       yes     no  yes   \n",
       "3   F   15     GT3       T           1          3        no    yes  yes   \n",
       "4   F   16     GT3       T           1          2        no    yes  yes   \n",
       "\n",
       "  activities internet romantic  famrel  freetime  goout  absences  G3  \n",
       "0         no       no       no       4         3      4         6   6  \n",
       "1         no      yes       no       5         3      3         4   6  \n",
       "2         no      yes       no       4         3      2        10  10  \n",
       "3        yes      yes      yes       3         2      2         2  15  \n",
       "4         no       no       no       4         3      2         4  10  "
      ]
     },
     "execution_count": 3,
     "metadata": {},
     "output_type": "execute_result"
    }
   ],
   "source": [
    "df.head()"
   ]
  },
  {
   "cell_type": "code",
   "execution_count": 4,
   "metadata": {},
   "outputs": [
    {
     "name": "stdout",
     "output_type": "stream",
     "text": [
      "<class 'pandas.core.frame.DataFrame'>\n",
      "RangeIndex: 1044 entries, 0 to 1043\n",
      "Data columns (total 17 columns):\n",
      " #   Column      Non-Null Count  Dtype \n",
      "---  ------      --------------  ----- \n",
      " 0   sex         1044 non-null   object\n",
      " 1   age         1044 non-null   int64 \n",
      " 2   famsize     1044 non-null   object\n",
      " 3   Pstatus     1044 non-null   object\n",
      " 4   traveltime  1044 non-null   int64 \n",
      " 5   studytime   1044 non-null   int64 \n",
      " 6   schoolsup   1044 non-null   object\n",
      " 7   famsup      1044 non-null   object\n",
      " 8   paid        1044 non-null   object\n",
      " 9   activities  1044 non-null   object\n",
      " 10  internet    1044 non-null   object\n",
      " 11  romantic    1044 non-null   object\n",
      " 12  famrel      1044 non-null   int64 \n",
      " 13  freetime    1044 non-null   int64 \n",
      " 14  goout       1044 non-null   int64 \n",
      " 15  absences    1044 non-null   int64 \n",
      " 16  G3          1044 non-null   int64 \n",
      "dtypes: int64(8), object(9)\n",
      "memory usage: 138.8+ KB\n"
     ]
    }
   ],
   "source": [
    "df.info()"
   ]
  },
  {
   "cell_type": "code",
   "execution_count": 5,
   "metadata": {},
   "outputs": [
    {
     "data": {
      "text/plain": [
       "(1044, 17)"
      ]
     },
     "execution_count": 5,
     "metadata": {},
     "output_type": "execute_result"
    }
   ],
   "source": [
    "df.shape"
   ]
  },
  {
   "cell_type": "markdown",
   "metadata": {},
   "source": [
    "De maneira imediata notamos que não existe dados faltantes, isso é muito bom, não será necessário a exclusão de nenhuma linha ou coluna.\n",
    "\n",
    "Apesar disso, o fato de nao haver variáveis com dados faltantes não é sinônimo dos dados estarem prontos para serem trabalhados."
   ]
  },
  {
   "cell_type": "code",
   "execution_count": 6,
   "metadata": {},
   "outputs": [
    {
     "data": {
      "text/html": [
       "<div>\n",
       "<style scoped>\n",
       "    .dataframe tbody tr th:only-of-type {\n",
       "        vertical-align: middle;\n",
       "    }\n",
       "\n",
       "    .dataframe tbody tr th {\n",
       "        vertical-align: top;\n",
       "    }\n",
       "\n",
       "    .dataframe thead th {\n",
       "        text-align: right;\n",
       "    }\n",
       "</style>\n",
       "<table border=\"1\" class=\"dataframe\">\n",
       "  <thead>\n",
       "    <tr style=\"text-align: right;\">\n",
       "      <th></th>\n",
       "      <th>age</th>\n",
       "      <th>traveltime</th>\n",
       "      <th>studytime</th>\n",
       "      <th>famrel</th>\n",
       "      <th>freetime</th>\n",
       "      <th>goout</th>\n",
       "      <th>absences</th>\n",
       "      <th>G3</th>\n",
       "    </tr>\n",
       "  </thead>\n",
       "  <tbody>\n",
       "    <tr>\n",
       "      <th>count</th>\n",
       "      <td>1044.000000</td>\n",
       "      <td>1044.000000</td>\n",
       "      <td>1044.000000</td>\n",
       "      <td>1044.000000</td>\n",
       "      <td>1044.000000</td>\n",
       "      <td>1044.000000</td>\n",
       "      <td>1044.000000</td>\n",
       "      <td>1044.000000</td>\n",
       "    </tr>\n",
       "    <tr>\n",
       "      <th>mean</th>\n",
       "      <td>16.726054</td>\n",
       "      <td>1.522989</td>\n",
       "      <td>1.970307</td>\n",
       "      <td>3.935824</td>\n",
       "      <td>3.201149</td>\n",
       "      <td>3.156130</td>\n",
       "      <td>4.434866</td>\n",
       "      <td>11.341954</td>\n",
       "    </tr>\n",
       "    <tr>\n",
       "      <th>std</th>\n",
       "      <td>1.239975</td>\n",
       "      <td>0.731727</td>\n",
       "      <td>0.834353</td>\n",
       "      <td>0.933401</td>\n",
       "      <td>1.031507</td>\n",
       "      <td>1.152575</td>\n",
       "      <td>6.210017</td>\n",
       "      <td>3.864796</td>\n",
       "    </tr>\n",
       "    <tr>\n",
       "      <th>min</th>\n",
       "      <td>15.000000</td>\n",
       "      <td>1.000000</td>\n",
       "      <td>1.000000</td>\n",
       "      <td>1.000000</td>\n",
       "      <td>1.000000</td>\n",
       "      <td>1.000000</td>\n",
       "      <td>0.000000</td>\n",
       "      <td>0.000000</td>\n",
       "    </tr>\n",
       "    <tr>\n",
       "      <th>25%</th>\n",
       "      <td>16.000000</td>\n",
       "      <td>1.000000</td>\n",
       "      <td>1.000000</td>\n",
       "      <td>4.000000</td>\n",
       "      <td>3.000000</td>\n",
       "      <td>2.000000</td>\n",
       "      <td>0.000000</td>\n",
       "      <td>10.000000</td>\n",
       "    </tr>\n",
       "    <tr>\n",
       "      <th>50%</th>\n",
       "      <td>17.000000</td>\n",
       "      <td>1.000000</td>\n",
       "      <td>2.000000</td>\n",
       "      <td>4.000000</td>\n",
       "      <td>3.000000</td>\n",
       "      <td>3.000000</td>\n",
       "      <td>2.000000</td>\n",
       "      <td>11.000000</td>\n",
       "    </tr>\n",
       "    <tr>\n",
       "      <th>75%</th>\n",
       "      <td>18.000000</td>\n",
       "      <td>2.000000</td>\n",
       "      <td>2.000000</td>\n",
       "      <td>5.000000</td>\n",
       "      <td>4.000000</td>\n",
       "      <td>4.000000</td>\n",
       "      <td>6.000000</td>\n",
       "      <td>14.000000</td>\n",
       "    </tr>\n",
       "    <tr>\n",
       "      <th>max</th>\n",
       "      <td>22.000000</td>\n",
       "      <td>4.000000</td>\n",
       "      <td>4.000000</td>\n",
       "      <td>5.000000</td>\n",
       "      <td>5.000000</td>\n",
       "      <td>5.000000</td>\n",
       "      <td>75.000000</td>\n",
       "      <td>20.000000</td>\n",
       "    </tr>\n",
       "  </tbody>\n",
       "</table>\n",
       "</div>"
      ],
      "text/plain": [
       "               age   traveltime    studytime       famrel     freetime  \\\n",
       "count  1044.000000  1044.000000  1044.000000  1044.000000  1044.000000   \n",
       "mean     16.726054     1.522989     1.970307     3.935824     3.201149   \n",
       "std       1.239975     0.731727     0.834353     0.933401     1.031507   \n",
       "min      15.000000     1.000000     1.000000     1.000000     1.000000   \n",
       "25%      16.000000     1.000000     1.000000     4.000000     3.000000   \n",
       "50%      17.000000     1.000000     2.000000     4.000000     3.000000   \n",
       "75%      18.000000     2.000000     2.000000     5.000000     4.000000   \n",
       "max      22.000000     4.000000     4.000000     5.000000     5.000000   \n",
       "\n",
       "             goout     absences           G3  \n",
       "count  1044.000000  1044.000000  1044.000000  \n",
       "mean      3.156130     4.434866    11.341954  \n",
       "std       1.152575     6.210017     3.864796  \n",
       "min       1.000000     0.000000     0.000000  \n",
       "25%       2.000000     0.000000    10.000000  \n",
       "50%       3.000000     2.000000    11.000000  \n",
       "75%       4.000000     6.000000    14.000000  \n",
       "max       5.000000    75.000000    20.000000  "
      ]
     },
     "execution_count": 6,
     "metadata": {},
     "output_type": "execute_result"
    }
   ],
   "source": [
    "df.describe()"
   ]
  },
  {
   "cell_type": "markdown",
   "metadata": {},
   "source": [
    "**age**: a idade dos alunos está concentrada entre 15 e 18 anos. 75% dos alunos possuem idade entre 15 e 18 anos.\n",
    "\n",
    "**traveltime**: 75% dos alunos levam menos de 30 minutos no trajeto escola-casa.\n",
    "\n",
    "**studytime**:75% dos alunos estudam ente 0 e 5 horas por semana.\n",
    "\n",
    "**famrel**: Grande parte dos alunos declararam ter uma relação boa com a familía.\n",
    "\n",
    "**freetime**: a média dos alunos declara ter um tempo razoável disponível nos periodos pós aulas.\n",
    "\n",
    "**goout**: a média dos alunos declara tem uma relação com os amigos razoavel, isto é, costumam sair com frequência.\n",
    "\n",
    "**absences**: 75% dos alunos possuem menos de 6 faltas, apesar disto pode-se notar algum outlier nesta variável com 75 faltas.\n",
    "\n",
    "**G3**: a nota final média dos alunos fica entre  11, de um máximo de 20. Sendo que 75% dos alunos possuem G3 abaixo de 14.\n",
    "\n"
   ]
  },
  {
   "cell_type": "code",
   "execution_count": 7,
   "metadata": {},
   "outputs": [
    {
     "name": "stdout",
     "output_type": "stream",
     "text": [
      "Correlação da variável age com a Média final. -0.1253\n",
      "Correlação da variável traveltime com a Média final. -0.1026\n",
      "Correlação da variável studytime com a Média final. 0.1616\n",
      "Correlação da variável famrel com a Média final. 0.0545\n",
      "Correlação da variável freetime com a Média final. -0.0649\n",
      "Correlação da variável goout com a Média final. -0.0979\n",
      "Correlação da variável absences com a Média final. -0.0457\n",
      "Correlação da variável G3 com a Média final. 1.0\n"
     ]
    }
   ],
   "source": [
    "for x in df.describe().columns:\n",
    "    print('Correlação da variável %s com a Média final.'%x,round(df['%s'%x].corr(df.G3),4))"
   ]
  },
  {
   "cell_type": "markdown",
   "metadata": {},
   "source": [
    "De posse das correlações anteriores vemos que as melhores variáveis para trabalharmos são:\n",
    "\n",
    "studytime, age e traveltime.\n",
    "\n",
    "Apesar disto, teremos que fazer o pré-processamento de outras variáveis qualitativas para checarmos melhor tal correlação."
   ]
  },
  {
   "cell_type": "markdown",
   "metadata": {},
   "source": [
    "# 2.0 ) Pré-processamento.\n",
    "\n",
    "Faremos o pré-processamento das variáveis presentes neste dataset, de posse disto analisaremos novamente a correlação e se esta variável nos auxiliará na previsão da média final, ou não."
   ]
  },
  {
   "cell_type": "code",
   "execution_count": 8,
   "metadata": {},
   "outputs": [
    {
     "name": "stdout",
     "output_type": "stream",
     "text": [
      "<class 'pandas.core.frame.DataFrame'>\n",
      "RangeIndex: 1044 entries, 0 to 1043\n",
      "Data columns (total 17 columns):\n",
      " #   Column      Non-Null Count  Dtype \n",
      "---  ------      --------------  ----- \n",
      " 0   sex         1044 non-null   object\n",
      " 1   age         1044 non-null   int64 \n",
      " 2   famsize     1044 non-null   object\n",
      " 3   Pstatus     1044 non-null   object\n",
      " 4   traveltime  1044 non-null   int64 \n",
      " 5   studytime   1044 non-null   int64 \n",
      " 6   schoolsup   1044 non-null   object\n",
      " 7   famsup      1044 non-null   object\n",
      " 8   paid        1044 non-null   object\n",
      " 9   activities  1044 non-null   object\n",
      " 10  internet    1044 non-null   object\n",
      " 11  romantic    1044 non-null   object\n",
      " 12  famrel      1044 non-null   int64 \n",
      " 13  freetime    1044 non-null   int64 \n",
      " 14  goout       1044 non-null   int64 \n",
      " 15  absences    1044 non-null   int64 \n",
      " 16  G3          1044 non-null   int64 \n",
      "dtypes: int64(8), object(9)\n",
      "memory usage: 138.8+ KB\n"
     ]
    }
   ],
   "source": [
    "df.info()"
   ]
  },
  {
   "cell_type": "markdown",
   "metadata": {},
   "source": [
    "# 2.1) sex\n",
    "\n",
    "Transformaremos a variável sex, Sexo de cada aluno em uma variável binária, atribuindo os seguintes valores:\n",
    "\n",
    "0:Mulher\n",
    "\n",
    "1:Homem\n",
    "\n",
    "Além disso, geraremos uma nova variável \"sex_bin\" onde armazenaremos tais informações."
   ]
  },
  {
   "cell_type": "code",
   "execution_count": 9,
   "metadata": {},
   "outputs": [
    {
     "data": {
      "text/plain": [
       "0       F\n",
       "1       F\n",
       "2       F\n",
       "3       F\n",
       "4       F\n",
       "       ..\n",
       "1039    F\n",
       "1040    F\n",
       "1041    F\n",
       "1042    M\n",
       "1043    M\n",
       "Name: sex, Length: 1044, dtype: object"
      ]
     },
     "execution_count": 9,
     "metadata": {},
     "output_type": "execute_result"
    }
   ],
   "source": [
    "df.sex"
   ]
  },
  {
   "cell_type": "code",
   "execution_count": 10,
   "metadata": {},
   "outputs": [
    {
     "data": {
      "text/plain": [
       "0       0\n",
       "1       0\n",
       "2       0\n",
       "3       0\n",
       "4       0\n",
       "       ..\n",
       "1039    0\n",
       "1040    0\n",
       "1041    0\n",
       "1042    1\n",
       "1043    1\n",
       "Name: sex, Length: 1044, dtype: int64"
      ]
     },
     "execution_count": 10,
     "metadata": {},
     "output_type": "execute_result"
    }
   ],
   "source": [
    "def sex_bin(x):\n",
    "    if x=='F':\n",
    "        return 0\n",
    "    if x=='M':\n",
    "        return 1\n",
    "df.sex.apply(lambda x: sex_bin(x))"
   ]
  },
  {
   "cell_type": "code",
   "execution_count": 11,
   "metadata": {},
   "outputs": [],
   "source": [
    "df['sex_bin']=df.sex.apply(lambda x: sex_bin(x))"
   ]
  },
  {
   "cell_type": "code",
   "execution_count": 12,
   "metadata": {},
   "outputs": [
    {
     "data": {
      "text/html": [
       "<div>\n",
       "<style scoped>\n",
       "    .dataframe tbody tr th:only-of-type {\n",
       "        vertical-align: middle;\n",
       "    }\n",
       "\n",
       "    .dataframe tbody tr th {\n",
       "        vertical-align: top;\n",
       "    }\n",
       "\n",
       "    .dataframe thead th {\n",
       "        text-align: right;\n",
       "    }\n",
       "</style>\n",
       "<table border=\"1\" class=\"dataframe\">\n",
       "  <thead>\n",
       "    <tr style=\"text-align: right;\">\n",
       "      <th></th>\n",
       "      <th>sex</th>\n",
       "      <th>age</th>\n",
       "      <th>famsize</th>\n",
       "      <th>Pstatus</th>\n",
       "      <th>traveltime</th>\n",
       "      <th>studytime</th>\n",
       "      <th>schoolsup</th>\n",
       "      <th>famsup</th>\n",
       "      <th>paid</th>\n",
       "      <th>activities</th>\n",
       "      <th>internet</th>\n",
       "      <th>romantic</th>\n",
       "      <th>famrel</th>\n",
       "      <th>freetime</th>\n",
       "      <th>goout</th>\n",
       "      <th>absences</th>\n",
       "      <th>G3</th>\n",
       "      <th>sex_bin</th>\n",
       "    </tr>\n",
       "  </thead>\n",
       "  <tbody>\n",
       "    <tr>\n",
       "      <th>0</th>\n",
       "      <td>F</td>\n",
       "      <td>18</td>\n",
       "      <td>GT3</td>\n",
       "      <td>A</td>\n",
       "      <td>2</td>\n",
       "      <td>2</td>\n",
       "      <td>yes</td>\n",
       "      <td>no</td>\n",
       "      <td>no</td>\n",
       "      <td>no</td>\n",
       "      <td>no</td>\n",
       "      <td>no</td>\n",
       "      <td>4</td>\n",
       "      <td>3</td>\n",
       "      <td>4</td>\n",
       "      <td>6</td>\n",
       "      <td>6</td>\n",
       "      <td>0</td>\n",
       "    </tr>\n",
       "    <tr>\n",
       "      <th>1</th>\n",
       "      <td>F</td>\n",
       "      <td>17</td>\n",
       "      <td>GT3</td>\n",
       "      <td>T</td>\n",
       "      <td>1</td>\n",
       "      <td>2</td>\n",
       "      <td>no</td>\n",
       "      <td>yes</td>\n",
       "      <td>no</td>\n",
       "      <td>no</td>\n",
       "      <td>yes</td>\n",
       "      <td>no</td>\n",
       "      <td>5</td>\n",
       "      <td>3</td>\n",
       "      <td>3</td>\n",
       "      <td>4</td>\n",
       "      <td>6</td>\n",
       "      <td>0</td>\n",
       "    </tr>\n",
       "    <tr>\n",
       "      <th>2</th>\n",
       "      <td>F</td>\n",
       "      <td>15</td>\n",
       "      <td>LE3</td>\n",
       "      <td>T</td>\n",
       "      <td>1</td>\n",
       "      <td>2</td>\n",
       "      <td>yes</td>\n",
       "      <td>no</td>\n",
       "      <td>yes</td>\n",
       "      <td>no</td>\n",
       "      <td>yes</td>\n",
       "      <td>no</td>\n",
       "      <td>4</td>\n",
       "      <td>3</td>\n",
       "      <td>2</td>\n",
       "      <td>10</td>\n",
       "      <td>10</td>\n",
       "      <td>0</td>\n",
       "    </tr>\n",
       "    <tr>\n",
       "      <th>3</th>\n",
       "      <td>F</td>\n",
       "      <td>15</td>\n",
       "      <td>GT3</td>\n",
       "      <td>T</td>\n",
       "      <td>1</td>\n",
       "      <td>3</td>\n",
       "      <td>no</td>\n",
       "      <td>yes</td>\n",
       "      <td>yes</td>\n",
       "      <td>yes</td>\n",
       "      <td>yes</td>\n",
       "      <td>yes</td>\n",
       "      <td>3</td>\n",
       "      <td>2</td>\n",
       "      <td>2</td>\n",
       "      <td>2</td>\n",
       "      <td>15</td>\n",
       "      <td>0</td>\n",
       "    </tr>\n",
       "    <tr>\n",
       "      <th>4</th>\n",
       "      <td>F</td>\n",
       "      <td>16</td>\n",
       "      <td>GT3</td>\n",
       "      <td>T</td>\n",
       "      <td>1</td>\n",
       "      <td>2</td>\n",
       "      <td>no</td>\n",
       "      <td>yes</td>\n",
       "      <td>yes</td>\n",
       "      <td>no</td>\n",
       "      <td>no</td>\n",
       "      <td>no</td>\n",
       "      <td>4</td>\n",
       "      <td>3</td>\n",
       "      <td>2</td>\n",
       "      <td>4</td>\n",
       "      <td>10</td>\n",
       "      <td>0</td>\n",
       "    </tr>\n",
       "    <tr>\n",
       "      <th>5</th>\n",
       "      <td>M</td>\n",
       "      <td>16</td>\n",
       "      <td>LE3</td>\n",
       "      <td>T</td>\n",
       "      <td>1</td>\n",
       "      <td>2</td>\n",
       "      <td>no</td>\n",
       "      <td>yes</td>\n",
       "      <td>yes</td>\n",
       "      <td>yes</td>\n",
       "      <td>yes</td>\n",
       "      <td>no</td>\n",
       "      <td>5</td>\n",
       "      <td>4</td>\n",
       "      <td>2</td>\n",
       "      <td>10</td>\n",
       "      <td>15</td>\n",
       "      <td>1</td>\n",
       "    </tr>\n",
       "    <tr>\n",
       "      <th>6</th>\n",
       "      <td>M</td>\n",
       "      <td>16</td>\n",
       "      <td>LE3</td>\n",
       "      <td>T</td>\n",
       "      <td>1</td>\n",
       "      <td>2</td>\n",
       "      <td>no</td>\n",
       "      <td>no</td>\n",
       "      <td>no</td>\n",
       "      <td>no</td>\n",
       "      <td>yes</td>\n",
       "      <td>no</td>\n",
       "      <td>4</td>\n",
       "      <td>4</td>\n",
       "      <td>4</td>\n",
       "      <td>0</td>\n",
       "      <td>11</td>\n",
       "      <td>1</td>\n",
       "    </tr>\n",
       "    <tr>\n",
       "      <th>7</th>\n",
       "      <td>F</td>\n",
       "      <td>17</td>\n",
       "      <td>GT3</td>\n",
       "      <td>A</td>\n",
       "      <td>2</td>\n",
       "      <td>2</td>\n",
       "      <td>yes</td>\n",
       "      <td>yes</td>\n",
       "      <td>no</td>\n",
       "      <td>no</td>\n",
       "      <td>no</td>\n",
       "      <td>no</td>\n",
       "      <td>4</td>\n",
       "      <td>1</td>\n",
       "      <td>4</td>\n",
       "      <td>6</td>\n",
       "      <td>6</td>\n",
       "      <td>0</td>\n",
       "    </tr>\n",
       "    <tr>\n",
       "      <th>8</th>\n",
       "      <td>M</td>\n",
       "      <td>15</td>\n",
       "      <td>LE3</td>\n",
       "      <td>A</td>\n",
       "      <td>1</td>\n",
       "      <td>2</td>\n",
       "      <td>no</td>\n",
       "      <td>yes</td>\n",
       "      <td>yes</td>\n",
       "      <td>no</td>\n",
       "      <td>yes</td>\n",
       "      <td>no</td>\n",
       "      <td>4</td>\n",
       "      <td>2</td>\n",
       "      <td>2</td>\n",
       "      <td>0</td>\n",
       "      <td>19</td>\n",
       "      <td>1</td>\n",
       "    </tr>\n",
       "    <tr>\n",
       "      <th>9</th>\n",
       "      <td>M</td>\n",
       "      <td>15</td>\n",
       "      <td>GT3</td>\n",
       "      <td>T</td>\n",
       "      <td>1</td>\n",
       "      <td>2</td>\n",
       "      <td>no</td>\n",
       "      <td>yes</td>\n",
       "      <td>yes</td>\n",
       "      <td>yes</td>\n",
       "      <td>yes</td>\n",
       "      <td>no</td>\n",
       "      <td>5</td>\n",
       "      <td>5</td>\n",
       "      <td>1</td>\n",
       "      <td>0</td>\n",
       "      <td>15</td>\n",
       "      <td>1</td>\n",
       "    </tr>\n",
       "  </tbody>\n",
       "</table>\n",
       "</div>"
      ],
      "text/plain": [
       "  sex  age famsize Pstatus  traveltime  studytime schoolsup famsup paid  \\\n",
       "0   F   18     GT3       A           2          2       yes     no   no   \n",
       "1   F   17     GT3       T           1          2        no    yes   no   \n",
       "2   F   15     LE3       T           1          2       yes     no  yes   \n",
       "3   F   15     GT3       T           1          3        no    yes  yes   \n",
       "4   F   16     GT3       T           1          2        no    yes  yes   \n",
       "5   M   16     LE3       T           1          2        no    yes  yes   \n",
       "6   M   16     LE3       T           1          2        no     no   no   \n",
       "7   F   17     GT3       A           2          2       yes    yes   no   \n",
       "8   M   15     LE3       A           1          2        no    yes  yes   \n",
       "9   M   15     GT3       T           1          2        no    yes  yes   \n",
       "\n",
       "  activities internet romantic  famrel  freetime  goout  absences  G3  sex_bin  \n",
       "0         no       no       no       4         3      4         6   6        0  \n",
       "1         no      yes       no       5         3      3         4   6        0  \n",
       "2         no      yes       no       4         3      2        10  10        0  \n",
       "3        yes      yes      yes       3         2      2         2  15        0  \n",
       "4         no       no       no       4         3      2         4  10        0  \n",
       "5        yes      yes       no       5         4      2        10  15        1  \n",
       "6         no      yes       no       4         4      4         0  11        1  \n",
       "7         no       no       no       4         1      4         6   6        0  \n",
       "8         no      yes       no       4         2      2         0  19        1  \n",
       "9        yes      yes       no       5         5      1         0  15        1  "
      ]
     },
     "execution_count": 12,
     "metadata": {},
     "output_type": "execute_result"
    }
   ],
   "source": [
    "df.head(10)"
   ]
  },
  {
   "cell_type": "code",
   "execution_count": 13,
   "metadata": {},
   "outputs": [
    {
     "data": {
      "text/plain": [
       "0    591\n",
       "1    453\n",
       "Name: sex_bin, dtype: int64"
      ]
     },
     "execution_count": 13,
     "metadata": {},
     "output_type": "execute_result"
    }
   ],
   "source": [
    "df.sex_bin.value_counts()"
   ]
  },
  {
   "cell_type": "markdown",
   "metadata": {},
   "source": [
    "Vemos que o sexo com maior presença neste dataset é o feminino, isto quer dizer, há mais mulheres do que homens na escola."
   ]
  },
  {
   "cell_type": "markdown",
   "metadata": {},
   "source": [
    "# 2.2) famsize\n",
    "\n",
    "Faremos o pré-processamento da variável famsize, que nos indica o tamanho da família.\n",
    "\n",
    "LE3: indica famílias com no máximo 3 pessoas.\n",
    "\n",
    "GT3:Indica famílias com mais de 3 pessoas.\n",
    "\n",
    "Criaremos a variável famsize_bin onde:\n",
    "\n",
    "0: GT3\n",
    "\n",
    "1: LE3"
   ]
  },
  {
   "cell_type": "code",
   "execution_count": 14,
   "metadata": {},
   "outputs": [],
   "source": [
    "def famsize_bin(x):\n",
    "    if x=='GT3':\n",
    "        return 0\n",
    "    if x=='LE3':\n",
    "        return 1\n"
   ]
  },
  {
   "cell_type": "code",
   "execution_count": 15,
   "metadata": {},
   "outputs": [],
   "source": [
    "df['famsize_bin']=df.famsize.apply(lambda x: famsize_bin(x))"
   ]
  },
  {
   "cell_type": "code",
   "execution_count": 16,
   "metadata": {},
   "outputs": [
    {
     "data": {
      "text/html": [
       "<div>\n",
       "<style scoped>\n",
       "    .dataframe tbody tr th:only-of-type {\n",
       "        vertical-align: middle;\n",
       "    }\n",
       "\n",
       "    .dataframe tbody tr th {\n",
       "        vertical-align: top;\n",
       "    }\n",
       "\n",
       "    .dataframe thead th {\n",
       "        text-align: right;\n",
       "    }\n",
       "</style>\n",
       "<table border=\"1\" class=\"dataframe\">\n",
       "  <thead>\n",
       "    <tr style=\"text-align: right;\">\n",
       "      <th></th>\n",
       "      <th>sex</th>\n",
       "      <th>age</th>\n",
       "      <th>famsize</th>\n",
       "      <th>Pstatus</th>\n",
       "      <th>traveltime</th>\n",
       "      <th>studytime</th>\n",
       "      <th>schoolsup</th>\n",
       "      <th>famsup</th>\n",
       "      <th>paid</th>\n",
       "      <th>activities</th>\n",
       "      <th>internet</th>\n",
       "      <th>romantic</th>\n",
       "      <th>famrel</th>\n",
       "      <th>freetime</th>\n",
       "      <th>goout</th>\n",
       "      <th>absences</th>\n",
       "      <th>G3</th>\n",
       "      <th>sex_bin</th>\n",
       "      <th>famsize_bin</th>\n",
       "    </tr>\n",
       "  </thead>\n",
       "  <tbody>\n",
       "    <tr>\n",
       "      <th>0</th>\n",
       "      <td>F</td>\n",
       "      <td>18</td>\n",
       "      <td>GT3</td>\n",
       "      <td>A</td>\n",
       "      <td>2</td>\n",
       "      <td>2</td>\n",
       "      <td>yes</td>\n",
       "      <td>no</td>\n",
       "      <td>no</td>\n",
       "      <td>no</td>\n",
       "      <td>no</td>\n",
       "      <td>no</td>\n",
       "      <td>4</td>\n",
       "      <td>3</td>\n",
       "      <td>4</td>\n",
       "      <td>6</td>\n",
       "      <td>6</td>\n",
       "      <td>0</td>\n",
       "      <td>0</td>\n",
       "    </tr>\n",
       "    <tr>\n",
       "      <th>1</th>\n",
       "      <td>F</td>\n",
       "      <td>17</td>\n",
       "      <td>GT3</td>\n",
       "      <td>T</td>\n",
       "      <td>1</td>\n",
       "      <td>2</td>\n",
       "      <td>no</td>\n",
       "      <td>yes</td>\n",
       "      <td>no</td>\n",
       "      <td>no</td>\n",
       "      <td>yes</td>\n",
       "      <td>no</td>\n",
       "      <td>5</td>\n",
       "      <td>3</td>\n",
       "      <td>3</td>\n",
       "      <td>4</td>\n",
       "      <td>6</td>\n",
       "      <td>0</td>\n",
       "      <td>0</td>\n",
       "    </tr>\n",
       "    <tr>\n",
       "      <th>2</th>\n",
       "      <td>F</td>\n",
       "      <td>15</td>\n",
       "      <td>LE3</td>\n",
       "      <td>T</td>\n",
       "      <td>1</td>\n",
       "      <td>2</td>\n",
       "      <td>yes</td>\n",
       "      <td>no</td>\n",
       "      <td>yes</td>\n",
       "      <td>no</td>\n",
       "      <td>yes</td>\n",
       "      <td>no</td>\n",
       "      <td>4</td>\n",
       "      <td>3</td>\n",
       "      <td>2</td>\n",
       "      <td>10</td>\n",
       "      <td>10</td>\n",
       "      <td>0</td>\n",
       "      <td>1</td>\n",
       "    </tr>\n",
       "    <tr>\n",
       "      <th>3</th>\n",
       "      <td>F</td>\n",
       "      <td>15</td>\n",
       "      <td>GT3</td>\n",
       "      <td>T</td>\n",
       "      <td>1</td>\n",
       "      <td>3</td>\n",
       "      <td>no</td>\n",
       "      <td>yes</td>\n",
       "      <td>yes</td>\n",
       "      <td>yes</td>\n",
       "      <td>yes</td>\n",
       "      <td>yes</td>\n",
       "      <td>3</td>\n",
       "      <td>2</td>\n",
       "      <td>2</td>\n",
       "      <td>2</td>\n",
       "      <td>15</td>\n",
       "      <td>0</td>\n",
       "      <td>0</td>\n",
       "    </tr>\n",
       "    <tr>\n",
       "      <th>4</th>\n",
       "      <td>F</td>\n",
       "      <td>16</td>\n",
       "      <td>GT3</td>\n",
       "      <td>T</td>\n",
       "      <td>1</td>\n",
       "      <td>2</td>\n",
       "      <td>no</td>\n",
       "      <td>yes</td>\n",
       "      <td>yes</td>\n",
       "      <td>no</td>\n",
       "      <td>no</td>\n",
       "      <td>no</td>\n",
       "      <td>4</td>\n",
       "      <td>3</td>\n",
       "      <td>2</td>\n",
       "      <td>4</td>\n",
       "      <td>10</td>\n",
       "      <td>0</td>\n",
       "      <td>0</td>\n",
       "    </tr>\n",
       "  </tbody>\n",
       "</table>\n",
       "</div>"
      ],
      "text/plain": [
       "  sex  age famsize Pstatus  traveltime  studytime schoolsup famsup paid  \\\n",
       "0   F   18     GT3       A           2          2       yes     no   no   \n",
       "1   F   17     GT3       T           1          2        no    yes   no   \n",
       "2   F   15     LE3       T           1          2       yes     no  yes   \n",
       "3   F   15     GT3       T           1          3        no    yes  yes   \n",
       "4   F   16     GT3       T           1          2        no    yes  yes   \n",
       "\n",
       "  activities internet romantic  famrel  freetime  goout  absences  G3  \\\n",
       "0         no       no       no       4         3      4         6   6   \n",
       "1         no      yes       no       5         3      3         4   6   \n",
       "2         no      yes       no       4         3      2        10  10   \n",
       "3        yes      yes      yes       3         2      2         2  15   \n",
       "4         no       no       no       4         3      2         4  10   \n",
       "\n",
       "   sex_bin  famsize_bin  \n",
       "0        0            0  \n",
       "1        0            0  \n",
       "2        0            1  \n",
       "3        0            0  \n",
       "4        0            0  "
      ]
     },
     "execution_count": 16,
     "metadata": {},
     "output_type": "execute_result"
    }
   ],
   "source": [
    "df.head()"
   ]
  },
  {
   "cell_type": "code",
   "execution_count": 17,
   "metadata": {},
   "outputs": [
    {
     "data": {
      "text/plain": [
       "0    0.706897\n",
       "1    0.293103\n",
       "Name: famsize_bin, dtype: float64"
      ]
     },
     "execution_count": 17,
     "metadata": {},
     "output_type": "execute_result"
    }
   ],
   "source": [
    "df.famsize_bin.value_counts()/df.shape[0]\n",
    "\n"
   ]
  },
  {
   "cell_type": "markdown",
   "metadata": {},
   "source": [
    "Vemos que a maior parte dos alunos (70%) possui uma família composta por mais de 3 pessoas.\n"
   ]
  },
  {
   "cell_type": "markdown",
   "metadata": {},
   "source": [
    "# 2.3) Pstatus\n",
    "\n",
    "A variável Pstatus indica o status da habitação com os pais.\n",
    "\n",
    "Se T: Mora junto com os pais.\n",
    "\n",
    "Se A: Mora separado dos pais.\n",
    "\n",
    "A transformaremos numa variável binária onde:\n",
    "\n",
    "T:0\n",
    "\n",
    "A:1\n",
    "\n",
    "E Além disso, armazenaremos tais informações na variável Pstatus_bin."
   ]
  },
  {
   "cell_type": "code",
   "execution_count": 18,
   "metadata": {},
   "outputs": [],
   "source": [
    "def pstatus_bin(x):\n",
    "    if x=='T':\n",
    "        return 0\n",
    "    if x=='A':\n",
    "        return 1"
   ]
  },
  {
   "cell_type": "code",
   "execution_count": 19,
   "metadata": {},
   "outputs": [],
   "source": [
    "df['Pstatus_bin']=df.Pstatus.apply(lambda x: pstatus_bin(x))"
   ]
  },
  {
   "cell_type": "code",
   "execution_count": 20,
   "metadata": {},
   "outputs": [
    {
     "data": {
      "text/html": [
       "<div>\n",
       "<style scoped>\n",
       "    .dataframe tbody tr th:only-of-type {\n",
       "        vertical-align: middle;\n",
       "    }\n",
       "\n",
       "    .dataframe tbody tr th {\n",
       "        vertical-align: top;\n",
       "    }\n",
       "\n",
       "    .dataframe thead th {\n",
       "        text-align: right;\n",
       "    }\n",
       "</style>\n",
       "<table border=\"1\" class=\"dataframe\">\n",
       "  <thead>\n",
       "    <tr style=\"text-align: right;\">\n",
       "      <th></th>\n",
       "      <th>sex</th>\n",
       "      <th>age</th>\n",
       "      <th>famsize</th>\n",
       "      <th>Pstatus</th>\n",
       "      <th>traveltime</th>\n",
       "      <th>studytime</th>\n",
       "      <th>schoolsup</th>\n",
       "      <th>famsup</th>\n",
       "      <th>paid</th>\n",
       "      <th>activities</th>\n",
       "      <th>internet</th>\n",
       "      <th>romantic</th>\n",
       "      <th>famrel</th>\n",
       "      <th>freetime</th>\n",
       "      <th>goout</th>\n",
       "      <th>absences</th>\n",
       "      <th>G3</th>\n",
       "      <th>sex_bin</th>\n",
       "      <th>famsize_bin</th>\n",
       "      <th>Pstatus_bin</th>\n",
       "    </tr>\n",
       "  </thead>\n",
       "  <tbody>\n",
       "    <tr>\n",
       "      <th>0</th>\n",
       "      <td>F</td>\n",
       "      <td>18</td>\n",
       "      <td>GT3</td>\n",
       "      <td>A</td>\n",
       "      <td>2</td>\n",
       "      <td>2</td>\n",
       "      <td>yes</td>\n",
       "      <td>no</td>\n",
       "      <td>no</td>\n",
       "      <td>no</td>\n",
       "      <td>no</td>\n",
       "      <td>no</td>\n",
       "      <td>4</td>\n",
       "      <td>3</td>\n",
       "      <td>4</td>\n",
       "      <td>6</td>\n",
       "      <td>6</td>\n",
       "      <td>0</td>\n",
       "      <td>0</td>\n",
       "      <td>1</td>\n",
       "    </tr>\n",
       "    <tr>\n",
       "      <th>1</th>\n",
       "      <td>F</td>\n",
       "      <td>17</td>\n",
       "      <td>GT3</td>\n",
       "      <td>T</td>\n",
       "      <td>1</td>\n",
       "      <td>2</td>\n",
       "      <td>no</td>\n",
       "      <td>yes</td>\n",
       "      <td>no</td>\n",
       "      <td>no</td>\n",
       "      <td>yes</td>\n",
       "      <td>no</td>\n",
       "      <td>5</td>\n",
       "      <td>3</td>\n",
       "      <td>3</td>\n",
       "      <td>4</td>\n",
       "      <td>6</td>\n",
       "      <td>0</td>\n",
       "      <td>0</td>\n",
       "      <td>0</td>\n",
       "    </tr>\n",
       "    <tr>\n",
       "      <th>2</th>\n",
       "      <td>F</td>\n",
       "      <td>15</td>\n",
       "      <td>LE3</td>\n",
       "      <td>T</td>\n",
       "      <td>1</td>\n",
       "      <td>2</td>\n",
       "      <td>yes</td>\n",
       "      <td>no</td>\n",
       "      <td>yes</td>\n",
       "      <td>no</td>\n",
       "      <td>yes</td>\n",
       "      <td>no</td>\n",
       "      <td>4</td>\n",
       "      <td>3</td>\n",
       "      <td>2</td>\n",
       "      <td>10</td>\n",
       "      <td>10</td>\n",
       "      <td>0</td>\n",
       "      <td>1</td>\n",
       "      <td>0</td>\n",
       "    </tr>\n",
       "    <tr>\n",
       "      <th>3</th>\n",
       "      <td>F</td>\n",
       "      <td>15</td>\n",
       "      <td>GT3</td>\n",
       "      <td>T</td>\n",
       "      <td>1</td>\n",
       "      <td>3</td>\n",
       "      <td>no</td>\n",
       "      <td>yes</td>\n",
       "      <td>yes</td>\n",
       "      <td>yes</td>\n",
       "      <td>yes</td>\n",
       "      <td>yes</td>\n",
       "      <td>3</td>\n",
       "      <td>2</td>\n",
       "      <td>2</td>\n",
       "      <td>2</td>\n",
       "      <td>15</td>\n",
       "      <td>0</td>\n",
       "      <td>0</td>\n",
       "      <td>0</td>\n",
       "    </tr>\n",
       "    <tr>\n",
       "      <th>4</th>\n",
       "      <td>F</td>\n",
       "      <td>16</td>\n",
       "      <td>GT3</td>\n",
       "      <td>T</td>\n",
       "      <td>1</td>\n",
       "      <td>2</td>\n",
       "      <td>no</td>\n",
       "      <td>yes</td>\n",
       "      <td>yes</td>\n",
       "      <td>no</td>\n",
       "      <td>no</td>\n",
       "      <td>no</td>\n",
       "      <td>4</td>\n",
       "      <td>3</td>\n",
       "      <td>2</td>\n",
       "      <td>4</td>\n",
       "      <td>10</td>\n",
       "      <td>0</td>\n",
       "      <td>0</td>\n",
       "      <td>0</td>\n",
       "    </tr>\n",
       "  </tbody>\n",
       "</table>\n",
       "</div>"
      ],
      "text/plain": [
       "  sex  age famsize Pstatus  traveltime  studytime schoolsup famsup paid  \\\n",
       "0   F   18     GT3       A           2          2       yes     no   no   \n",
       "1   F   17     GT3       T           1          2        no    yes   no   \n",
       "2   F   15     LE3       T           1          2       yes     no  yes   \n",
       "3   F   15     GT3       T           1          3        no    yes  yes   \n",
       "4   F   16     GT3       T           1          2        no    yes  yes   \n",
       "\n",
       "  activities internet romantic  famrel  freetime  goout  absences  G3  \\\n",
       "0         no       no       no       4         3      4         6   6   \n",
       "1         no      yes       no       5         3      3         4   6   \n",
       "2         no      yes       no       4         3      2        10  10   \n",
       "3        yes      yes      yes       3         2      2         2  15   \n",
       "4         no       no       no       4         3      2         4  10   \n",
       "\n",
       "   sex_bin  famsize_bin  Pstatus_bin  \n",
       "0        0            0            1  \n",
       "1        0            0            0  \n",
       "2        0            1            0  \n",
       "3        0            0            0  \n",
       "4        0            0            0  "
      ]
     },
     "execution_count": 20,
     "metadata": {},
     "output_type": "execute_result"
    }
   ],
   "source": [
    "df.head()"
   ]
  },
  {
   "cell_type": "code",
   "execution_count": 21,
   "metadata": {},
   "outputs": [
    {
     "data": {
      "text/plain": [
       "0    0.8841\n",
       "1    0.1159\n",
       "Name: Pstatus_bin, dtype: float64"
      ]
     },
     "execution_count": 21,
     "metadata": {},
     "output_type": "execute_result"
    }
   ],
   "source": [
    "df.Pstatus_bin.value_counts()/df.shape[0]"
   ]
  },
  {
   "cell_type": "markdown",
   "metadata": {},
   "source": [
    "Notamos que aproximadamente 89% dos alunos moram com os pais.\n",
    "\n",
    "Apenas 11% moram sozinhos."
   ]
  },
  {
   "cell_type": "markdown",
   "metadata": {},
   "source": [
    "# 2.4) (schoolsup\tfamsup\tpaid\tactivities\tinternet\tromantic)\n",
    "\n",
    "Tais variáveis acimas por serem da mesma forma, com alternativas de \"yes\" ou \"no\" resolveremos de uma vez só.\n",
    "\n",
    "no:0\n",
    "\n",
    "yes:1"
   ]
  },
  {
   "cell_type": "code",
   "execution_count": 22,
   "metadata": {},
   "outputs": [],
   "source": [
    "def change_yn(x):\n",
    "    if x=='yes':\n",
    "        return 1\n",
    "    if x=='no':\n",
    "        return 0\n"
   ]
  },
  {
   "cell_type": "code",
   "execution_count": 23,
   "metadata": {},
   "outputs": [],
   "source": [
    "df['schoolsup_bin']=df.schoolsup.apply(lambda x: change_yn(x))\n",
    "df['famsup_bin']=df.famsup.apply(lambda x: change_yn(x))\n",
    "df['paid_bin']=df.paid.apply(lambda x: change_yn(x))\n",
    "df['activities_bin']=df.activities.apply(lambda x: change_yn(x))\n",
    "df['internet_bin']=df.internet.apply(lambda x: change_yn(x))\n",
    "df['romantic_bin']=df.romantic.apply(lambda x: change_yn(x))"
   ]
  },
  {
   "cell_type": "code",
   "execution_count": 24,
   "metadata": {},
   "outputs": [
    {
     "data": {
      "text/html": [
       "<div>\n",
       "<style scoped>\n",
       "    .dataframe tbody tr th:only-of-type {\n",
       "        vertical-align: middle;\n",
       "    }\n",
       "\n",
       "    .dataframe tbody tr th {\n",
       "        vertical-align: top;\n",
       "    }\n",
       "\n",
       "    .dataframe thead th {\n",
       "        text-align: right;\n",
       "    }\n",
       "</style>\n",
       "<table border=\"1\" class=\"dataframe\">\n",
       "  <thead>\n",
       "    <tr style=\"text-align: right;\">\n",
       "      <th></th>\n",
       "      <th>sex</th>\n",
       "      <th>age</th>\n",
       "      <th>famsize</th>\n",
       "      <th>Pstatus</th>\n",
       "      <th>traveltime</th>\n",
       "      <th>studytime</th>\n",
       "      <th>schoolsup</th>\n",
       "      <th>famsup</th>\n",
       "      <th>paid</th>\n",
       "      <th>activities</th>\n",
       "      <th>...</th>\n",
       "      <th>G3</th>\n",
       "      <th>sex_bin</th>\n",
       "      <th>famsize_bin</th>\n",
       "      <th>Pstatus_bin</th>\n",
       "      <th>schoolsup_bin</th>\n",
       "      <th>famsup_bin</th>\n",
       "      <th>paid_bin</th>\n",
       "      <th>activities_bin</th>\n",
       "      <th>internet_bin</th>\n",
       "      <th>romantic_bin</th>\n",
       "    </tr>\n",
       "  </thead>\n",
       "  <tbody>\n",
       "    <tr>\n",
       "      <th>0</th>\n",
       "      <td>F</td>\n",
       "      <td>18</td>\n",
       "      <td>GT3</td>\n",
       "      <td>A</td>\n",
       "      <td>2</td>\n",
       "      <td>2</td>\n",
       "      <td>yes</td>\n",
       "      <td>no</td>\n",
       "      <td>no</td>\n",
       "      <td>no</td>\n",
       "      <td>...</td>\n",
       "      <td>6</td>\n",
       "      <td>0</td>\n",
       "      <td>0</td>\n",
       "      <td>1</td>\n",
       "      <td>1</td>\n",
       "      <td>0</td>\n",
       "      <td>0</td>\n",
       "      <td>0</td>\n",
       "      <td>0</td>\n",
       "      <td>0</td>\n",
       "    </tr>\n",
       "    <tr>\n",
       "      <th>1</th>\n",
       "      <td>F</td>\n",
       "      <td>17</td>\n",
       "      <td>GT3</td>\n",
       "      <td>T</td>\n",
       "      <td>1</td>\n",
       "      <td>2</td>\n",
       "      <td>no</td>\n",
       "      <td>yes</td>\n",
       "      <td>no</td>\n",
       "      <td>no</td>\n",
       "      <td>...</td>\n",
       "      <td>6</td>\n",
       "      <td>0</td>\n",
       "      <td>0</td>\n",
       "      <td>0</td>\n",
       "      <td>0</td>\n",
       "      <td>1</td>\n",
       "      <td>0</td>\n",
       "      <td>0</td>\n",
       "      <td>1</td>\n",
       "      <td>0</td>\n",
       "    </tr>\n",
       "    <tr>\n",
       "      <th>2</th>\n",
       "      <td>F</td>\n",
       "      <td>15</td>\n",
       "      <td>LE3</td>\n",
       "      <td>T</td>\n",
       "      <td>1</td>\n",
       "      <td>2</td>\n",
       "      <td>yes</td>\n",
       "      <td>no</td>\n",
       "      <td>yes</td>\n",
       "      <td>no</td>\n",
       "      <td>...</td>\n",
       "      <td>10</td>\n",
       "      <td>0</td>\n",
       "      <td>1</td>\n",
       "      <td>0</td>\n",
       "      <td>1</td>\n",
       "      <td>0</td>\n",
       "      <td>1</td>\n",
       "      <td>0</td>\n",
       "      <td>1</td>\n",
       "      <td>0</td>\n",
       "    </tr>\n",
       "    <tr>\n",
       "      <th>3</th>\n",
       "      <td>F</td>\n",
       "      <td>15</td>\n",
       "      <td>GT3</td>\n",
       "      <td>T</td>\n",
       "      <td>1</td>\n",
       "      <td>3</td>\n",
       "      <td>no</td>\n",
       "      <td>yes</td>\n",
       "      <td>yes</td>\n",
       "      <td>yes</td>\n",
       "      <td>...</td>\n",
       "      <td>15</td>\n",
       "      <td>0</td>\n",
       "      <td>0</td>\n",
       "      <td>0</td>\n",
       "      <td>0</td>\n",
       "      <td>1</td>\n",
       "      <td>1</td>\n",
       "      <td>1</td>\n",
       "      <td>1</td>\n",
       "      <td>1</td>\n",
       "    </tr>\n",
       "    <tr>\n",
       "      <th>4</th>\n",
       "      <td>F</td>\n",
       "      <td>16</td>\n",
       "      <td>GT3</td>\n",
       "      <td>T</td>\n",
       "      <td>1</td>\n",
       "      <td>2</td>\n",
       "      <td>no</td>\n",
       "      <td>yes</td>\n",
       "      <td>yes</td>\n",
       "      <td>no</td>\n",
       "      <td>...</td>\n",
       "      <td>10</td>\n",
       "      <td>0</td>\n",
       "      <td>0</td>\n",
       "      <td>0</td>\n",
       "      <td>0</td>\n",
       "      <td>1</td>\n",
       "      <td>1</td>\n",
       "      <td>0</td>\n",
       "      <td>0</td>\n",
       "      <td>0</td>\n",
       "    </tr>\n",
       "  </tbody>\n",
       "</table>\n",
       "<p>5 rows × 26 columns</p>\n",
       "</div>"
      ],
      "text/plain": [
       "  sex  age famsize Pstatus  traveltime  studytime schoolsup famsup paid  \\\n",
       "0   F   18     GT3       A           2          2       yes     no   no   \n",
       "1   F   17     GT3       T           1          2        no    yes   no   \n",
       "2   F   15     LE3       T           1          2       yes     no  yes   \n",
       "3   F   15     GT3       T           1          3        no    yes  yes   \n",
       "4   F   16     GT3       T           1          2        no    yes  yes   \n",
       "\n",
       "  activities  ...  G3 sex_bin  famsize_bin  Pstatus_bin  schoolsup_bin  \\\n",
       "0         no  ...   6       0            0            1              1   \n",
       "1         no  ...   6       0            0            0              0   \n",
       "2         no  ...  10       0            1            0              1   \n",
       "3        yes  ...  15       0            0            0              0   \n",
       "4         no  ...  10       0            0            0              0   \n",
       "\n",
       "   famsup_bin  paid_bin  activities_bin  internet_bin  romantic_bin  \n",
       "0           0         0               0             0             0  \n",
       "1           1         0               0             1             0  \n",
       "2           0         1               0             1             0  \n",
       "3           1         1               1             1             1  \n",
       "4           1         1               0             0             0  \n",
       "\n",
       "[5 rows x 26 columns]"
      ]
     },
     "execution_count": 24,
     "metadata": {},
     "output_type": "execute_result"
    }
   ],
   "source": [
    "df.head()"
   ]
  },
  {
   "cell_type": "code",
   "execution_count": 25,
   "metadata": {},
   "outputs": [
    {
     "data": {
      "text/plain": [
       "0    0.886015\n",
       "1    0.113985\n",
       "Name: schoolsup_bin, dtype: float64"
      ]
     },
     "execution_count": 25,
     "metadata": {},
     "output_type": "execute_result"
    }
   ],
   "source": [
    "df.schoolsup_bin.value_counts()/df.shape[0]"
   ]
  },
  {
   "cell_type": "markdown",
   "metadata": {},
   "source": [
    "A variável schoolsup nos indica se o aluno possui ou não suporte extra escolar.\n",
    "\n",
    "Apenas 11% dos alunos possui um suporte extra escolar."
   ]
  },
  {
   "cell_type": "code",
   "execution_count": 26,
   "metadata": {},
   "outputs": [
    {
     "data": {
      "text/plain": [
       "1    0.613027\n",
       "0    0.386973\n",
       "Name: famsup_bin, dtype: float64"
      ]
     },
     "execution_count": 26,
     "metadata": {},
     "output_type": "execute_result"
    }
   ],
   "source": [
    "df.famsup_bin.value_counts()/df.shape[0]"
   ]
  },
  {
   "cell_type": "markdown",
   "metadata": {},
   "source": [
    "A variável famsup nos indica se o aluno possui ou não suporte educacional da família.\n",
    "\n",
    "38% dos alunos apresentam possuir um suporte educacional da família."
   ]
  },
  {
   "cell_type": "code",
   "execution_count": 27,
   "metadata": {},
   "outputs": [
    {
     "data": {
      "text/plain": [
       "0    0.789272\n",
       "1    0.210728\n",
       "Name: paid_bin, dtype: float64"
      ]
     },
     "execution_count": 27,
     "metadata": {},
     "output_type": "execute_result"
    }
   ],
   "source": [
    "df.paid_bin.value_counts()/df.shape[0]"
   ]
  },
  {
   "cell_type": "markdown",
   "metadata": {},
   "source": [
    "a variável paid nos mostra se o aluno pagou ou não aulas particulares por fora.\n",
    "\n",
    "21% dos alunos disseram que já pagaram aulas particulares por fora."
   ]
  },
  {
   "cell_type": "code",
   "execution_count": 28,
   "metadata": {},
   "outputs": [
    {
     "data": {
      "text/plain": [
       "0    0.505747\n",
       "1    0.494253\n",
       "Name: activities_bin, dtype: float64"
      ]
     },
     "execution_count": 28,
     "metadata": {},
     "output_type": "execute_result"
    }
   ],
   "source": [
    "df.activities_bin.value_counts()/df.shape[0]"
   ]
  },
  {
   "cell_type": "markdown",
   "metadata": {},
   "source": [
    "A variável activities demonstra se o aluno participa ou não de atividades extracurriculares.\n",
    "\n",
    "Nota-se que 49% dos alunos participam de atividades extracurriculares.\n"
   ]
  },
  {
   "cell_type": "code",
   "execution_count": 29,
   "metadata": {},
   "outputs": [
    {
     "data": {
      "text/plain": [
       "1    0.792146\n",
       "0    0.207854\n",
       "Name: internet_bin, dtype: float64"
      ]
     },
     "execution_count": 29,
     "metadata": {},
     "output_type": "execute_result"
    }
   ],
   "source": [
    "df.internet_bin.value_counts()/df.shape[0]"
   ]
  },
  {
   "cell_type": "markdown",
   "metadata": {},
   "source": [
    "a variável internet nos mostra se o aluno possui ou não acesso a internet em casa.\n",
    "\n",
    "20% dos alunos declararam não possuir acesso a internet em casa."
   ]
  },
  {
   "cell_type": "code",
   "execution_count": 30,
   "metadata": {},
   "outputs": [
    {
     "data": {
      "text/plain": [
       "0    0.644636\n",
       "1    0.355364\n",
       "Name: romantic_bin, dtype: float64"
      ]
     },
     "execution_count": 30,
     "metadata": {},
     "output_type": "execute_result"
    }
   ],
   "source": [
    "df.romantic_bin.value_counts()/df.shape[0]"
   ]
  },
  {
   "cell_type": "markdown",
   "metadata": {},
   "source": [
    "A variável romantic nos indica se o aluno está ou não num relacionamento.\n",
    "\n",
    "35% dos alunos estão num relacionamento."
   ]
  },
  {
   "cell_type": "markdown",
   "metadata": {},
   "source": [
    "# 3.0) Correlações.\n",
    "\n",
    "Faremos agora uma nova checagem da correlação  entre as variáveis preditoras e a nossa variável target (G3)."
   ]
  },
  {
   "cell_type": "code",
   "execution_count": 31,
   "metadata": {},
   "outputs": [
    {
     "name": "stdout",
     "output_type": "stream",
     "text": [
      "Correlação da variável age com a Média final. -0.1253\n",
      "Correlação da variável traveltime com a Média final. -0.1026\n",
      "Correlação da variável studytime com a Média final. 0.1616\n",
      "Correlação da variável famrel com a Média final. 0.0545\n",
      "Correlação da variável freetime com a Média final. -0.0649\n",
      "Correlação da variável goout com a Média final. -0.0979\n",
      "Correlação da variável absences com a Média final. -0.0457\n",
      "Correlação da variável G3 com a Média final. 1.0\n",
      "Correlação da variável sex_bin com a Média final. -0.0315\n",
      "Correlação da variável famsize_bin com a Média final. 0.0612\n",
      "Correlação da variável Pstatus_bin com a Média final. 0.0307\n",
      "Correlação da variável schoolsup_bin com a Média final. -0.0793\n",
      "Correlação da variável famsup_bin com a Média final. 0.0133\n",
      "Correlação da variável paid_bin com a Média final. -0.0494\n",
      "Correlação da variável activities_bin com a Média final. 0.034\n",
      "Correlação da variável internet_bin com a Média final. 0.1071\n",
      "Correlação da variável romantic_bin com a Média final. -0.0984\n"
     ]
    }
   ],
   "source": [
    "for x in df.describe().columns:\n",
    "    print('Correlação da variável %s com a Média final.'%x,round(df['%s'%x].corr(df.G3),4))"
   ]
  },
  {
   "cell_type": "markdown",
   "metadata": {},
   "source": [
    "Vemos que as melhores variáveis para se usar como preditoras por possuir melhores correlações são:\n",
    "\n",
    "studytime, age, traveltime, internet_bin e romantic_bin.\n",
    "\n",
    "as usaremos como preditoras."
   ]
  },
  {
   "cell_type": "markdown",
   "metadata": {},
   "source": [
    "# 4.0) Regressão.\n",
    "\n",
    "De posse das variáveis preditoras anteriormente citadas studytime, age, traveltime, internet_bin e romantic_bin.\n",
    "\n",
    "Faremos a previsão da variável target (G3) para prever a média final do aluno.\n",
    "\n",
    "Mas antes teremos que efetuar a separação dos dados. Por ser um dataframe com dimensões pequenas e poucos dados faremos a separação da forma:\n",
    "\n",
    "75%: Treino\n",
    "\n",
    "25:Teste\n",
    "\n",
    "não usaremos a validação pois possuimos poucos dados."
   ]
  },
  {
   "cell_type": "markdown",
   "metadata": {},
   "source": [
    "# 4.1) Divisão do dataframe."
   ]
  },
  {
   "cell_type": "code",
   "execution_count": 32,
   "metadata": {},
   "outputs": [],
   "source": [
    "df_train=df[0:int(df.shape[0]*0.75)]\n",
    "df_test=df[int(df.shape[0]*0.75):df.shape[0]]"
   ]
  },
  {
   "cell_type": "code",
   "execution_count": 33,
   "metadata": {},
   "outputs": [
    {
     "data": {
      "text/plain": [
       "(783, 26)"
      ]
     },
     "execution_count": 33,
     "metadata": {},
     "output_type": "execute_result"
    }
   ],
   "source": [
    "df_train.shape"
   ]
  },
  {
   "cell_type": "code",
   "execution_count": 34,
   "metadata": {},
   "outputs": [
    {
     "data": {
      "text/plain": [
       "(261, 26)"
      ]
     },
     "execution_count": 34,
     "metadata": {},
     "output_type": "execute_result"
    }
   ],
   "source": [
    "df_test.shape"
   ]
  },
  {
   "cell_type": "markdown",
   "metadata": {},
   "source": [
    "# 4.2) Métricas de desempenho.\n",
    "\n",
    "Criaremos a função RMSE() a fim de conseguir medir o desempenho de cada modelo.\n"
   ]
  },
  {
   "cell_type": "code",
   "execution_count": 35,
   "metadata": {},
   "outputs": [],
   "source": [
    "def RMSE(y,y_pred):\n",
    "    MSE=(y-y_pred)**2\n",
    "    return np.mean((MSE)**0.5)"
   ]
  },
  {
   "cell_type": "markdown",
   "metadata": {},
   "source": [
    "# 4.3 Comparando os modelos com base na regressão linear."
   ]
  },
  {
   "cell_type": "code",
   "execution_count": 36,
   "metadata": {},
   "outputs": [],
   "source": [
    "from sklearn.linear_model import LinearRegression"
   ]
  },
  {
   "cell_type": "code",
   "execution_count": 37,
   "metadata": {},
   "outputs": [],
   "source": [
    "lr=LinearRegression()"
   ]
  },
  {
   "cell_type": "code",
   "execution_count": 38,
   "metadata": {},
   "outputs": [],
   "source": [
    "x_train1=df_train['studytime'].values.reshape(-1,1)\n",
    "x_train2=df_train['age'].values.reshape(-1,1)\n",
    "x_train3=df_train['traveltime'].values.reshape(-1,1)\n",
    "x_train4=df_train['internet_bin'].values.reshape(-1,1)\n",
    "x_train5=df_train['romantic_bin'].values.reshape(-1,1)\n",
    "\n",
    "\n",
    "\n",
    "y_target1=df_train['G3']"
   ]
  },
  {
   "cell_type": "code",
   "execution_count": 39,
   "metadata": {},
   "outputs": [
    {
     "data": {
      "text/plain": [
       "LinearRegression()"
      ]
     },
     "execution_count": 39,
     "metadata": {},
     "output_type": "execute_result"
    }
   ],
   "source": [
    "lr.fit(x_train1,y_target1)"
   ]
  },
  {
   "cell_type": "code",
   "execution_count": 40,
   "metadata": {},
   "outputs": [],
   "source": [
    "y_pred1=lr.predict(x_train1)"
   ]
  },
  {
   "cell_type": "code",
   "execution_count": 41,
   "metadata": {},
   "outputs": [
    {
     "data": {
      "text/plain": [
       "LinearRegression()"
      ]
     },
     "execution_count": 41,
     "metadata": {},
     "output_type": "execute_result"
    }
   ],
   "source": [
    "lr.fit(x_train2,y_target1)"
   ]
  },
  {
   "cell_type": "code",
   "execution_count": 42,
   "metadata": {},
   "outputs": [],
   "source": [
    "y_pred2=lr.predict(x_train2)"
   ]
  },
  {
   "cell_type": "code",
   "execution_count": 43,
   "metadata": {},
   "outputs": [
    {
     "data": {
      "text/plain": [
       "LinearRegression()"
      ]
     },
     "execution_count": 43,
     "metadata": {},
     "output_type": "execute_result"
    }
   ],
   "source": [
    "lr.fit(x_train3,y_target1)"
   ]
  },
  {
   "cell_type": "code",
   "execution_count": 44,
   "metadata": {},
   "outputs": [],
   "source": [
    "y_pred3=lr.predict(x_train3)"
   ]
  },
  {
   "cell_type": "code",
   "execution_count": 45,
   "metadata": {},
   "outputs": [
    {
     "data": {
      "text/plain": [
       "LinearRegression()"
      ]
     },
     "execution_count": 45,
     "metadata": {},
     "output_type": "execute_result"
    }
   ],
   "source": [
    "lr.fit(x_train4,y_target1)"
   ]
  },
  {
   "cell_type": "code",
   "execution_count": 46,
   "metadata": {},
   "outputs": [],
   "source": [
    "y_pred4=lr.predict(x_train4)"
   ]
  },
  {
   "cell_type": "code",
   "execution_count": 47,
   "metadata": {},
   "outputs": [
    {
     "data": {
      "text/plain": [
       "LinearRegression()"
      ]
     },
     "execution_count": 47,
     "metadata": {},
     "output_type": "execute_result"
    }
   ],
   "source": [
    "lr.fit(x_train5,y_target1)"
   ]
  },
  {
   "cell_type": "code",
   "execution_count": 48,
   "metadata": {},
   "outputs": [],
   "source": [
    "y_pred5=lr.predict(x_train5)"
   ]
  },
  {
   "cell_type": "code",
   "execution_count": 49,
   "metadata": {},
   "outputs": [
    {
     "data": {
      "image/png": "[encoded data removed]",
      "text/plain": [
       "<Figure size 1080x360 with 5 Axes>"
      ]
     },
     "metadata": {
      "needs_background": "light"
     },
     "output_type": "display_data"
    }
   ],
   "source": [
    "fig=plt.figure(figsize=[15,5])\n",
    "plt.subplots_adjust(wspace=1)\n",
    "\n",
    "plt.subplot(1,5,1)\n",
    "plt.grid(True)\n",
    "plt.scatter(df_train['studytime'],y_target1)\n",
    "plt.title('RMSE: %s'%round(RMSE(y=y_target1,y_pred=y_pred1),3))\n",
    "plt.plot(x_train1,y_pred1)\n",
    "plt.ylabel('G3',fontweight='bold',fontsize=15)\n",
    "plt.xlabel('studytime',fontweight='bold',fontsize=15)\n",
    "\n",
    "\n",
    "plt.subplot(1,5,2)\n",
    "plt.grid(True)\n",
    "\n",
    "plt.scatter(df_train['age'],y_target1)\n",
    "plt.title('RMSE: %s'%round(RMSE(y=y_target1,y_pred=y_pred2),3))\n",
    "plt.plot(x_train2,y_pred2)\n",
    "plt.ylabel('G3',fontweight='bold',fontsize=15)\n",
    "plt.xlabel('age',fontweight='bold',fontsize=15)\n",
    "\n",
    "\n",
    "plt.subplot(1,5,3)\n",
    "plt.grid(True)\n",
    "\n",
    "plt.scatter(x_train3,y_target1)\n",
    "plt.title('RMSE: %s'%round(RMSE(y=y_target1,y_pred=y_pred3),3))\n",
    "plt.plot(x_train3,y_pred3)\n",
    "plt.ylabel('G3',fontweight='bold',fontsize=15)\n",
    "plt.xlabel('traveltime',fontweight='bold',fontsize=15)\n",
    "\n",
    "plt.subplot(1,5,4)\n",
    "plt.grid(True)\n",
    "\n",
    "plt.scatter(x_train4,y_target1)\n",
    "plt.title('RMSE: %s'%round(RMSE(y=y_target1,y_pred=y_pred4),3))\n",
    "plt.plot(x_train4,y_pred4)\n",
    "plt.ylabel('G3',fontweight='bold',fontsize=15)\n",
    "plt.xlabel('internet_bin',fontweight='bold',fontsize=15)\n",
    "\n",
    "\n",
    "plt.subplot(1,5,5)\n",
    "plt.grid(True)\n",
    "\n",
    "plt.scatter(x_train5,y_target1)\n",
    "plt.title('RMSE: %s'%round(RMSE(y=y_target1,y_pred=y_pred5),3))\n",
    "plt.plot(x_train5,y_pred5)\n",
    "plt.ylabel('G3',fontweight='bold',fontsize=15)\n",
    "plt.xlabel('romantic_bin',fontweight='bold',fontsize=15)\n",
    "\n",
    "plt.show()"
   ]
  },
  {
   "cell_type": "markdown",
   "metadata": {},
   "source": [
    "# 4.4) Teste!\n",
    "\n",
    "Agora que os modelos já foram treinados e além disso, possuiram métricas muito semelhantes umas das outras, daremos continuidade ao processo de teste com todos os modelos e checar quais são aqueles que estão fittando.\n",
    "\n",
    "De imediato notamos que a variável studytime é a que consegue prever com maior eficiência, mas até o momento é só uma hipótese."
   ]
  },
  {
   "cell_type": "code",
   "execution_count": 50,
   "metadata": {},
   "outputs": [],
   "source": [
    "x_test1=df_test['studytime'].values.reshape(-1,1)\n",
    "x_test2=df_test['age'].values.reshape(-1,1)\n",
    "x_test3=df_test['traveltime'].values.reshape(-1,1)\n",
    "x_test4=df_test['internet_bin'].values.reshape(-1,1)\n",
    "x_test5=df_test['romantic_bin'].values.reshape(-1,1)\n",
    "\n",
    "\n",
    "\n",
    "y_target2=df_test['G3']"
   ]
  },
  {
   "cell_type": "code",
   "execution_count": 51,
   "metadata": {},
   "outputs": [
    {
     "data": {
      "text/plain": [
       "LinearRegression()"
      ]
     },
     "execution_count": 51,
     "metadata": {},
     "output_type": "execute_result"
    }
   ],
   "source": [
    "lr.fit(x_test1,y_target2)"
   ]
  },
  {
   "cell_type": "code",
   "execution_count": 52,
   "metadata": {},
   "outputs": [],
   "source": [
    "y_predtest1=lr.predict(x_test1)"
   ]
  },
  {
   "cell_type": "code",
   "execution_count": 53,
   "metadata": {},
   "outputs": [
    {
     "data": {
      "text/plain": [
       "LinearRegression()"
      ]
     },
     "execution_count": 53,
     "metadata": {},
     "output_type": "execute_result"
    }
   ],
   "source": [
    "lr.fit(x_test2,y_target2)"
   ]
  },
  {
   "cell_type": "code",
   "execution_count": 54,
   "metadata": {},
   "outputs": [],
   "source": [
    "y_predtest2=lr.predict(x_test2)"
   ]
  },
  {
   "cell_type": "code",
   "execution_count": 55,
   "metadata": {},
   "outputs": [
    {
     "data": {
      "text/plain": [
       "LinearRegression()"
      ]
     },
     "execution_count": 55,
     "metadata": {},
     "output_type": "execute_result"
    }
   ],
   "source": [
    "lr.fit(x_test2,y_target2)"
   ]
  },
  {
   "cell_type": "code",
   "execution_count": 56,
   "metadata": {},
   "outputs": [
    {
     "data": {
      "text/plain": [
       "LinearRegression()"
      ]
     },
     "execution_count": 56,
     "metadata": {},
     "output_type": "execute_result"
    }
   ],
   "source": [
    "lr.fit(x_test3,y_target2)"
   ]
  },
  {
   "cell_type": "code",
   "execution_count": 57,
   "metadata": {},
   "outputs": [],
   "source": [
    "y_predtest3=lr.predict(x_test3)"
   ]
  },
  {
   "cell_type": "code",
   "execution_count": 58,
   "metadata": {},
   "outputs": [
    {
     "data": {
      "text/plain": [
       "LinearRegression()"
      ]
     },
     "execution_count": 58,
     "metadata": {},
     "output_type": "execute_result"
    }
   ],
   "source": [
    "lr.fit(x_test4,y_target2)"
   ]
  },
  {
   "cell_type": "code",
   "execution_count": 59,
   "metadata": {},
   "outputs": [],
   "source": [
    "y_predtest4=lr.predict(x_test4)"
   ]
  },
  {
   "cell_type": "code",
   "execution_count": 60,
   "metadata": {},
   "outputs": [
    {
     "data": {
      "text/plain": [
       "LinearRegression()"
      ]
     },
     "execution_count": 60,
     "metadata": {},
     "output_type": "execute_result"
    }
   ],
   "source": [
    "lr.fit(x_test5,y_target2)"
   ]
  },
  {
   "cell_type": "code",
   "execution_count": 61,
   "metadata": {},
   "outputs": [],
   "source": [
    "y_predtest5=lr.predict(x_test5)"
   ]
  },
  {
   "cell_type": "code",
   "execution_count": 62,
   "metadata": {},
   "outputs": [
    {
     "data": {
      "image/png": "[encoded data removed]",
      "text/plain": [
       "<Figure size 1080x360 with 5 Axes>"
      ]
     },
     "metadata": {
      "needs_background": "light"
     },
     "output_type": "display_data"
    }
   ],
   "source": [
    "fig=plt.figure(figsize=[15,5])\n",
    "plt.subplots_adjust(wspace=1)\n",
    "\n",
    "plt.subplot(1,5,1)\n",
    "plt.grid(True)\n",
    "plt.scatter(df_test['studytime'],y_target2)\n",
    "plt.title('RMSE: %s'%round(RMSE(y=y_target2,y_pred=y_predtest1),3))\n",
    "plt.plot(x_test1,y_predtest1)\n",
    "plt.ylabel('G3',fontweight='bold',fontsize=15)\n",
    "plt.xlabel('studytime',fontweight='bold',fontsize=15)\n",
    "\n",
    "\n",
    "plt.subplot(1,5,2)\n",
    "plt.grid(True)\n",
    "\n",
    "plt.scatter(df_test['age'],y_target2)\n",
    "plt.title('RMSE: %s'%round(RMSE(y=y_target2,y_pred=y_predtest2),3))\n",
    "plt.plot(x_test2,y_predtest2)\n",
    "plt.ylabel('G3',fontweight='bold',fontsize=15)\n",
    "plt.xlabel('age',fontweight='bold',fontsize=15)\n",
    "\n",
    "\n",
    "plt.subplot(1,5,3)\n",
    "plt.grid(True)\n",
    "\n",
    "plt.scatter(x_test3,y_target2)\n",
    "plt.title('RMSE: %s'%round(RMSE(y=y_target2,y_pred=y_predtest3),3))\n",
    "plt.plot(x_test3,y_predtest3)\n",
    "plt.ylabel('G3',fontweight='bold',fontsize=15)\n",
    "plt.xlabel('traveltime',fontweight='bold',fontsize=15)\n",
    "\n",
    "plt.subplot(1,5,4)\n",
    "plt.grid(True)\n",
    "\n",
    "plt.scatter(x_test4,y_target2)\n",
    "plt.title('RMSE: %s'%round(RMSE(y=y_target2,y_pred=y_predtest4),3))\n",
    "plt.plot(x_test4,y_predtest4)\n",
    "plt.ylabel('G3',fontweight='bold',fontsize=15)\n",
    "plt.xlabel('internet_bin',fontweight='bold',fontsize=15)\n",
    "\n",
    "\n",
    "plt.subplot(1,5,5)\n",
    "plt.grid(True)\n",
    "\n",
    "plt.scatter(x_test5,y_target2)\n",
    "plt.title('RMSE: %s'%round(RMSE(y=y_target2,y_pred=y_predtest5),3))\n",
    "plt.plot(x_test5,y_predtest5)\n",
    "plt.ylabel('G3',fontweight='bold',fontsize=15)\n",
    "plt.xlabel('romantic_bin',fontweight='bold',fontsize=15)\n",
    "\n",
    "plt.show()"
   ]
  },
  {
   "cell_type": "markdown",
   "metadata": {},
   "source": [
    "De fato a variável studytime foi a melhor variável preditora, visto isso daremos continuidade gerando um dataframe para comparar o resultado previsto do real."
   ]
  },
  {
   "cell_type": "markdown",
   "metadata": {},
   "source": [
    "# 4.5 ) Visualizando o resultado."
   ]
  },
  {
   "cell_type": "code",
   "execution_count": 63,
   "metadata": {},
   "outputs": [],
   "source": [
    "df_resultado1=pd.DataFrame({'G3_real':df_test['G3'],\"G3_previsto\":y_predtest1})"
   ]
  },
  {
   "cell_type": "code",
   "execution_count": 64,
   "metadata": {},
   "outputs": [
    {
     "data": {
      "text/html": [
       "<div>\n",
       "<style scoped>\n",
       "    .dataframe tbody tr th:only-of-type {\n",
       "        vertical-align: middle;\n",
       "    }\n",
       "\n",
       "    .dataframe tbody tr th {\n",
       "        vertical-align: top;\n",
       "    }\n",
       "\n",
       "    .dataframe thead th {\n",
       "        text-align: right;\n",
       "    }\n",
       "</style>\n",
       "<table border=\"1\" class=\"dataframe\">\n",
       "  <thead>\n",
       "    <tr style=\"text-align: right;\">\n",
       "      <th></th>\n",
       "      <th>G3_real</th>\n",
       "      <th>G3_previsto</th>\n",
       "    </tr>\n",
       "  </thead>\n",
       "  <tbody>\n",
       "    <tr>\n",
       "      <th>793</th>\n",
       "      <td>14</td>\n",
       "      <td>12.490987</td>\n",
       "    </tr>\n",
       "    <tr>\n",
       "      <th>794</th>\n",
       "      <td>17</td>\n",
       "      <td>12.490987</td>\n",
       "    </tr>\n",
       "    <tr>\n",
       "      <th>795</th>\n",
       "      <td>17</td>\n",
       "      <td>12.490987</td>\n",
       "    </tr>\n",
       "    <tr>\n",
       "      <th>796</th>\n",
       "      <td>14</td>\n",
       "      <td>12.490987</td>\n",
       "    </tr>\n",
       "    <tr>\n",
       "      <th>797</th>\n",
       "      <td>13</td>\n",
       "      <td>12.490987</td>\n",
       "    </tr>\n",
       "    <tr>\n",
       "      <th>798</th>\n",
       "      <td>15</td>\n",
       "      <td>11.316159</td>\n",
       "    </tr>\n",
       "    <tr>\n",
       "      <th>799</th>\n",
       "      <td>16</td>\n",
       "      <td>11.316159</td>\n",
       "    </tr>\n",
       "    <tr>\n",
       "      <th>800</th>\n",
       "      <td>11</td>\n",
       "      <td>10.141332</td>\n",
       "    </tr>\n",
       "    <tr>\n",
       "      <th>801</th>\n",
       "      <td>13</td>\n",
       "      <td>10.141332</td>\n",
       "    </tr>\n",
       "    <tr>\n",
       "      <th>802</th>\n",
       "      <td>12</td>\n",
       "      <td>12.490987</td>\n",
       "    </tr>\n",
       "    <tr>\n",
       "      <th>803</th>\n",
       "      <td>12</td>\n",
       "      <td>11.316159</td>\n",
       "    </tr>\n",
       "    <tr>\n",
       "      <th>804</th>\n",
       "      <td>15</td>\n",
       "      <td>11.316159</td>\n",
       "    </tr>\n",
       "    <tr>\n",
       "      <th>805</th>\n",
       "      <td>17</td>\n",
       "      <td>11.316159</td>\n",
       "    </tr>\n",
       "    <tr>\n",
       "      <th>806</th>\n",
       "      <td>15</td>\n",
       "      <td>12.490987</td>\n",
       "    </tr>\n",
       "    <tr>\n",
       "      <th>807</th>\n",
       "      <td>17</td>\n",
       "      <td>11.316159</td>\n",
       "    </tr>\n",
       "    <tr>\n",
       "      <th>808</th>\n",
       "      <td>10</td>\n",
       "      <td>11.316159</td>\n",
       "    </tr>\n",
       "    <tr>\n",
       "      <th>809</th>\n",
       "      <td>15</td>\n",
       "      <td>12.490987</td>\n",
       "    </tr>\n",
       "    <tr>\n",
       "      <th>810</th>\n",
       "      <td>11</td>\n",
       "      <td>10.141332</td>\n",
       "    </tr>\n",
       "    <tr>\n",
       "      <th>811</th>\n",
       "      <td>18</td>\n",
       "      <td>11.316159</td>\n",
       "    </tr>\n",
       "    <tr>\n",
       "      <th>812</th>\n",
       "      <td>17</td>\n",
       "      <td>12.490987</td>\n",
       "    </tr>\n",
       "  </tbody>\n",
       "</table>\n",
       "</div>"
      ],
      "text/plain": [
       "     G3_real  G3_previsto\n",
       "793       14    12.490987\n",
       "794       17    12.490987\n",
       "795       17    12.490987\n",
       "796       14    12.490987\n",
       "797       13    12.490987\n",
       "798       15    11.316159\n",
       "799       16    11.316159\n",
       "800       11    10.141332\n",
       "801       13    10.141332\n",
       "802       12    12.490987\n",
       "803       12    11.316159\n",
       "804       15    11.316159\n",
       "805       17    11.316159\n",
       "806       15    12.490987\n",
       "807       17    11.316159\n",
       "808       10    11.316159\n",
       "809       15    12.490987\n",
       "810       11    10.141332\n",
       "811       18    11.316159\n",
       "812       17    12.490987"
      ]
     },
     "execution_count": 64,
     "metadata": {},
     "output_type": "execute_result"
    }
   ],
   "source": [
    "df_resultado1[10:30]"
   ]
  },
  {
   "cell_type": "markdown",
   "metadata": {},
   "source": [
    "Por mais que o modelo tenha apresentado um RMSE, notamos que tem muitas variáveis preenchidas com valores parecidos, isto deriva do fato de provavelmente nosso modelo com base na regressão linear estar **overfittando**.\n",
    "\n",
    "A hipótese é de que o modelo \"Decorou\" algum ruído no nosso dataframe e está aplicando isto nas previsões.\n",
    "\n",
    "Imagino que ao prevermos através do modelo de **KNN** este problema seja resolvido, visto que terão mais variáveis para ser analisadas, evitando a possibilidade de se aprender algum ruído."
   ]
  },
  {
   "cell_type": "markdown",
   "metadata": {},
   "source": [
    "# 5.0 )KNN \n",
    "\n",
    "Faremos agora uma previsão baseada no modelo KNN, acreditando este ser mais eficiente por possuir menores possibílidades de ruidos.\n"
   ]
  },
  {
   "cell_type": "code",
   "execution_count": 65,
   "metadata": {},
   "outputs": [],
   "source": [
    "from sklearn.neighbors import KNeighborsRegressor"
   ]
  },
  {
   "cell_type": "code",
   "execution_count": 66,
   "metadata": {},
   "outputs": [],
   "source": [
    "x_traink1=df_train[['studytime','age','traveltime','romantic_bin','internet_bin']]\n",
    "y_targetk1=df_train[['G3']]"
   ]
  },
  {
   "cell_type": "code",
   "execution_count": 67,
   "metadata": {},
   "outputs": [
    {
     "data": {
      "text/plain": [
       "(783, 5)"
      ]
     },
     "execution_count": 67,
     "metadata": {},
     "output_type": "execute_result"
    }
   ],
   "source": [
    "x_traink1.shape"
   ]
  },
  {
   "cell_type": "code",
   "execution_count": 68,
   "metadata": {},
   "outputs": [
    {
     "data": {
      "text/plain": [
       "(783, 1)"
      ]
     },
     "execution_count": 68,
     "metadata": {},
     "output_type": "execute_result"
    }
   ],
   "source": [
    "y_targetk1.shape"
   ]
  },
  {
   "cell_type": "code",
   "execution_count": 69,
   "metadata": {},
   "outputs": [
    {
     "name": "stdout",
     "output_type": "stream",
     "text": [
      "o RMSE para 1 vizinhos é G3    3.63857\n",
      "dtype: float64\n",
      "o RMSE para 2 vizinhos é G3    3.099617\n",
      "dtype: float64\n",
      "o RMSE para 3 vizinhos é G3    3.184334\n",
      "dtype: float64\n",
      "o RMSE para 4 vizinhos é G3    3.057791\n",
      "dtype: float64\n",
      "o RMSE para 5 vizinhos é G3    2.973691\n",
      "dtype: float64\n",
      "o RMSE para 6 vizinhos é G3    2.903789\n",
      "dtype: float64\n",
      "o RMSE para 7 vizinhos é G3    2.814632\n",
      "dtype: float64\n",
      "o RMSE para 8 vizinhos é G3    2.805396\n",
      "dtype: float64\n",
      "o RMSE para 9 vizinhos é G3    2.76827\n",
      "dtype: float64\n",
      "o RMSE para 10 vizinhos é G3    2.723499\n",
      "dtype: float64\n",
      "o RMSE para 11 vizinhos é G3    2.725763\n",
      "dtype: float64\n",
      "o RMSE para 12 vizinhos é G3    2.710622\n",
      "dtype: float64\n",
      "o RMSE para 13 vizinhos é G3    2.702034\n",
      "dtype: float64\n",
      "o RMSE para 14 vizinhos é G3    2.707353\n",
      "dtype: float64\n",
      "o RMSE para 15 vizinhos é G3    2.714091\n",
      "dtype: float64\n",
      "o RMSE para 16 vizinhos é G3    2.718391\n",
      "dtype: float64\n",
      "o RMSE para 17 vizinhos é G3    2.716776\n",
      "dtype: float64\n",
      "o RMSE para 18 vizinhos é G3    2.712715\n",
      "dtype: float64\n",
      "o RMSE para 19 vizinhos é G3    2.700007\n",
      "dtype: float64\n",
      "o RMSE para 20 vizinhos é G3    2.696296\n",
      "dtype: float64\n",
      "o RMSE para 21 vizinhos é G3    2.694399\n",
      "dtype: float64\n",
      "o RMSE para 22 vizinhos é G3    2.710322\n",
      "dtype: float64\n",
      "o RMSE para 23 vizinhos é G3    2.711144\n",
      "dtype: float64\n",
      "o RMSE para 24 vizinhos é G3    2.718231\n",
      "dtype: float64\n",
      "o RMSE para 25 vizinhos é G3    2.709936\n",
      "dtype: float64\n",
      "o RMSE para 26 vizinhos é G3    2.714658\n",
      "dtype: float64\n",
      "o RMSE para 27 vizinhos é G3    2.706021\n",
      "dtype: float64\n",
      "o RMSE para 28 vizinhos é G3    2.70457\n",
      "dtype: float64\n",
      "o RMSE para 29 vizinhos é G3    2.699652\n",
      "dtype: float64\n",
      "o RMSE para 30 vizinhos é G3    2.696977\n",
      "dtype: float64\n",
      "o RMSE para 31 vizinhos é G3    2.701397\n",
      "dtype: float64\n",
      "o RMSE para 32 vizinhos é G3    2.698475\n",
      "dtype: float64\n",
      "o RMSE para 33 vizinhos é G3    2.691358\n",
      "dtype: float64\n",
      "o RMSE para 34 vizinhos é G3    2.70577\n",
      "dtype: float64\n",
      "o RMSE para 35 vizinhos é G3    2.696004\n",
      "dtype: float64\n",
      "o RMSE para 36 vizinhos é G3    2.691784\n",
      "dtype: float64\n",
      "o RMSE para 37 vizinhos é G3    2.688689\n",
      "dtype: float64\n",
      "o RMSE para 38 vizinhos é G3    2.688378\n",
      "dtype: float64\n",
      "o RMSE para 39 vizinhos é G3    2.697645\n",
      "dtype: float64\n",
      "o RMSE para 40 vizinhos é G3    2.697095\n",
      "dtype: float64\n",
      "o RMSE para 41 vizinhos é G3    2.691182\n",
      "dtype: float64\n",
      "o RMSE para 42 vizinhos é G3    2.701028\n",
      "dtype: float64\n",
      "o RMSE para 43 vizinhos é G3    2.697853\n",
      "dtype: float64\n",
      "o RMSE para 44 vizinhos é G3    2.694299\n",
      "dtype: float64\n",
      "o RMSE para 45 vizinhos é G3    2.695927\n",
      "dtype: float64\n",
      "o RMSE para 46 vizinhos é G3    2.691543\n",
      "dtype: float64\n",
      "o RMSE para 47 vizinhos é G3    2.697101\n",
      "dtype: float64\n",
      "o RMSE para 48 vizinhos é G3    2.698196\n",
      "dtype: float64\n",
      "o RMSE para 49 vizinhos é G3    2.695494\n",
      "dtype: float64\n",
      "o RMSE para 50 vizinhos é G3    2.697548\n",
      "dtype: float64\n",
      "o RMSE para 51 vizinhos é G3    2.699271\n",
      "dtype: float64\n",
      "o RMSE para 52 vizinhos é G3    2.702623\n",
      "dtype: float64\n",
      "o RMSE para 53 vizinhos é G3    2.694378\n",
      "dtype: float64\n",
      "o RMSE para 54 vizinhos é G3    2.700889\n",
      "dtype: float64\n",
      "o RMSE para 55 vizinhos é G3    2.704911\n",
      "dtype: float64\n",
      "o RMSE para 56 vizinhos é G3    2.702016\n",
      "dtype: float64\n",
      "o RMSE para 57 vizinhos é G3    2.71121\n",
      "dtype: float64\n",
      "o RMSE para 58 vizinhos é G3    2.702096\n",
      "dtype: float64\n",
      "o RMSE para 59 vizinhos é G3    2.711756\n",
      "dtype: float64\n",
      "o RMSE para 60 vizinhos é G3    2.714496\n",
      "dtype: float64\n",
      "o RMSE para 61 vizinhos é G3    2.708959\n",
      "dtype: float64\n",
      "o RMSE para 62 vizinhos é G3    2.710831\n",
      "dtype: float64\n",
      "o RMSE para 63 vizinhos é G3    2.71234\n",
      "dtype: float64\n",
      "o RMSE para 64 vizinhos é G3    2.712763\n",
      "dtype: float64\n",
      "o RMSE para 65 vizinhos é G3    2.710679\n",
      "dtype: float64\n",
      "o RMSE para 66 vizinhos é G3    2.716165\n",
      "dtype: float64\n",
      "o RMSE para 67 vizinhos é G3    2.71211\n",
      "dtype: float64\n",
      "o RMSE para 68 vizinhos é G3    2.715517\n",
      "dtype: float64\n",
      "o RMSE para 69 vizinhos é G3    2.711885\n",
      "dtype: float64\n",
      "o RMSE para 70 vizinhos é G3    2.708612\n",
      "dtype: float64\n",
      "o RMSE para 71 vizinhos é G3    2.712446\n",
      "dtype: float64\n",
      "o RMSE para 72 vizinhos é G3    2.714258\n",
      "dtype: float64\n",
      "o RMSE para 73 vizinhos é G3    2.708865\n",
      "dtype: float64\n",
      "o RMSE para 74 vizinhos é G3    2.71254\n",
      "dtype: float64\n",
      "o RMSE para 75 vizinhos é G3    2.709562\n",
      "dtype: float64\n",
      "o RMSE para 76 vizinhos é G3    2.713669\n",
      "dtype: float64\n",
      "o RMSE para 77 vizinhos é G3    2.708912\n",
      "dtype: float64\n",
      "o RMSE para 78 vizinhos é G3    2.709664\n",
      "dtype: float64\n",
      "o RMSE para 79 vizinhos é G3    2.710429\n",
      "dtype: float64\n",
      "o RMSE para 80 vizinhos é G3    2.706737\n",
      "dtype: float64\n",
      "o RMSE para 81 vizinhos é G3    2.71102\n",
      "dtype: float64\n",
      "o RMSE para 82 vizinhos é G3    2.711008\n",
      "dtype: float64\n",
      "o RMSE para 83 vizinhos é G3    2.713659\n",
      "dtype: float64\n",
      "o RMSE para 84 vizinhos é G3    2.714924\n",
      "dtype: float64\n",
      "o RMSE para 85 vizinhos é G3    2.713665\n",
      "dtype: float64\n",
      "o RMSE para 86 vizinhos é G3    2.712837\n",
      "dtype: float64\n",
      "o RMSE para 87 vizinhos é G3    2.711205\n",
      "dtype: float64\n",
      "o RMSE para 88 vizinhos é G3    2.711004\n",
      "dtype: float64\n",
      "o RMSE para 89 vizinhos é G3    2.711194\n",
      "dtype: float64\n",
      "o RMSE para 90 vizinhos é G3    2.710146\n",
      "dtype: float64\n",
      "o RMSE para 91 vizinhos é G3    2.70964\n",
      "dtype: float64\n",
      "o RMSE para 92 vizinhos é G3    2.711339\n",
      "dtype: float64\n",
      "o RMSE para 93 vizinhos é G3    2.717423\n",
      "dtype: float64\n",
      "o RMSE para 94 vizinhos é G3    2.710239\n",
      "dtype: float64\n",
      "o RMSE para 95 vizinhos é G3    2.712308\n",
      "dtype: float64\n",
      "o RMSE para 96 vizinhos é G3    2.710289\n",
      "dtype: float64\n",
      "o RMSE para 97 vizinhos é G3    2.707364\n",
      "dtype: float64\n",
      "o RMSE para 98 vizinhos é G3    2.707131\n",
      "dtype: float64\n",
      "o RMSE para 99 vizinhos é G3    2.70907\n",
      "dtype: float64\n",
      "o RMSE para 100 vizinhos é G3    2.709885\n",
      "dtype: float64\n",
      "o RMSE para 101 vizinhos é G3    2.710368\n",
      "dtype: float64\n",
      "o RMSE para 102 vizinhos é G3    2.710503\n",
      "dtype: float64\n",
      "o RMSE para 103 vizinhos é G3    2.709333\n",
      "dtype: float64\n",
      "o RMSE para 104 vizinhos é G3    2.714731\n",
      "dtype: float64\n",
      "o RMSE para 105 vizinhos é G3    2.710345\n",
      "dtype: float64\n",
      "o RMSE para 106 vizinhos é G3    2.712355\n",
      "dtype: float64\n",
      "o RMSE para 107 vizinhos é G3    2.710758\n",
      "dtype: float64\n",
      "o RMSE para 108 vizinhos é G3    2.709794\n",
      "dtype: float64\n",
      "o RMSE para 109 vizinhos é G3    2.711156\n",
      "dtype: float64\n",
      "o RMSE para 110 vizinhos é G3    2.711134\n",
      "dtype: float64\n",
      "o RMSE para 111 vizinhos é G3    2.714473\n",
      "dtype: float64\n",
      "o RMSE para 112 vizinhos é G3    2.715403\n",
      "dtype: float64\n",
      "o RMSE para 113 vizinhos é G3    2.716792\n",
      "dtype: float64\n",
      "o RMSE para 114 vizinhos é G3    2.714951\n",
      "dtype: float64\n",
      "o RMSE para 115 vizinhos é G3    2.71542\n",
      "dtype: float64\n",
      "o RMSE para 116 vizinhos é G3    2.715264\n",
      "dtype: float64\n",
      "o RMSE para 117 vizinhos é G3    2.715023\n",
      "dtype: float64\n",
      "o RMSE para 118 vizinhos é G3    2.716324\n",
      "dtype: float64\n",
      "o RMSE para 119 vizinhos é G3    2.719491\n",
      "dtype: float64\n",
      "o RMSE para 120 vizinhos é G3    2.715624\n",
      "dtype: float64\n",
      "o RMSE para 121 vizinhos é G3    2.714702\n",
      "dtype: float64\n",
      "o RMSE para 122 vizinhos é G3    2.717731\n",
      "dtype: float64\n",
      "o RMSE para 123 vizinhos é G3    2.717254\n",
      "dtype: float64\n",
      "o RMSE para 124 vizinhos é G3    2.714292\n",
      "dtype: float64\n",
      "o RMSE para 125 vizinhos é G3    2.711867\n",
      "dtype: float64\n",
      "o RMSE para 126 vizinhos é G3    2.710414\n",
      "dtype: float64\n",
      "o RMSE para 127 vizinhos é G3    2.712976\n",
      "dtype: float64\n",
      "o RMSE para 128 vizinhos é G3    2.714509\n",
      "dtype: float64\n",
      "o RMSE para 129 vizinhos é G3    2.71502\n",
      "dtype: float64\n",
      "o RMSE para 130 vizinhos é G3    2.7134\n",
      "dtype: float64\n",
      "o RMSE para 131 vizinhos é G3    2.711805\n",
      "dtype: float64\n",
      "o RMSE para 132 vizinhos é G3    2.711144\n",
      "dtype: float64\n",
      "o RMSE para 133 vizinhos é G3    2.711856\n",
      "dtype: float64\n",
      "o RMSE para 134 vizinhos é G3    2.707049\n",
      "dtype: float64\n",
      "o RMSE para 135 vizinhos é G3    2.711054\n",
      "dtype: float64\n",
      "o RMSE para 136 vizinhos é G3    2.711939\n",
      "dtype: float64\n",
      "o RMSE para 137 vizinhos é G3    2.711012\n",
      "dtype: float64\n",
      "o RMSE para 138 vizinhos é G3    2.708072\n",
      "dtype: float64\n",
      "o RMSE para 139 vizinhos é G3    2.709869\n",
      "dtype: float64\n",
      "o RMSE para 140 vizinhos é G3    2.713319\n",
      "dtype: float64\n",
      "o RMSE para 141 vizinhos é G3    2.71403\n",
      "dtype: float64\n",
      "o RMSE para 142 vizinhos é G3    2.711906\n",
      "dtype: float64\n",
      "o RMSE para 143 vizinhos é G3    2.71318\n",
      "dtype: float64\n",
      "o RMSE para 144 vizinhos é G3    2.710808\n",
      "dtype: float64\n",
      "o RMSE para 145 vizinhos é G3    2.710618\n",
      "dtype: float64\n",
      "o RMSE para 146 vizinhos é G3    2.713064\n",
      "dtype: float64\n",
      "o RMSE para 147 vizinhos é G3    2.71267\n",
      "dtype: float64\n",
      "o RMSE para 148 vizinhos é G3    2.712005\n",
      "dtype: float64\n",
      "o RMSE para 149 vizinhos é G3    2.714461\n",
      "dtype: float64\n",
      "o RMSE para 150 vizinhos é G3    2.713623\n",
      "dtype: float64\n",
      "o RMSE para 151 vizinhos é G3    2.712263\n",
      "dtype: float64\n"
     ]
    },
    {
     "name": "stdout",
     "output_type": "stream",
     "text": [
      "o RMSE para 152 vizinhos é G3    2.71661\n",
      "dtype: float64\n",
      "o RMSE para 153 vizinhos é G3    2.716275\n",
      "dtype: float64\n",
      "o RMSE para 154 vizinhos é G3    2.719618\n",
      "dtype: float64\n",
      "o RMSE para 155 vizinhos é G3    2.717917\n",
      "dtype: float64\n",
      "o RMSE para 156 vizinhos é G3    2.719938\n",
      "dtype: float64\n",
      "o RMSE para 157 vizinhos é G3    2.719184\n",
      "dtype: float64\n",
      "o RMSE para 158 vizinhos é G3    2.717477\n",
      "dtype: float64\n",
      "o RMSE para 159 vizinhos é G3    2.719423\n",
      "dtype: float64\n",
      "o RMSE para 160 vizinhos é G3    2.716866\n",
      "dtype: float64\n",
      "o RMSE para 161 vizinhos é G3    2.716673\n",
      "dtype: float64\n",
      "o RMSE para 162 vizinhos é G3    2.71612\n",
      "dtype: float64\n",
      "o RMSE para 163 vizinhos é G3    2.717306\n",
      "dtype: float64\n",
      "o RMSE para 164 vizinhos é G3    2.717846\n",
      "dtype: float64\n",
      "o RMSE para 165 vizinhos é G3    2.717861\n",
      "dtype: float64\n",
      "o RMSE para 166 vizinhos é G3    2.719553\n",
      "dtype: float64\n",
      "o RMSE para 167 vizinhos é G3    2.719549\n",
      "dtype: float64\n",
      "o RMSE para 168 vizinhos é G3    2.721264\n",
      "dtype: float64\n",
      "o RMSE para 169 vizinhos é G3    2.720352\n",
      "dtype: float64\n",
      "o RMSE para 170 vizinhos é G3    2.721253\n",
      "dtype: float64\n",
      "o RMSE para 171 vizinhos é G3    2.719642\n",
      "dtype: float64\n",
      "o RMSE para 172 vizinhos é G3    2.720255\n",
      "dtype: float64\n",
      "o RMSE para 173 vizinhos é G3    2.721015\n",
      "dtype: float64\n",
      "o RMSE para 174 vizinhos é G3    2.721092\n",
      "dtype: float64\n",
      "o RMSE para 175 vizinhos é G3    2.722722\n",
      "dtype: float64\n",
      "o RMSE para 176 vizinhos é G3    2.721852\n",
      "dtype: float64\n",
      "o RMSE para 177 vizinhos é G3    2.721454\n",
      "dtype: float64\n",
      "o RMSE para 178 vizinhos é G3    2.721612\n",
      "dtype: float64\n",
      "o RMSE para 179 vizinhos é G3    2.721641\n",
      "dtype: float64\n",
      "o RMSE para 180 vizinhos é G3    2.722634\n",
      "dtype: float64\n",
      "o RMSE para 181 vizinhos é G3    2.723976\n",
      "dtype: float64\n",
      "o RMSE para 182 vizinhos é G3    2.724917\n",
      "dtype: float64\n",
      "o RMSE para 183 vizinhos é G3    2.720279\n",
      "dtype: float64\n",
      "o RMSE para 184 vizinhos é G3    2.720827\n",
      "dtype: float64\n",
      "o RMSE para 185 vizinhos é G3    2.722585\n",
      "dtype: float64\n",
      "o RMSE para 186 vizinhos é G3    2.72374\n",
      "dtype: float64\n",
      "o RMSE para 187 vizinhos é G3    2.726515\n",
      "dtype: float64\n",
      "o RMSE para 188 vizinhos é G3    2.725225\n",
      "dtype: float64\n",
      "o RMSE para 189 vizinhos é G3    2.726084\n",
      "dtype: float64\n",
      "o RMSE para 190 vizinhos é G3    2.724689\n",
      "dtype: float64\n",
      "o RMSE para 191 vizinhos é G3    2.726665\n",
      "dtype: float64\n",
      "o RMSE para 192 vizinhos é G3    2.728009\n",
      "dtype: float64\n",
      "o RMSE para 193 vizinhos é G3    2.727705\n",
      "dtype: float64\n",
      "o RMSE para 194 vizinhos é G3    2.726686\n",
      "dtype: float64\n",
      "o RMSE para 195 vizinhos é G3    2.728408\n",
      "dtype: float64\n",
      "o RMSE para 196 vizinhos é G3    2.728784\n",
      "dtype: float64\n",
      "o RMSE para 197 vizinhos é G3    2.72878\n",
      "dtype: float64\n",
      "o RMSE para 198 vizinhos é G3    2.729079\n",
      "dtype: float64\n",
      "o RMSE para 199 vizinhos é G3    2.731294\n",
      "dtype: float64\n",
      "o RMSE para 200 vizinhos é G3    2.731022\n",
      "dtype: float64\n",
      "o RMSE para 201 vizinhos é G3    2.730536\n",
      "dtype: float64\n",
      "o RMSE para 202 vizinhos é G3    2.73003\n",
      "dtype: float64\n",
      "o RMSE para 203 vizinhos é G3    2.731461\n",
      "dtype: float64\n",
      "o RMSE para 204 vizinhos é G3    2.730987\n",
      "dtype: float64\n",
      "o RMSE para 205 vizinhos é G3    2.728212\n",
      "dtype: float64\n",
      "o RMSE para 206 vizinhos é G3    2.72787\n",
      "dtype: float64\n",
      "o RMSE para 207 vizinhos é G3    2.72589\n",
      "dtype: float64\n",
      "o RMSE para 208 vizinhos é G3    2.729271\n",
      "dtype: float64\n",
      "o RMSE para 209 vizinhos é G3    2.72789\n",
      "dtype: float64\n",
      "o RMSE para 210 vizinhos é G3    2.728839\n",
      "dtype: float64\n",
      "o RMSE para 211 vizinhos é G3    2.728665\n",
      "dtype: float64\n",
      "o RMSE para 212 vizinhos é G3    2.730126\n",
      "dtype: float64\n",
      "o RMSE para 213 vizinhos é G3    2.730068\n",
      "dtype: float64\n",
      "o RMSE para 214 vizinhos é G3    2.731353\n",
      "dtype: float64\n",
      "o RMSE para 215 vizinhos é G3    2.72993\n",
      "dtype: float64\n",
      "o RMSE para 216 vizinhos é G3    2.729495\n",
      "dtype: float64\n",
      "o RMSE para 217 vizinhos é G3    2.729176\n",
      "dtype: float64\n",
      "o RMSE para 218 vizinhos é G3    2.727741\n",
      "dtype: float64\n",
      "o RMSE para 219 vizinhos é G3    2.729783\n",
      "dtype: float64\n",
      "o RMSE para 220 vizinhos é G3    2.72963\n",
      "dtype: float64\n",
      "o RMSE para 221 vizinhos é G3    2.732413\n",
      "dtype: float64\n",
      "o RMSE para 222 vizinhos é G3    2.731295\n",
      "dtype: float64\n",
      "o RMSE para 223 vizinhos é G3    2.729682\n",
      "dtype: float64\n",
      "o RMSE para 224 vizinhos é G3    2.730398\n",
      "dtype: float64\n",
      "o RMSE para 225 vizinhos é G3    2.730285\n",
      "dtype: float64\n",
      "o RMSE para 226 vizinhos é G3    2.732711\n",
      "dtype: float64\n",
      "o RMSE para 227 vizinhos é G3    2.733044\n",
      "dtype: float64\n",
      "o RMSE para 228 vizinhos é G3    2.733319\n",
      "dtype: float64\n",
      "o RMSE para 229 vizinhos é G3    2.732453\n",
      "dtype: float64\n",
      "o RMSE para 230 vizinhos é G3    2.732811\n",
      "dtype: float64\n",
      "o RMSE para 231 vizinhos é G3    2.732464\n",
      "dtype: float64\n",
      "o RMSE para 232 vizinhos é G3    2.731052\n",
      "dtype: float64\n",
      "o RMSE para 233 vizinhos é G3    2.730261\n",
      "dtype: float64\n",
      "o RMSE para 234 vizinhos é G3    2.731888\n",
      "dtype: float64\n",
      "o RMSE para 235 vizinhos é G3    2.732056\n",
      "dtype: float64\n",
      "o RMSE para 236 vizinhos é G3    2.732813\n",
      "dtype: float64\n",
      "o RMSE para 237 vizinhos é G3    2.733116\n",
      "dtype: float64\n",
      "o RMSE para 238 vizinhos é G3    2.733164\n",
      "dtype: float64\n",
      "o RMSE para 239 vizinhos é G3    2.734221\n",
      "dtype: float64\n",
      "o RMSE para 240 vizinhos é G3    2.734366\n",
      "dtype: float64\n",
      "o RMSE para 241 vizinhos é G3    2.733815\n",
      "dtype: float64\n",
      "o RMSE para 242 vizinhos é G3    2.734118\n",
      "dtype: float64\n",
      "o RMSE para 243 vizinhos é G3    2.735559\n",
      "dtype: float64\n",
      "o RMSE para 244 vizinhos é G3    2.734999\n",
      "dtype: float64\n",
      "o RMSE para 245 vizinhos é G3    2.734558\n",
      "dtype: float64\n",
      "o RMSE para 246 vizinhos é G3    2.73423\n",
      "dtype: float64\n",
      "o RMSE para 247 vizinhos é G3    2.735074\n",
      "dtype: float64\n",
      "o RMSE para 248 vizinhos é G3    2.736085\n",
      "dtype: float64\n",
      "o RMSE para 249 vizinhos é G3    2.735832\n",
      "dtype: float64\n",
      "o RMSE para 250 vizinhos é G3    2.734646\n",
      "dtype: float64\n",
      "o RMSE para 251 vizinhos é G3    2.735581\n",
      "dtype: float64\n",
      "o RMSE para 252 vizinhos é G3    2.737203\n",
      "dtype: float64\n",
      "o RMSE para 253 vizinhos é G3    2.736465\n",
      "dtype: float64\n",
      "o RMSE para 254 vizinhos é G3    2.73532\n",
      "dtype: float64\n",
      "o RMSE para 255 vizinhos é G3    2.735021\n",
      "dtype: float64\n",
      "o RMSE para 256 vizinhos é G3    2.737149\n",
      "dtype: float64\n",
      "o RMSE para 257 vizinhos é G3    2.736368\n",
      "dtype: float64\n",
      "o RMSE para 258 vizinhos é G3    2.736984\n",
      "dtype: float64\n",
      "o RMSE para 259 vizinhos é G3    2.736357\n",
      "dtype: float64\n",
      "o RMSE para 260 vizinhos é G3    2.736241\n",
      "dtype: float64\n",
      "o RMSE para 261 vizinhos é G3    2.736865\n",
      "dtype: float64\n",
      "o RMSE para 262 vizinhos é G3    2.737124\n",
      "dtype: float64\n",
      "o RMSE para 263 vizinhos é G3    2.737021\n",
      "dtype: float64\n",
      "o RMSE para 264 vizinhos é G3    2.737456\n",
      "dtype: float64\n",
      "o RMSE para 265 vizinhos é G3    2.739411\n",
      "dtype: float64\n",
      "o RMSE para 266 vizinhos é G3    2.739651\n",
      "dtype: float64\n",
      "o RMSE para 267 vizinhos é G3    2.738995\n",
      "dtype: float64\n",
      "o RMSE para 268 vizinhos é G3    2.737519\n",
      "dtype: float64\n",
      "o RMSE para 269 vizinhos é G3    2.737645\n",
      "dtype: float64\n",
      "o RMSE para 270 vizinhos é G3    2.73961\n",
      "dtype: float64\n",
      "o RMSE para 271 vizinhos é G3    2.736801\n",
      "dtype: float64\n",
      "o RMSE para 272 vizinhos é G3    2.739891\n",
      "dtype: float64\n",
      "o RMSE para 273 vizinhos é G3    2.738827\n",
      "dtype: float64\n",
      "o RMSE para 274 vizinhos é G3    2.740261\n",
      "dtype: float64\n",
      "o RMSE para 275 vizinhos é G3    2.741846\n",
      "dtype: float64\n",
      "o RMSE para 276 vizinhos é G3    2.739899\n",
      "dtype: float64\n",
      "o RMSE para 277 vizinhos é G3    2.741276\n",
      "dtype: float64\n",
      "o RMSE para 278 vizinhos é G3    2.742955\n",
      "dtype: float64\n",
      "o RMSE para 279 vizinhos é G3    2.742329\n",
      "dtype: float64\n",
      "o RMSE para 280 vizinhos é G3    2.742223\n",
      "dtype: float64\n",
      "o RMSE para 281 vizinhos é G3    2.742945\n",
      "dtype: float64\n",
      "o RMSE para 282 vizinhos é G3    2.743055\n",
      "dtype: float64\n",
      "o RMSE para 283 vizinhos é G3    2.741964\n",
      "dtype: float64\n",
      "o RMSE para 284 vizinhos é G3    2.742499\n",
      "dtype: float64\n",
      "o RMSE para 285 vizinhos é G3    2.743712\n",
      "dtype: float64\n",
      "o RMSE para 286 vizinhos é G3    2.7453\n",
      "dtype: float64\n",
      "o RMSE para 287 vizinhos é G3    2.743793\n",
      "dtype: float64\n",
      "o RMSE para 288 vizinhos é G3    2.745056\n",
      "dtype: float64\n",
      "o RMSE para 289 vizinhos é G3    2.745385\n",
      "dtype: float64\n",
      "o RMSE para 290 vizinhos é G3    2.745885\n",
      "dtype: float64\n",
      "o RMSE para 291 vizinhos é G3    2.747548\n",
      "dtype: float64\n",
      "o RMSE para 292 vizinhos é G3    2.746908\n",
      "dtype: float64\n",
      "o RMSE para 293 vizinhos é G3    2.748003\n",
      "dtype: float64\n",
      "o RMSE para 294 vizinhos é G3    2.747947\n",
      "dtype: float64\n",
      "o RMSE para 295 vizinhos é G3    2.74801\n",
      "dtype: float64\n",
      "o RMSE para 296 vizinhos é G3    2.748313\n",
      "dtype: float64\n",
      "o RMSE para 297 vizinhos é G3    2.750382\n",
      "dtype: float64\n",
      "o RMSE para 298 vizinhos é G3    2.750769\n",
      "dtype: float64\n"
     ]
    },
    {
     "name": "stdout",
     "output_type": "stream",
     "text": [
      "o RMSE para 299 vizinhos é G3    2.750484\n",
      "dtype: float64\n",
      "o RMSE para 300 vizinhos é G3    2.751149\n",
      "dtype: float64\n"
     ]
    }
   ],
   "source": [
    "\n",
    "\n",
    "for vizinho in range(300):\n",
    "    knn=KNeighborsRegressor(n_neighbors=vizinho+1)\n",
    "    knn.fit(x_traink1,y_targetk1)\n",
    "    y_predk1=knn.predict(x_traink1)\n",
    "    rmse=RMSE(y=y_targetk1,y_pred=y_predk1)\n",
    "    print('o RMSE para',vizinho+1,'vizinhos','é',rmse)\n",
    "    \n"
   ]
  },
  {
   "cell_type": "code",
   "execution_count": 70,
   "metadata": {},
   "outputs": [],
   "source": [
    "#37 e 38   foram os que possíram menor RMSE"
   ]
  },
  {
   "cell_type": "markdown",
   "metadata": {},
   "source": [
    "# 5.1) Teste!!\n",
    "\n",
    "No modelo de treino podemos ver que os modelos que tiveram menores RMSE foram aqueles com 37 e 38 vizinhos, tendo RMSE de 2.68.\n",
    "\n",
    "Pois agora iremos para o teste e com estes modelos."
   ]
  },
  {
   "cell_type": "code",
   "execution_count": 71,
   "metadata": {},
   "outputs": [],
   "source": [
    "x_testk1=df_test[['studytime','age','traveltime','romantic_bin','internet_bin']]\n",
    "y_targetk2=df_test[['G3']]"
   ]
  },
  {
   "cell_type": "code",
   "execution_count": 72,
   "metadata": {},
   "outputs": [],
   "source": [
    "knn=KNeighborsRegressor(n_neighbors=37)\n"
   ]
  },
  {
   "cell_type": "code",
   "execution_count": 73,
   "metadata": {},
   "outputs": [
    {
     "data": {
      "text/plain": [
       "KNeighborsRegressor(n_neighbors=37)"
      ]
     },
     "execution_count": 73,
     "metadata": {},
     "output_type": "execute_result"
    }
   ],
   "source": [
    "knn.fit(x_testk1,y_targetk2)\n"
   ]
  },
  {
   "cell_type": "code",
   "execution_count": 74,
   "metadata": {},
   "outputs": [],
   "source": [
    "y_predk2=knn.predict(x_testk1)"
   ]
  },
  {
   "cell_type": "code",
   "execution_count": 75,
   "metadata": {},
   "outputs": [
    {
     "data": {
      "text/plain": [
       "G3    2.589106\n",
       "dtype: float64"
      ]
     },
     "execution_count": 75,
     "metadata": {},
     "output_type": "execute_result"
    }
   ],
   "source": [
    "RMSE(y=y_targetk2,y_pred=y_predk2)"
   ]
  },
  {
   "cell_type": "markdown",
   "metadata": {},
   "source": [
    "O RMSE para 37 vizinhos foi de 2.5891, ficando abaixo do veríficado no dataframe de treino.\n",
    "Aparenta estar trabalhando bem."
   ]
  },
  {
   "cell_type": "code",
   "execution_count": 76,
   "metadata": {},
   "outputs": [],
   "source": [
    "knn=KNeighborsRegressor(n_neighbors=38)\n"
   ]
  },
  {
   "cell_type": "code",
   "execution_count": 77,
   "metadata": {},
   "outputs": [
    {
     "data": {
      "text/plain": [
       "KNeighborsRegressor(n_neighbors=38)"
      ]
     },
     "execution_count": 77,
     "metadata": {},
     "output_type": "execute_result"
    }
   ],
   "source": [
    "knn.fit(x_testk1,y_targetk2)\n"
   ]
  },
  {
   "cell_type": "code",
   "execution_count": 78,
   "metadata": {},
   "outputs": [],
   "source": [
    "y_predk3=knn.predict(x_testk1)"
   ]
  },
  {
   "cell_type": "code",
   "execution_count": 79,
   "metadata": {},
   "outputs": [
    {
     "data": {
      "text/plain": [
       "G3    2.570075\n",
       "dtype: float64"
      ]
     },
     "execution_count": 79,
     "metadata": {},
     "output_type": "execute_result"
    }
   ],
   "source": [
    "RMSE(y=y_targetk2,y_pred=y_predk3)"
   ]
  },
  {
   "cell_type": "markdown",
   "metadata": {},
   "source": [
    "O modelo que performou melhor foi o com 38 vizinhos, ficando com RMSE de 2.570.\n",
    "\n",
    "Iremos agora visualiza-lo e comparar com o resultado original."
   ]
  },
  {
   "cell_type": "markdown",
   "metadata": {},
   "source": [
    "# 5.2) Resultado!"
   ]
  },
  {
   "cell_type": "code",
   "execution_count": 80,
   "metadata": {},
   "outputs": [],
   "source": [
    "df_resultado1=pd.DataFrame({'G3_real':df_test['G3'],\"G3_previsto\":y_predk3.tolist()})"
   ]
  },
  {
   "cell_type": "code",
   "execution_count": 81,
   "metadata": {},
   "outputs": [
    {
     "data": {
      "text/html": [
       "<div>\n",
       "<style scoped>\n",
       "    .dataframe tbody tr th:only-of-type {\n",
       "        vertical-align: middle;\n",
       "    }\n",
       "\n",
       "    .dataframe tbody tr th {\n",
       "        vertical-align: top;\n",
       "    }\n",
       "\n",
       "    .dataframe thead th {\n",
       "        text-align: right;\n",
       "    }\n",
       "</style>\n",
       "<table border=\"1\" class=\"dataframe\">\n",
       "  <thead>\n",
       "    <tr style=\"text-align: right;\">\n",
       "      <th></th>\n",
       "      <th>G3_real</th>\n",
       "      <th>G3_previsto</th>\n",
       "    </tr>\n",
       "  </thead>\n",
       "  <tbody>\n",
       "    <tr>\n",
       "      <th>783</th>\n",
       "      <td>12</td>\n",
       "      <td>[12.210526315789474]</td>\n",
       "    </tr>\n",
       "    <tr>\n",
       "      <th>784</th>\n",
       "      <td>12</td>\n",
       "      <td>[12.131578947368421]</td>\n",
       "    </tr>\n",
       "    <tr>\n",
       "      <th>785</th>\n",
       "      <td>14</td>\n",
       "      <td>[13.026315789473685]</td>\n",
       "    </tr>\n",
       "    <tr>\n",
       "      <th>786</th>\n",
       "      <td>14</td>\n",
       "      <td>[12.447368421052632]</td>\n",
       "    </tr>\n",
       "    <tr>\n",
       "      <th>787</th>\n",
       "      <td>15</td>\n",
       "      <td>[11.921052631578947]</td>\n",
       "    </tr>\n",
       "    <tr>\n",
       "      <th>...</th>\n",
       "      <td>...</td>\n",
       "      <td>...</td>\n",
       "    </tr>\n",
       "    <tr>\n",
       "      <th>1039</th>\n",
       "      <td>10</td>\n",
       "      <td>[13.105263157894736]</td>\n",
       "    </tr>\n",
       "    <tr>\n",
       "      <th>1040</th>\n",
       "      <td>16</td>\n",
       "      <td>[12.210526315789474]</td>\n",
       "    </tr>\n",
       "    <tr>\n",
       "      <th>1041</th>\n",
       "      <td>9</td>\n",
       "      <td>[10.947368421052632]</td>\n",
       "    </tr>\n",
       "    <tr>\n",
       "      <th>1042</th>\n",
       "      <td>10</td>\n",
       "      <td>[11.631578947368421]</td>\n",
       "    </tr>\n",
       "    <tr>\n",
       "      <th>1043</th>\n",
       "      <td>11</td>\n",
       "      <td>[10.236842105263158]</td>\n",
       "    </tr>\n",
       "  </tbody>\n",
       "</table>\n",
       "<p>261 rows × 2 columns</p>\n",
       "</div>"
      ],
      "text/plain": [
       "      G3_real           G3_previsto\n",
       "783        12  [12.210526315789474]\n",
       "784        12  [12.131578947368421]\n",
       "785        14  [13.026315789473685]\n",
       "786        14  [12.447368421052632]\n",
       "787        15  [11.921052631578947]\n",
       "...       ...                   ...\n",
       "1039       10  [13.105263157894736]\n",
       "1040       16  [12.210526315789474]\n",
       "1041        9  [10.947368421052632]\n",
       "1042       10  [11.631578947368421]\n",
       "1043       11  [10.236842105263158]\n",
       "\n",
       "[261 rows x 2 columns]"
      ]
     },
     "execution_count": 81,
     "metadata": {},
     "output_type": "execute_result"
    }
   ],
   "source": [
    "df_resultado1"
   ]
  },
  {
   "cell_type": "markdown",
   "metadata": {},
   "source": [
    "# 6) Conclusão.\n",
    "\n",
    "O problema era conseguir prever a Média final do aluno com base em certas variáveis utilizando modelos de regressão linear, de forma imediata notamos que por mais que o modelo tenha apresentado um RMSE baixo quando escolhido a variável **studytime** foi possível visualziar que o modelo estava **overfittando**, isto é interpretando diversos ruidos.\n",
    "\n",
    "RMSE em regressão linear para a variável studytime: 2.687\n",
    "\n",
    "Visto tal situação, partimos para o modelo de KNN com 38 vizinhos, este que por sua vez performou melhor, possuindo um RMSE inferior ao obtido pela regressão linear e ainda foi possível reduzir estes ruídos.\n",
    "\n",
    "RMSE em KNN com 38 vizinhos: 2.570\n",
    "\n"
   ]
  },
  {
   "cell_type": "code",
   "execution_count": null,
   "metadata": {},
   "outputs": [],
   "source": []
  }
 ],
 "metadata": {
  "kernelspec": {
   "display_name": "Python 3",
   "language": "python",
   "name": "python3"
  },
  "language_info": {
   "codemirror_mode": {
    "name": "ipython",
    "version": 3
   },
   "file_extension": ".py",
   "mimetype": "text/x-python",
   "name": "python",
   "nbconvert_exporter": "python",
   "pygments_lexer": "ipython3",
   "version": "3.8.5"
  }
 },
 "nbformat": 4,
 "nbformat_minor": 4
}
